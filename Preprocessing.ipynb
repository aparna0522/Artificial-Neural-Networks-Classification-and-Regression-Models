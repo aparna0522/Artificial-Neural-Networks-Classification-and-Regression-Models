{
  "nbformat": 4,
  "nbformat_minor": 0,
  "metadata": {
    "colab": {
      "name": "Preprocessing.ipynb",
      "provenance": [],
      "collapsed_sections": []
    },
    "kernelspec": {
      "name": "python3",
      "display_name": "Python 3"
    }
  },
  "cells": [
    {
      "cell_type": "code",
      "metadata": {
        "id": "GeDnfppPXFwK",
        "colab_type": "code",
        "colab": {}
      },
      "source": [
        "import numpy as np\n",
        "import pandas as pd\n",
        "import seaborn as sns"
      ],
      "execution_count": 0,
      "outputs": []
    },
    {
      "cell_type": "code",
      "metadata": {
        "id": "B83x0MsrYW0i",
        "colab_type": "code",
        "colab": {}
      },
      "source": [
        "df = pd.read_csv('House_Price.csv',header=0)"
      ],
      "execution_count": 0,
      "outputs": []
    },
    {
      "cell_type": "code",
      "metadata": {
        "id": "8p_UeTHXZDSB",
        "colab_type": "code",
        "outputId": "c7e53f67-8462-4cad-ceea-961bef10496b",
        "colab": {
          "base_uri": "https://localhost:8080/",
          "height": 224
        }
      },
      "source": [
        "df.head()"
      ],
      "execution_count": 60,
      "outputs": [
        {
          "output_type": "execute_result",
          "data": {
            "text/html": [
              "<div>\n",
              "<style scoped>\n",
              "    .dataframe tbody tr th:only-of-type {\n",
              "        vertical-align: middle;\n",
              "    }\n",
              "\n",
              "    .dataframe tbody tr th {\n",
              "        vertical-align: top;\n",
              "    }\n",
              "\n",
              "    .dataframe thead th {\n",
              "        text-align: right;\n",
              "    }\n",
              "</style>\n",
              "<table border=\"1\" class=\"dataframe\">\n",
              "  <thead>\n",
              "    <tr style=\"text-align: right;\">\n",
              "      <th></th>\n",
              "      <th>price</th>\n",
              "      <th>crime_rate</th>\n",
              "      <th>resid_area</th>\n",
              "      <th>air_qual</th>\n",
              "      <th>room_num</th>\n",
              "      <th>age</th>\n",
              "      <th>dist1</th>\n",
              "      <th>dist2</th>\n",
              "      <th>dist3</th>\n",
              "      <th>dist4</th>\n",
              "      <th>teachers</th>\n",
              "      <th>poor_prop</th>\n",
              "      <th>airport</th>\n",
              "      <th>n_hos_beds</th>\n",
              "      <th>n_hot_rooms</th>\n",
              "      <th>waterbody</th>\n",
              "      <th>rainfall</th>\n",
              "      <th>bus_ter</th>\n",
              "      <th>parks</th>\n",
              "    </tr>\n",
              "  </thead>\n",
              "  <tbody>\n",
              "    <tr>\n",
              "      <th>0</th>\n",
              "      <td>24.0</td>\n",
              "      <td>0.00632</td>\n",
              "      <td>32.31</td>\n",
              "      <td>0.538</td>\n",
              "      <td>6.575</td>\n",
              "      <td>65.2</td>\n",
              "      <td>4.35</td>\n",
              "      <td>3.81</td>\n",
              "      <td>4.18</td>\n",
              "      <td>4.01</td>\n",
              "      <td>24.7</td>\n",
              "      <td>4.98</td>\n",
              "      <td>YES</td>\n",
              "      <td>5.480</td>\n",
              "      <td>11.1920</td>\n",
              "      <td>River</td>\n",
              "      <td>23</td>\n",
              "      <td>YES</td>\n",
              "      <td>0.049347</td>\n",
              "    </tr>\n",
              "    <tr>\n",
              "      <th>1</th>\n",
              "      <td>21.6</td>\n",
              "      <td>0.02731</td>\n",
              "      <td>37.07</td>\n",
              "      <td>0.469</td>\n",
              "      <td>6.421</td>\n",
              "      <td>78.9</td>\n",
              "      <td>4.99</td>\n",
              "      <td>4.70</td>\n",
              "      <td>5.12</td>\n",
              "      <td>5.06</td>\n",
              "      <td>22.2</td>\n",
              "      <td>9.14</td>\n",
              "      <td>NO</td>\n",
              "      <td>7.332</td>\n",
              "      <td>12.1728</td>\n",
              "      <td>Lake</td>\n",
              "      <td>42</td>\n",
              "      <td>YES</td>\n",
              "      <td>0.046146</td>\n",
              "    </tr>\n",
              "    <tr>\n",
              "      <th>2</th>\n",
              "      <td>34.7</td>\n",
              "      <td>0.02729</td>\n",
              "      <td>37.07</td>\n",
              "      <td>0.469</td>\n",
              "      <td>7.185</td>\n",
              "      <td>61.1</td>\n",
              "      <td>5.03</td>\n",
              "      <td>4.86</td>\n",
              "      <td>5.01</td>\n",
              "      <td>4.97</td>\n",
              "      <td>22.2</td>\n",
              "      <td>4.03</td>\n",
              "      <td>NO</td>\n",
              "      <td>7.394</td>\n",
              "      <td>101.1200</td>\n",
              "      <td>None</td>\n",
              "      <td>38</td>\n",
              "      <td>YES</td>\n",
              "      <td>0.045764</td>\n",
              "    </tr>\n",
              "    <tr>\n",
              "      <th>3</th>\n",
              "      <td>33.4</td>\n",
              "      <td>0.03237</td>\n",
              "      <td>32.18</td>\n",
              "      <td>0.458</td>\n",
              "      <td>6.998</td>\n",
              "      <td>45.8</td>\n",
              "      <td>6.21</td>\n",
              "      <td>5.93</td>\n",
              "      <td>6.16</td>\n",
              "      <td>5.96</td>\n",
              "      <td>21.3</td>\n",
              "      <td>2.94</td>\n",
              "      <td>YES</td>\n",
              "      <td>9.268</td>\n",
              "      <td>11.2672</td>\n",
              "      <td>Lake</td>\n",
              "      <td>45</td>\n",
              "      <td>YES</td>\n",
              "      <td>0.047151</td>\n",
              "    </tr>\n",
              "    <tr>\n",
              "      <th>4</th>\n",
              "      <td>36.2</td>\n",
              "      <td>0.06905</td>\n",
              "      <td>32.18</td>\n",
              "      <td>0.458</td>\n",
              "      <td>7.147</td>\n",
              "      <td>54.2</td>\n",
              "      <td>6.16</td>\n",
              "      <td>5.86</td>\n",
              "      <td>6.37</td>\n",
              "      <td>5.86</td>\n",
              "      <td>21.3</td>\n",
              "      <td>5.33</td>\n",
              "      <td>NO</td>\n",
              "      <td>8.824</td>\n",
              "      <td>11.2896</td>\n",
              "      <td>Lake</td>\n",
              "      <td>55</td>\n",
              "      <td>YES</td>\n",
              "      <td>0.039474</td>\n",
              "    </tr>\n",
              "  </tbody>\n",
              "</table>\n",
              "</div>"
            ],
            "text/plain": [
              "   price  crime_rate  resid_area  ...  rainfall  bus_ter     parks\n",
              "0   24.0     0.00632       32.31  ...        23      YES  0.049347\n",
              "1   21.6     0.02731       37.07  ...        42      YES  0.046146\n",
              "2   34.7     0.02729       37.07  ...        38      YES  0.045764\n",
              "3   33.4     0.03237       32.18  ...        45      YES  0.047151\n",
              "4   36.2     0.06905       32.18  ...        55      YES  0.039474\n",
              "\n",
              "[5 rows x 19 columns]"
            ]
          },
          "metadata": {
            "tags": []
          },
          "execution_count": 60
        }
      ]
    },
    {
      "cell_type": "code",
      "metadata": {
        "id": "Y3yvKMa8ZdNe",
        "colab_type": "code",
        "outputId": "03f5873d-340e-4e5c-d727-bdfb495c2b96",
        "colab": {
          "base_uri": "https://localhost:8080/",
          "height": 34
        }
      },
      "source": [
        "df.shape"
      ],
      "execution_count": 61,
      "outputs": [
        {
          "output_type": "execute_result",
          "data": {
            "text/plain": [
              "(506, 19)"
            ]
          },
          "metadata": {
            "tags": []
          },
          "execution_count": 61
        }
      ]
    },
    {
      "cell_type": "code",
      "metadata": {
        "id": "G1bjdv3DZhzA",
        "colab_type": "code",
        "outputId": "07c3ee19-5dac-4008-c8e7-f1f7940d180f",
        "colab": {
          "base_uri": "https://localhost:8080/",
          "height": 317
        }
      },
      "source": [
        "df.describe()"
      ],
      "execution_count": 62,
      "outputs": [
        {
          "output_type": "execute_result",
          "data": {
            "text/html": [
              "<div>\n",
              "<style scoped>\n",
              "    .dataframe tbody tr th:only-of-type {\n",
              "        vertical-align: middle;\n",
              "    }\n",
              "\n",
              "    .dataframe tbody tr th {\n",
              "        vertical-align: top;\n",
              "    }\n",
              "\n",
              "    .dataframe thead th {\n",
              "        text-align: right;\n",
              "    }\n",
              "</style>\n",
              "<table border=\"1\" class=\"dataframe\">\n",
              "  <thead>\n",
              "    <tr style=\"text-align: right;\">\n",
              "      <th></th>\n",
              "      <th>price</th>\n",
              "      <th>crime_rate</th>\n",
              "      <th>resid_area</th>\n",
              "      <th>air_qual</th>\n",
              "      <th>room_num</th>\n",
              "      <th>age</th>\n",
              "      <th>dist1</th>\n",
              "      <th>dist2</th>\n",
              "      <th>dist3</th>\n",
              "      <th>dist4</th>\n",
              "      <th>teachers</th>\n",
              "      <th>poor_prop</th>\n",
              "      <th>n_hos_beds</th>\n",
              "      <th>n_hot_rooms</th>\n",
              "      <th>rainfall</th>\n",
              "      <th>parks</th>\n",
              "    </tr>\n",
              "  </thead>\n",
              "  <tbody>\n",
              "    <tr>\n",
              "      <th>count</th>\n",
              "      <td>506.000000</td>\n",
              "      <td>506.000000</td>\n",
              "      <td>506.000000</td>\n",
              "      <td>506.000000</td>\n",
              "      <td>506.000000</td>\n",
              "      <td>506.000000</td>\n",
              "      <td>506.000000</td>\n",
              "      <td>506.000000</td>\n",
              "      <td>506.000000</td>\n",
              "      <td>506.000000</td>\n",
              "      <td>506.000000</td>\n",
              "      <td>506.000000</td>\n",
              "      <td>498.000000</td>\n",
              "      <td>506.000000</td>\n",
              "      <td>506.000000</td>\n",
              "      <td>506.000000</td>\n",
              "    </tr>\n",
              "    <tr>\n",
              "      <th>mean</th>\n",
              "      <td>22.528854</td>\n",
              "      <td>3.613524</td>\n",
              "      <td>41.136779</td>\n",
              "      <td>0.554695</td>\n",
              "      <td>6.284634</td>\n",
              "      <td>68.574901</td>\n",
              "      <td>3.971996</td>\n",
              "      <td>3.628775</td>\n",
              "      <td>3.960672</td>\n",
              "      <td>3.618972</td>\n",
              "      <td>21.544466</td>\n",
              "      <td>12.653063</td>\n",
              "      <td>7.899767</td>\n",
              "      <td>13.041605</td>\n",
              "      <td>39.181818</td>\n",
              "      <td>0.054454</td>\n",
              "    </tr>\n",
              "    <tr>\n",
              "      <th>std</th>\n",
              "      <td>9.182176</td>\n",
              "      <td>8.601545</td>\n",
              "      <td>6.860353</td>\n",
              "      <td>0.115878</td>\n",
              "      <td>0.702617</td>\n",
              "      <td>28.148861</td>\n",
              "      <td>2.108532</td>\n",
              "      <td>2.108580</td>\n",
              "      <td>2.119797</td>\n",
              "      <td>2.099203</td>\n",
              "      <td>2.164946</td>\n",
              "      <td>7.141062</td>\n",
              "      <td>1.476683</td>\n",
              "      <td>5.238957</td>\n",
              "      <td>12.513697</td>\n",
              "      <td>0.010632</td>\n",
              "    </tr>\n",
              "    <tr>\n",
              "      <th>min</th>\n",
              "      <td>5.000000</td>\n",
              "      <td>0.006320</td>\n",
              "      <td>30.460000</td>\n",
              "      <td>0.385000</td>\n",
              "      <td>3.561000</td>\n",
              "      <td>2.900000</td>\n",
              "      <td>1.130000</td>\n",
              "      <td>0.920000</td>\n",
              "      <td>1.150000</td>\n",
              "      <td>0.730000</td>\n",
              "      <td>18.000000</td>\n",
              "      <td>1.730000</td>\n",
              "      <td>5.268000</td>\n",
              "      <td>10.057600</td>\n",
              "      <td>3.000000</td>\n",
              "      <td>0.033292</td>\n",
              "    </tr>\n",
              "    <tr>\n",
              "      <th>25%</th>\n",
              "      <td>17.025000</td>\n",
              "      <td>0.082045</td>\n",
              "      <td>35.190000</td>\n",
              "      <td>0.449000</td>\n",
              "      <td>5.885500</td>\n",
              "      <td>45.025000</td>\n",
              "      <td>2.270000</td>\n",
              "      <td>1.940000</td>\n",
              "      <td>2.232500</td>\n",
              "      <td>1.940000</td>\n",
              "      <td>19.800000</td>\n",
              "      <td>6.950000</td>\n",
              "      <td>6.634500</td>\n",
              "      <td>11.189800</td>\n",
              "      <td>28.000000</td>\n",
              "      <td>0.046464</td>\n",
              "    </tr>\n",
              "    <tr>\n",
              "      <th>50%</th>\n",
              "      <td>21.200000</td>\n",
              "      <td>0.256510</td>\n",
              "      <td>39.690000</td>\n",
              "      <td>0.538000</td>\n",
              "      <td>6.208500</td>\n",
              "      <td>77.500000</td>\n",
              "      <td>3.385000</td>\n",
              "      <td>3.010000</td>\n",
              "      <td>3.375000</td>\n",
              "      <td>3.070000</td>\n",
              "      <td>20.950000</td>\n",
              "      <td>11.360000</td>\n",
              "      <td>7.999000</td>\n",
              "      <td>12.720000</td>\n",
              "      <td>39.000000</td>\n",
              "      <td>0.053507</td>\n",
              "    </tr>\n",
              "    <tr>\n",
              "      <th>75%</th>\n",
              "      <td>25.000000</td>\n",
              "      <td>3.677082</td>\n",
              "      <td>48.100000</td>\n",
              "      <td>0.624000</td>\n",
              "      <td>6.623500</td>\n",
              "      <td>94.075000</td>\n",
              "      <td>5.367500</td>\n",
              "      <td>4.992500</td>\n",
              "      <td>5.407500</td>\n",
              "      <td>4.985000</td>\n",
              "      <td>22.600000</td>\n",
              "      <td>16.955000</td>\n",
              "      <td>9.088000</td>\n",
              "      <td>14.170800</td>\n",
              "      <td>50.000000</td>\n",
              "      <td>0.061397</td>\n",
              "    </tr>\n",
              "    <tr>\n",
              "      <th>max</th>\n",
              "      <td>50.000000</td>\n",
              "      <td>88.976200</td>\n",
              "      <td>57.740000</td>\n",
              "      <td>0.871000</td>\n",
              "      <td>8.780000</td>\n",
              "      <td>100.000000</td>\n",
              "      <td>12.320000</td>\n",
              "      <td>11.930000</td>\n",
              "      <td>12.320000</td>\n",
              "      <td>11.940000</td>\n",
              "      <td>27.400000</td>\n",
              "      <td>37.970000</td>\n",
              "      <td>10.876000</td>\n",
              "      <td>101.120000</td>\n",
              "      <td>60.000000</td>\n",
              "      <td>0.086711</td>\n",
              "    </tr>\n",
              "  </tbody>\n",
              "</table>\n",
              "</div>"
            ],
            "text/plain": [
              "            price  crime_rate  resid_area  ...  n_hot_rooms    rainfall       parks\n",
              "count  506.000000  506.000000  506.000000  ...   506.000000  506.000000  506.000000\n",
              "mean    22.528854    3.613524   41.136779  ...    13.041605   39.181818    0.054454\n",
              "std      9.182176    8.601545    6.860353  ...     5.238957   12.513697    0.010632\n",
              "min      5.000000    0.006320   30.460000  ...    10.057600    3.000000    0.033292\n",
              "25%     17.025000    0.082045   35.190000  ...    11.189800   28.000000    0.046464\n",
              "50%     21.200000    0.256510   39.690000  ...    12.720000   39.000000    0.053507\n",
              "75%     25.000000    3.677082   48.100000  ...    14.170800   50.000000    0.061397\n",
              "max     50.000000   88.976200   57.740000  ...   101.120000   60.000000    0.086711\n",
              "\n",
              "[8 rows x 16 columns]"
            ]
          },
          "metadata": {
            "tags": []
          },
          "execution_count": 62
        }
      ]
    },
    {
      "cell_type": "code",
      "metadata": {
        "id": "gKipYOKIJZAz",
        "colab_type": "code",
        "outputId": "5f155b6a-525a-46cd-c819-f74f0cf1bc73",
        "colab": {
          "base_uri": "https://localhost:8080/",
          "height": 458
        }
      },
      "source": [
        "sns.jointplot(x=\"crime_rate\",y=\"price\",data=df)"
      ],
      "execution_count": 63,
      "outputs": [
        {
          "output_type": "execute_result",
          "data": {
            "text/plain": [
              "<seaborn.axisgrid.JointGrid at 0x7f61039d1358>"
            ]
          },
          "metadata": {
            "tags": []
          },
          "execution_count": 63
        },
        {
          "output_type": "display_data",
          "data": {
            "image/png": "[encoded data removed]",
            "text/plain": [
              "<Figure size 432x432 with 3 Axes>"
            ]
          },
          "metadata": {
            "tags": [],
            "needs_background": "light"
          }
        }
      ]
    },
    {
      "cell_type": "code",
      "metadata": {
        "id": "UgY9j5EhKyRF",
        "colab_type": "code",
        "outputId": "06e54c70-4b82-4efe-e8e6-2a4729b0ef09",
        "colab": {
          "base_uri": "https://localhost:8080/",
          "height": 458
        }
      },
      "source": [
        "sns.jointplot(x=\"n_hot_rooms\",y=\"price\",data=df)"
      ],
      "execution_count": 64,
      "outputs": [
        {
          "output_type": "execute_result",
          "data": {
            "text/plain": [
              "<seaborn.axisgrid.JointGrid at 0x7f610383b400>"
            ]
          },
          "metadata": {
            "tags": []
          },
          "execution_count": 64
        },
        {
          "output_type": "display_data",
          "data": {
            "image/png": "[encoded data removed]",
            "text/plain": [
              "<Figure size 432x432 with 3 Axes>"
            ]
          },
          "metadata": {
            "tags": [],
            "needs_background": "light"
          }
        }
      ]
    },
    {
      "cell_type": "code",
      "metadata": {
        "id": "WUvg5o9NK1fy",
        "colab_type": "code",
        "outputId": "5d9a0440-8e6a-4ffc-dbbe-347e563bda80",
        "colab": {
          "base_uri": "https://localhost:8080/",
          "height": 458
        }
      },
      "source": [
        "sns.jointplot(x=\"rainfall\",y=\"price\",data=df)"
      ],
      "execution_count": 65,
      "outputs": [
        {
          "output_type": "execute_result",
          "data": {
            "text/plain": [
              "<seaborn.axisgrid.JointGrid at 0x7f6103662da0>"
            ]
          },
          "metadata": {
            "tags": []
          },
          "execution_count": 65
        },
        {
          "output_type": "display_data",
          "data": {
            "image/png": "[encoded data removed]",
            "text/plain": [
              "<Figure size 432x432 with 3 Axes>"
            ]
          },
          "metadata": {
            "tags": [],
            "needs_background": "light"
          }
        }
      ]
    },
    {
      "cell_type": "code",
      "metadata": {
        "id": "RqPraU_IL3Fj",
        "colab_type": "code",
        "outputId": "3776f77b-89ab-41bc-8c0a-52121dab4be0",
        "colab": {
          "base_uri": "https://localhost:8080/",
          "height": 224
        }
      },
      "source": [
        "df.head()"
      ],
      "execution_count": 66,
      "outputs": [
        {
          "output_type": "execute_result",
          "data": {
            "text/html": [
              "<div>\n",
              "<style scoped>\n",
              "    .dataframe tbody tr th:only-of-type {\n",
              "        vertical-align: middle;\n",
              "    }\n",
              "\n",
              "    .dataframe tbody tr th {\n",
              "        vertical-align: top;\n",
              "    }\n",
              "\n",
              "    .dataframe thead th {\n",
              "        text-align: right;\n",
              "    }\n",
              "</style>\n",
              "<table border=\"1\" class=\"dataframe\">\n",
              "  <thead>\n",
              "    <tr style=\"text-align: right;\">\n",
              "      <th></th>\n",
              "      <th>price</th>\n",
              "      <th>crime_rate</th>\n",
              "      <th>resid_area</th>\n",
              "      <th>air_qual</th>\n",
              "      <th>room_num</th>\n",
              "      <th>age</th>\n",
              "      <th>dist1</th>\n",
              "      <th>dist2</th>\n",
              "      <th>dist3</th>\n",
              "      <th>dist4</th>\n",
              "      <th>teachers</th>\n",
              "      <th>poor_prop</th>\n",
              "      <th>airport</th>\n",
              "      <th>n_hos_beds</th>\n",
              "      <th>n_hot_rooms</th>\n",
              "      <th>waterbody</th>\n",
              "      <th>rainfall</th>\n",
              "      <th>bus_ter</th>\n",
              "      <th>parks</th>\n",
              "    </tr>\n",
              "  </thead>\n",
              "  <tbody>\n",
              "    <tr>\n",
              "      <th>0</th>\n",
              "      <td>24.0</td>\n",
              "      <td>0.00632</td>\n",
              "      <td>32.31</td>\n",
              "      <td>0.538</td>\n",
              "      <td>6.575</td>\n",
              "      <td>65.2</td>\n",
              "      <td>4.35</td>\n",
              "      <td>3.81</td>\n",
              "      <td>4.18</td>\n",
              "      <td>4.01</td>\n",
              "      <td>24.7</td>\n",
              "      <td>4.98</td>\n",
              "      <td>YES</td>\n",
              "      <td>5.480</td>\n",
              "      <td>11.1920</td>\n",
              "      <td>River</td>\n",
              "      <td>23</td>\n",
              "      <td>YES</td>\n",
              "      <td>0.049347</td>\n",
              "    </tr>\n",
              "    <tr>\n",
              "      <th>1</th>\n",
              "      <td>21.6</td>\n",
              "      <td>0.02731</td>\n",
              "      <td>37.07</td>\n",
              "      <td>0.469</td>\n",
              "      <td>6.421</td>\n",
              "      <td>78.9</td>\n",
              "      <td>4.99</td>\n",
              "      <td>4.70</td>\n",
              "      <td>5.12</td>\n",
              "      <td>5.06</td>\n",
              "      <td>22.2</td>\n",
              "      <td>9.14</td>\n",
              "      <td>NO</td>\n",
              "      <td>7.332</td>\n",
              "      <td>12.1728</td>\n",
              "      <td>Lake</td>\n",
              "      <td>42</td>\n",
              "      <td>YES</td>\n",
              "      <td>0.046146</td>\n",
              "    </tr>\n",
              "    <tr>\n",
              "      <th>2</th>\n",
              "      <td>34.7</td>\n",
              "      <td>0.02729</td>\n",
              "      <td>37.07</td>\n",
              "      <td>0.469</td>\n",
              "      <td>7.185</td>\n",
              "      <td>61.1</td>\n",
              "      <td>5.03</td>\n",
              "      <td>4.86</td>\n",
              "      <td>5.01</td>\n",
              "      <td>4.97</td>\n",
              "      <td>22.2</td>\n",
              "      <td>4.03</td>\n",
              "      <td>NO</td>\n",
              "      <td>7.394</td>\n",
              "      <td>101.1200</td>\n",
              "      <td>None</td>\n",
              "      <td>38</td>\n",
              "      <td>YES</td>\n",
              "      <td>0.045764</td>\n",
              "    </tr>\n",
              "    <tr>\n",
              "      <th>3</th>\n",
              "      <td>33.4</td>\n",
              "      <td>0.03237</td>\n",
              "      <td>32.18</td>\n",
              "      <td>0.458</td>\n",
              "      <td>6.998</td>\n",
              "      <td>45.8</td>\n",
              "      <td>6.21</td>\n",
              "      <td>5.93</td>\n",
              "      <td>6.16</td>\n",
              "      <td>5.96</td>\n",
              "      <td>21.3</td>\n",
              "      <td>2.94</td>\n",
              "      <td>YES</td>\n",
              "      <td>9.268</td>\n",
              "      <td>11.2672</td>\n",
              "      <td>Lake</td>\n",
              "      <td>45</td>\n",
              "      <td>YES</td>\n",
              "      <td>0.047151</td>\n",
              "    </tr>\n",
              "    <tr>\n",
              "      <th>4</th>\n",
              "      <td>36.2</td>\n",
              "      <td>0.06905</td>\n",
              "      <td>32.18</td>\n",
              "      <td>0.458</td>\n",
              "      <td>7.147</td>\n",
              "      <td>54.2</td>\n",
              "      <td>6.16</td>\n",
              "      <td>5.86</td>\n",
              "      <td>6.37</td>\n",
              "      <td>5.86</td>\n",
              "      <td>21.3</td>\n",
              "      <td>5.33</td>\n",
              "      <td>NO</td>\n",
              "      <td>8.824</td>\n",
              "      <td>11.2896</td>\n",
              "      <td>Lake</td>\n",
              "      <td>55</td>\n",
              "      <td>YES</td>\n",
              "      <td>0.039474</td>\n",
              "    </tr>\n",
              "  </tbody>\n",
              "</table>\n",
              "</div>"
            ],
            "text/plain": [
              "   price  crime_rate  resid_area  ...  rainfall  bus_ter     parks\n",
              "0   24.0     0.00632       32.31  ...        23      YES  0.049347\n",
              "1   21.6     0.02731       37.07  ...        42      YES  0.046146\n",
              "2   34.7     0.02729       37.07  ...        38      YES  0.045764\n",
              "3   33.4     0.03237       32.18  ...        45      YES  0.047151\n",
              "4   36.2     0.06905       32.18  ...        55      YES  0.039474\n",
              "\n",
              "[5 rows x 19 columns]"
            ]
          },
          "metadata": {
            "tags": []
          },
          "execution_count": 66
        }
      ]
    },
    {
      "cell_type": "code",
      "metadata": {
        "id": "4GSFr4ygL4lw",
        "colab_type": "code",
        "outputId": "60982584-4a38-463f-a13b-7c5f9897eff0",
        "colab": {
          "base_uri": "https://localhost:8080/",
          "height": 296
        }
      },
      "source": [
        "sns.countplot(x='airport',data=df)"
      ],
      "execution_count": 67,
      "outputs": [
        {
          "output_type": "execute_result",
          "data": {
            "text/plain": [
              "<matplotlib.axes._subplots.AxesSubplot at 0x7f610357f668>"
            ]
          },
          "metadata": {
            "tags": []
          },
          "execution_count": 67
        },
        {
          "output_type": "display_data",
          "data": {
            "image/png": "[encoded data removed]",
            "text/plain": [
              "<Figure size 432x288 with 1 Axes>"
            ]
          },
          "metadata": {
            "tags": [],
            "needs_background": "light"
          }
        }
      ]
    },
    {
      "cell_type": "code",
      "metadata": {
        "id": "G-o6DWO3L_dl",
        "colab_type": "code",
        "outputId": "e4ca97eb-f6eb-490d-c551-2962a18cefaa",
        "colab": {
          "base_uri": "https://localhost:8080/",
          "height": 296
        }
      },
      "source": [
        "sns.countplot(x='waterbody',data=df)"
      ],
      "execution_count": 68,
      "outputs": [
        {
          "output_type": "execute_result",
          "data": {
            "text/plain": [
              "<matplotlib.axes._subplots.AxesSubplot at 0x7f61034d53c8>"
            ]
          },
          "metadata": {
            "tags": []
          },
          "execution_count": 68
        },
        {
          "output_type": "display_data",
          "data": {
            "image/png": "[encoded data removed]",
            "text/plain": [
              "<Figure size 432x288 with 1 Axes>"
            ]
          },
          "metadata": {
            "tags": [],
            "needs_background": "light"
          }
        }
      ]
    },
    {
      "cell_type": "code",
      "metadata": {
        "id": "4svsKVyNMGuf",
        "colab_type": "code",
        "outputId": "a63d5a39-aef8-44a1-e5ef-507f095f6d54",
        "colab": {
          "base_uri": "https://localhost:8080/",
          "height": 297
        }
      },
      "source": [
        "sns.countplot(x='bus_ter',data=df)"
      ],
      "execution_count": 69,
      "outputs": [
        {
          "output_type": "execute_result",
          "data": {
            "text/plain": [
              "<matplotlib.axes._subplots.AxesSubplot at 0x7f61034cf080>"
            ]
          },
          "metadata": {
            "tags": []
          },
          "execution_count": 69
        },
        {
          "output_type": "display_data",
          "data": {
            "image/png": "[encoded data removed]",
            "text/plain": [
              "<Figure size 432x288 with 1 Axes>"
            ]
          },
          "metadata": {
            "tags": [],
            "needs_background": "light"
          }
        }
      ]
    },
    {
      "cell_type": "code",
      "metadata": {
        "id": "7zfOW8VyLUKA",
        "colab_type": "code",
        "colab": {}
      },
      "source": [
        "#OBSERVATIONS:\n",
        "#1. Missing values in n_hos_beds\n",
        "#2. Skewness or outliers in crime_rate\n",
        "#3. Outliers in n_hot_rooms and rainfall\n",
        "#4. Bus Terminal was taking only 'Yes' value."
      ],
      "execution_count": 0,
      "outputs": []
    },
    {
      "cell_type": "code",
      "metadata": {
        "id": "QxIRJUMsMIxw",
        "colab_type": "code",
        "outputId": "59a4b917-8673-44b5-eed5-0d9525070988",
        "colab": {
          "base_uri": "https://localhost:8080/",
          "height": 459
        }
      },
      "source": [
        "df.info()"
      ],
      "execution_count": 71,
      "outputs": [
        {
          "output_type": "stream",
          "text": [
            "<class 'pandas.core.frame.DataFrame'>\n",
            "RangeIndex: 506 entries, 0 to 505\n",
            "Data columns (total 19 columns):\n",
            " #   Column       Non-Null Count  Dtype  \n",
            "---  ------       --------------  -----  \n",
            " 0   price        506 non-null    float64\n",
            " 1   crime_rate   506 non-null    float64\n",
            " 2   resid_area   506 non-null    float64\n",
            " 3   air_qual     506 non-null    float64\n",
            " 4   room_num     506 non-null    float64\n",
            " 5   age          506 non-null    float64\n",
            " 6   dist1        506 non-null    float64\n",
            " 7   dist2        506 non-null    float64\n",
            " 8   dist3        506 non-null    float64\n",
            " 9   dist4        506 non-null    float64\n",
            " 10  teachers     506 non-null    float64\n",
            " 11  poor_prop    506 non-null    float64\n",
            " 12  airport      506 non-null    object \n",
            " 13  n_hos_beds   498 non-null    float64\n",
            " 14  n_hot_rooms  506 non-null    float64\n",
            " 15  waterbody    506 non-null    object \n",
            " 16  rainfall     506 non-null    int64  \n",
            " 17  bus_ter      506 non-null    object \n",
            " 18  parks        506 non-null    float64\n",
            "dtypes: float64(15), int64(1), object(3)\n",
            "memory usage: 75.2+ KB\n"
          ],
          "name": "stdout"
        }
      ]
    },
    {
      "cell_type": "code",
      "metadata": {
        "id": "AdqUJIUPM2lb",
        "colab_type": "code",
        "outputId": "bb65ba00-5296-4e81-a7f7-7a41814e1418",
        "colab": {
          "base_uri": "https://localhost:8080/",
          "height": 34
        }
      },
      "source": [
        "np.percentile(df.n_hot_rooms,[99])"
      ],
      "execution_count": 72,
      "outputs": [
        {
          "output_type": "execute_result",
          "data": {
            "text/plain": [
              "array([15.39952])"
            ]
          },
          "metadata": {
            "tags": []
          },
          "execution_count": 72
        }
      ]
    },
    {
      "cell_type": "code",
      "metadata": {
        "id": "YghLXFhnNPMN",
        "colab_type": "code",
        "outputId": "4baf26e7-fe41-42f2-d53a-5c31f6ef3648",
        "colab": {
          "base_uri": "https://localhost:8080/",
          "height": 34
        }
      },
      "source": [
        "np.percentile(df.n_hot_rooms,[99])[0]"
      ],
      "execution_count": 73,
      "outputs": [
        {
          "output_type": "execute_result",
          "data": {
            "text/plain": [
              "15.399519999999999"
            ]
          },
          "metadata": {
            "tags": []
          },
          "execution_count": 73
        }
      ]
    },
    {
      "cell_type": "code",
      "metadata": {
        "id": "Q-cbUdQANQSA",
        "colab_type": "code",
        "outputId": "ad89f437-9dd7-4363-e27a-725d4cd8b268",
        "colab": {
          "base_uri": "https://localhost:8080/",
          "height": 34
        }
      },
      "source": [
        "uv = np.percentile(df.n_hot_rooms,[99])[0]\n",
        "uv"
      ],
      "execution_count": 74,
      "outputs": [
        {
          "output_type": "execute_result",
          "data": {
            "text/plain": [
              "15.399519999999999"
            ]
          },
          "metadata": {
            "tags": []
          },
          "execution_count": 74
        }
      ]
    },
    {
      "cell_type": "code",
      "metadata": {
        "id": "q1XNkHpnN_Wg",
        "colab_type": "code",
        "outputId": "66d69adf-398e-4e34-8925-44cf72b079f0",
        "colab": {
          "base_uri": "https://localhost:8080/",
          "height": 255
        }
      },
      "source": [
        "df[(df.n_hot_rooms>uv)]"
      ],
      "execution_count": 75,
      "outputs": [
        {
          "output_type": "execute_result",
          "data": {
            "text/html": [
              "<div>\n",
              "<style scoped>\n",
              "    .dataframe tbody tr th:only-of-type {\n",
              "        vertical-align: middle;\n",
              "    }\n",
              "\n",
              "    .dataframe tbody tr th {\n",
              "        vertical-align: top;\n",
              "    }\n",
              "\n",
              "    .dataframe thead th {\n",
              "        text-align: right;\n",
              "    }\n",
              "</style>\n",
              "<table border=\"1\" class=\"dataframe\">\n",
              "  <thead>\n",
              "    <tr style=\"text-align: right;\">\n",
              "      <th></th>\n",
              "      <th>price</th>\n",
              "      <th>crime_rate</th>\n",
              "      <th>resid_area</th>\n",
              "      <th>air_qual</th>\n",
              "      <th>room_num</th>\n",
              "      <th>age</th>\n",
              "      <th>dist1</th>\n",
              "      <th>dist2</th>\n",
              "      <th>dist3</th>\n",
              "      <th>dist4</th>\n",
              "      <th>teachers</th>\n",
              "      <th>poor_prop</th>\n",
              "      <th>airport</th>\n",
              "      <th>n_hos_beds</th>\n",
              "      <th>n_hot_rooms</th>\n",
              "      <th>waterbody</th>\n",
              "      <th>rainfall</th>\n",
              "      <th>bus_ter</th>\n",
              "      <th>parks</th>\n",
              "    </tr>\n",
              "  </thead>\n",
              "  <tbody>\n",
              "    <tr>\n",
              "      <th>2</th>\n",
              "      <td>34.7</td>\n",
              "      <td>0.02729</td>\n",
              "      <td>37.07</td>\n",
              "      <td>0.4690</td>\n",
              "      <td>7.185</td>\n",
              "      <td>61.1</td>\n",
              "      <td>5.03</td>\n",
              "      <td>4.86</td>\n",
              "      <td>5.01</td>\n",
              "      <td>4.97</td>\n",
              "      <td>22.2</td>\n",
              "      <td>4.03</td>\n",
              "      <td>NO</td>\n",
              "      <td>7.394</td>\n",
              "      <td>101.12</td>\n",
              "      <td>None</td>\n",
              "      <td>38</td>\n",
              "      <td>YES</td>\n",
              "      <td>0.045764</td>\n",
              "    </tr>\n",
              "    <tr>\n",
              "      <th>166</th>\n",
              "      <td>50.0</td>\n",
              "      <td>2.01019</td>\n",
              "      <td>49.58</td>\n",
              "      <td>0.6050</td>\n",
              "      <td>7.929</td>\n",
              "      <td>96.2</td>\n",
              "      <td>2.11</td>\n",
              "      <td>1.91</td>\n",
              "      <td>2.31</td>\n",
              "      <td>1.86</td>\n",
              "      <td>25.3</td>\n",
              "      <td>3.70</td>\n",
              "      <td>YES</td>\n",
              "      <td>8.300</td>\n",
              "      <td>15.40</td>\n",
              "      <td>River</td>\n",
              "      <td>37</td>\n",
              "      <td>YES</td>\n",
              "      <td>0.052105</td>\n",
              "    </tr>\n",
              "    <tr>\n",
              "      <th>204</th>\n",
              "      <td>50.0</td>\n",
              "      <td>0.02009</td>\n",
              "      <td>32.68</td>\n",
              "      <td>0.4161</td>\n",
              "      <td>8.034</td>\n",
              "      <td>31.9</td>\n",
              "      <td>5.41</td>\n",
              "      <td>4.80</td>\n",
              "      <td>5.28</td>\n",
              "      <td>4.99</td>\n",
              "      <td>25.3</td>\n",
              "      <td>2.88</td>\n",
              "      <td>YES</td>\n",
              "      <td>8.900</td>\n",
              "      <td>15.40</td>\n",
              "      <td>River</td>\n",
              "      <td>51</td>\n",
              "      <td>YES</td>\n",
              "      <td>0.044178</td>\n",
              "    </tr>\n",
              "    <tr>\n",
              "      <th>267</th>\n",
              "      <td>50.0</td>\n",
              "      <td>0.57834</td>\n",
              "      <td>33.97</td>\n",
              "      <td>0.5750</td>\n",
              "      <td>8.297</td>\n",
              "      <td>67.0</td>\n",
              "      <td>2.60</td>\n",
              "      <td>2.13</td>\n",
              "      <td>2.43</td>\n",
              "      <td>2.52</td>\n",
              "      <td>27.0</td>\n",
              "      <td>7.44</td>\n",
              "      <td>YES</td>\n",
              "      <td>8.000</td>\n",
              "      <td>15.40</td>\n",
              "      <td>None</td>\n",
              "      <td>42</td>\n",
              "      <td>YES</td>\n",
              "      <td>0.063235</td>\n",
              "    </tr>\n",
              "    <tr>\n",
              "      <th>369</th>\n",
              "      <td>50.0</td>\n",
              "      <td>5.66998</td>\n",
              "      <td>48.10</td>\n",
              "      <td>0.6310</td>\n",
              "      <td>6.683</td>\n",
              "      <td>96.8</td>\n",
              "      <td>1.55</td>\n",
              "      <td>1.28</td>\n",
              "      <td>1.65</td>\n",
              "      <td>0.94</td>\n",
              "      <td>19.8</td>\n",
              "      <td>3.73</td>\n",
              "      <td>YES</td>\n",
              "      <td>6.700</td>\n",
              "      <td>15.40</td>\n",
              "      <td>River</td>\n",
              "      <td>58</td>\n",
              "      <td>YES</td>\n",
              "      <td>0.067477</td>\n",
              "    </tr>\n",
              "    <tr>\n",
              "      <th>423</th>\n",
              "      <td>13.4</td>\n",
              "      <td>7.05042</td>\n",
              "      <td>48.10</td>\n",
              "      <td>0.6140</td>\n",
              "      <td>6.103</td>\n",
              "      <td>85.1</td>\n",
              "      <td>2.08</td>\n",
              "      <td>1.80</td>\n",
              "      <td>2.34</td>\n",
              "      <td>1.87</td>\n",
              "      <td>19.8</td>\n",
              "      <td>23.29</td>\n",
              "      <td>NO</td>\n",
              "      <td>8.268</td>\n",
              "      <td>81.12</td>\n",
              "      <td>Lake</td>\n",
              "      <td>29</td>\n",
              "      <td>YES</td>\n",
              "      <td>0.063344</td>\n",
              "    </tr>\n",
              "  </tbody>\n",
              "</table>\n",
              "</div>"
            ],
            "text/plain": [
              "     price  crime_rate  resid_area  ...  rainfall  bus_ter     parks\n",
              "2     34.7     0.02729       37.07  ...        38      YES  0.045764\n",
              "166   50.0     2.01019       49.58  ...        37      YES  0.052105\n",
              "204   50.0     0.02009       32.68  ...        51      YES  0.044178\n",
              "267   50.0     0.57834       33.97  ...        42      YES  0.063235\n",
              "369   50.0     5.66998       48.10  ...        58      YES  0.067477\n",
              "423   13.4     7.05042       48.10  ...        29      YES  0.063344\n",
              "\n",
              "[6 rows x 19 columns]"
            ]
          },
          "metadata": {
            "tags": []
          },
          "execution_count": 75
        }
      ]
    },
    {
      "cell_type": "code",
      "metadata": {
        "id": "J3rDWpeDPw8S",
        "colab_type": "code",
        "outputId": "27b77a8d-42b6-468a-dd82-6e196e2d5998",
        "colab": {
          "base_uri": "https://localhost:8080/",
          "height": 102
        }
      },
      "source": [
        "df.n_hot_rooms[(df.n_hot_rooms>3*uv)]=3*uv"
      ],
      "execution_count": 76,
      "outputs": [
        {
          "output_type": "stream",
          "text": [
            "/usr/local/lib/python3.6/dist-packages/ipykernel_launcher.py:1: SettingWithCopyWarning: \n",
            "A value is trying to be set on a copy of a slice from a DataFrame\n",
            "\n",
            "See the caveats in the documentation: https://pandas.pydata.org/pandas-docs/stable/user_guide/indexing.html#returning-a-view-versus-a-copy\n",
            "  \"\"\"Entry point for launching an IPython kernel.\n"
          ],
          "name": "stderr"
        }
      ]
    },
    {
      "cell_type": "code",
      "metadata": {
        "id": "hFz9w9jnQB5a",
        "colab_type": "code",
        "outputId": "cc4d78de-bb9c-4daa-f80b-930970da53ee",
        "colab": {
          "base_uri": "https://localhost:8080/",
          "height": 34
        }
      },
      "source": [
        "np.percentile(df.rainfall,[1])[0]"
      ],
      "execution_count": 77,
      "outputs": [
        {
          "output_type": "execute_result",
          "data": {
            "text/plain": [
              "20.0"
            ]
          },
          "metadata": {
            "tags": []
          },
          "execution_count": 77
        }
      ]
    },
    {
      "cell_type": "code",
      "metadata": {
        "id": "gMqUYxYRQJua",
        "colab_type": "code",
        "colab": {}
      },
      "source": [
        "lv = np.percentile(df.rainfall,[1])[0]"
      ],
      "execution_count": 0,
      "outputs": []
    },
    {
      "cell_type": "code",
      "metadata": {
        "id": "nTmkbx-AQPLc",
        "colab_type": "code",
        "outputId": "feef0451-8930-4653-e07c-8dfd5a06d29f",
        "colab": {
          "base_uri": "https://localhost:8080/",
          "height": 100
        }
      },
      "source": [
        "df[(df.rainfall<lv)]"
      ],
      "execution_count": 79,
      "outputs": [
        {
          "output_type": "execute_result",
          "data": {
            "text/html": [
              "<div>\n",
              "<style scoped>\n",
              "    .dataframe tbody tr th:only-of-type {\n",
              "        vertical-align: middle;\n",
              "    }\n",
              "\n",
              "    .dataframe tbody tr th {\n",
              "        vertical-align: top;\n",
              "    }\n",
              "\n",
              "    .dataframe thead th {\n",
              "        text-align: right;\n",
              "    }\n",
              "</style>\n",
              "<table border=\"1\" class=\"dataframe\">\n",
              "  <thead>\n",
              "    <tr style=\"text-align: right;\">\n",
              "      <th></th>\n",
              "      <th>price</th>\n",
              "      <th>crime_rate</th>\n",
              "      <th>resid_area</th>\n",
              "      <th>air_qual</th>\n",
              "      <th>room_num</th>\n",
              "      <th>age</th>\n",
              "      <th>dist1</th>\n",
              "      <th>dist2</th>\n",
              "      <th>dist3</th>\n",
              "      <th>dist4</th>\n",
              "      <th>teachers</th>\n",
              "      <th>poor_prop</th>\n",
              "      <th>airport</th>\n",
              "      <th>n_hos_beds</th>\n",
              "      <th>n_hot_rooms</th>\n",
              "      <th>waterbody</th>\n",
              "      <th>rainfall</th>\n",
              "      <th>bus_ter</th>\n",
              "      <th>parks</th>\n",
              "    </tr>\n",
              "  </thead>\n",
              "  <tbody>\n",
              "    <tr>\n",
              "      <th>213</th>\n",
              "      <td>28.1</td>\n",
              "      <td>0.14052</td>\n",
              "      <td>40.59</td>\n",
              "      <td>0.489</td>\n",
              "      <td>6.375</td>\n",
              "      <td>32.3</td>\n",
              "      <td>4.11</td>\n",
              "      <td>3.92</td>\n",
              "      <td>4.18</td>\n",
              "      <td>3.57</td>\n",
              "      <td>21.4</td>\n",
              "      <td>9.38</td>\n",
              "      <td>YES</td>\n",
              "      <td>7.562</td>\n",
              "      <td>10.2248</td>\n",
              "      <td>None</td>\n",
              "      <td>3</td>\n",
              "      <td>YES</td>\n",
              "      <td>0.044019</td>\n",
              "    </tr>\n",
              "  </tbody>\n",
              "</table>\n",
              "</div>"
            ],
            "text/plain": [
              "     price  crime_rate  resid_area  ...  rainfall  bus_ter     parks\n",
              "213   28.1     0.14052       40.59  ...         3      YES  0.044019\n",
              "\n",
              "[1 rows x 19 columns]"
            ]
          },
          "metadata": {
            "tags": []
          },
          "execution_count": 79
        }
      ]
    },
    {
      "cell_type": "code",
      "metadata": {
        "id": "yrpx7R7XQd5K",
        "colab_type": "code",
        "outputId": "2cbc9c91-18c5-4a80-b808-2bfd4b0e8d97",
        "colab": {
          "base_uri": "https://localhost:8080/",
          "height": 102
        }
      },
      "source": [
        "df.rainfall[(df.rainfall<0.3*lv)]=0.3*lv"
      ],
      "execution_count": 80,
      "outputs": [
        {
          "output_type": "stream",
          "text": [
            "/usr/local/lib/python3.6/dist-packages/ipykernel_launcher.py:1: SettingWithCopyWarning: \n",
            "A value is trying to be set on a copy of a slice from a DataFrame\n",
            "\n",
            "See the caveats in the documentation: https://pandas.pydata.org/pandas-docs/stable/user_guide/indexing.html#returning-a-view-versus-a-copy\n",
            "  \"\"\"Entry point for launching an IPython kernel.\n"
          ],
          "name": "stderr"
        }
      ]
    },
    {
      "cell_type": "code",
      "metadata": {
        "id": "q0r2-OnIQ__f",
        "colab_type": "code",
        "outputId": "5d88d352-dfe4-4aaf-d806-99388fde0b85",
        "colab": {
          "base_uri": "https://localhost:8080/",
          "height": 458
        }
      },
      "source": [
        "sns.jointplot(x=\"rainfall\",y=\"price\",data=df)"
      ],
      "execution_count": 81,
      "outputs": [
        {
          "output_type": "execute_result",
          "data": {
            "text/plain": [
              "<seaborn.axisgrid.JointGrid at 0x7f6103414978>"
            ]
          },
          "metadata": {
            "tags": []
          },
          "execution_count": 81
        },
        {
          "output_type": "display_data",
          "data": {
            "image/png": "[encoded data removed]",
            "text/plain": [
              "<Figure size 432x432 with 3 Axes>"
            ]
          },
          "metadata": {
            "tags": [],
            "needs_background": "light"
          }
        }
      ]
    },
    {
      "cell_type": "code",
      "metadata": {
        "id": "FiVhUVGQRFd6",
        "colab_type": "code",
        "outputId": "ebf353e2-f869-42d7-8e4d-7925f57eb79a",
        "colab": {
          "base_uri": "https://localhost:8080/",
          "height": 458
        }
      },
      "source": [
        "sns.jointplot(x=\"n_hot_rooms\",y=\"price\",data=df)"
      ],
      "execution_count": 82,
      "outputs": [
        {
          "output_type": "execute_result",
          "data": {
            "text/plain": [
              "<seaborn.axisgrid.JointGrid at 0x7f61033b7dd8>"
            ]
          },
          "metadata": {
            "tags": []
          },
          "execution_count": 82
        },
        {
          "output_type": "display_data",
          "data": {
            "image/png": "[encoded data removed]",
            "text/plain": [
              "<Figure size 432x432 with 3 Axes>"
            ]
          },
          "metadata": {
            "tags": [],
            "needs_background": "light"
          }
        }
      ]
    },
    {
      "cell_type": "code",
      "metadata": {
        "id": "GYrxpbD3Rnkv",
        "colab_type": "code",
        "outputId": "cd8f0baf-9836-4b04-c557-acb0bb15c693",
        "colab": {
          "base_uri": "https://localhost:8080/",
          "height": 458
        }
      },
      "source": [
        "sns.jointplot(x=\"crime_rate\",y=\"price\",data=df)"
      ],
      "execution_count": 83,
      "outputs": [
        {
          "output_type": "execute_result",
          "data": {
            "text/plain": [
              "<seaborn.axisgrid.JointGrid at 0x7f6103507470>"
            ]
          },
          "metadata": {
            "tags": []
          },
          "execution_count": 83
        },
        {
          "output_type": "display_data",
          "data": {
            "image/png": "[encoded data removed]",
            "text/plain": [
              "<Figure size 432x432 with 3 Axes>"
            ]
          },
          "metadata": {
            "tags": [],
            "needs_background": "light"
          }
        }
      ]
    },
    {
      "cell_type": "code",
      "metadata": {
        "id": "9SKwWCWuSOgL",
        "colab_type": "code",
        "outputId": "551c965a-150f-45d6-ae79-3082448efe67",
        "colab": {
          "base_uri": "https://localhost:8080/",
          "height": 317
        }
      },
      "source": [
        "df.describe()"
      ],
      "execution_count": 84,
      "outputs": [
        {
          "output_type": "execute_result",
          "data": {
            "text/html": [
              "<div>\n",
              "<style scoped>\n",
              "    .dataframe tbody tr th:only-of-type {\n",
              "        vertical-align: middle;\n",
              "    }\n",
              "\n",
              "    .dataframe tbody tr th {\n",
              "        vertical-align: top;\n",
              "    }\n",
              "\n",
              "    .dataframe thead th {\n",
              "        text-align: right;\n",
              "    }\n",
              "</style>\n",
              "<table border=\"1\" class=\"dataframe\">\n",
              "  <thead>\n",
              "    <tr style=\"text-align: right;\">\n",
              "      <th></th>\n",
              "      <th>price</th>\n",
              "      <th>crime_rate</th>\n",
              "      <th>resid_area</th>\n",
              "      <th>air_qual</th>\n",
              "      <th>room_num</th>\n",
              "      <th>age</th>\n",
              "      <th>dist1</th>\n",
              "      <th>dist2</th>\n",
              "      <th>dist3</th>\n",
              "      <th>dist4</th>\n",
              "      <th>teachers</th>\n",
              "      <th>poor_prop</th>\n",
              "      <th>n_hos_beds</th>\n",
              "      <th>n_hot_rooms</th>\n",
              "      <th>rainfall</th>\n",
              "      <th>parks</th>\n",
              "    </tr>\n",
              "  </thead>\n",
              "  <tbody>\n",
              "    <tr>\n",
              "      <th>count</th>\n",
              "      <td>506.000000</td>\n",
              "      <td>506.000000</td>\n",
              "      <td>506.000000</td>\n",
              "      <td>506.000000</td>\n",
              "      <td>506.000000</td>\n",
              "      <td>506.000000</td>\n",
              "      <td>506.000000</td>\n",
              "      <td>506.000000</td>\n",
              "      <td>506.000000</td>\n",
              "      <td>506.000000</td>\n",
              "      <td>506.000000</td>\n",
              "      <td>506.000000</td>\n",
              "      <td>498.000000</td>\n",
              "      <td>506.000000</td>\n",
              "      <td>506.000000</td>\n",
              "      <td>506.000000</td>\n",
              "    </tr>\n",
              "    <tr>\n",
              "      <th>mean</th>\n",
              "      <td>22.528854</td>\n",
              "      <td>3.613524</td>\n",
              "      <td>41.136779</td>\n",
              "      <td>0.554695</td>\n",
              "      <td>6.284634</td>\n",
              "      <td>68.574901</td>\n",
              "      <td>3.971996</td>\n",
              "      <td>3.628775</td>\n",
              "      <td>3.960672</td>\n",
              "      <td>3.618972</td>\n",
              "      <td>21.544466</td>\n",
              "      <td>12.653063</td>\n",
              "      <td>7.899767</td>\n",
              "      <td>12.864050</td>\n",
              "      <td>39.187747</td>\n",
              "      <td>0.054454</td>\n",
              "    </tr>\n",
              "    <tr>\n",
              "      <th>std</th>\n",
              "      <td>9.182176</td>\n",
              "      <td>8.601545</td>\n",
              "      <td>6.860353</td>\n",
              "      <td>0.115878</td>\n",
              "      <td>0.702617</td>\n",
              "      <td>28.148861</td>\n",
              "      <td>2.108532</td>\n",
              "      <td>2.108580</td>\n",
              "      <td>2.119797</td>\n",
              "      <td>2.099203</td>\n",
              "      <td>2.164946</td>\n",
              "      <td>7.141062</td>\n",
              "      <td>1.476683</td>\n",
              "      <td>2.688778</td>\n",
              "      <td>12.497221</td>\n",
              "      <td>0.010632</td>\n",
              "    </tr>\n",
              "    <tr>\n",
              "      <th>min</th>\n",
              "      <td>5.000000</td>\n",
              "      <td>0.006320</td>\n",
              "      <td>30.460000</td>\n",
              "      <td>0.385000</td>\n",
              "      <td>3.561000</td>\n",
              "      <td>2.900000</td>\n",
              "      <td>1.130000</td>\n",
              "      <td>0.920000</td>\n",
              "      <td>1.150000</td>\n",
              "      <td>0.730000</td>\n",
              "      <td>18.000000</td>\n",
              "      <td>1.730000</td>\n",
              "      <td>5.268000</td>\n",
              "      <td>10.057600</td>\n",
              "      <td>6.000000</td>\n",
              "      <td>0.033292</td>\n",
              "    </tr>\n",
              "    <tr>\n",
              "      <th>25%</th>\n",
              "      <td>17.025000</td>\n",
              "      <td>0.082045</td>\n",
              "      <td>35.190000</td>\n",
              "      <td>0.449000</td>\n",
              "      <td>5.885500</td>\n",
              "      <td>45.025000</td>\n",
              "      <td>2.270000</td>\n",
              "      <td>1.940000</td>\n",
              "      <td>2.232500</td>\n",
              "      <td>1.940000</td>\n",
              "      <td>19.800000</td>\n",
              "      <td>6.950000</td>\n",
              "      <td>6.634500</td>\n",
              "      <td>11.189800</td>\n",
              "      <td>28.000000</td>\n",
              "      <td>0.046464</td>\n",
              "    </tr>\n",
              "    <tr>\n",
              "      <th>50%</th>\n",
              "      <td>21.200000</td>\n",
              "      <td>0.256510</td>\n",
              "      <td>39.690000</td>\n",
              "      <td>0.538000</td>\n",
              "      <td>6.208500</td>\n",
              "      <td>77.500000</td>\n",
              "      <td>3.385000</td>\n",
              "      <td>3.010000</td>\n",
              "      <td>3.375000</td>\n",
              "      <td>3.070000</td>\n",
              "      <td>20.950000</td>\n",
              "      <td>11.360000</td>\n",
              "      <td>7.999000</td>\n",
              "      <td>12.720000</td>\n",
              "      <td>39.000000</td>\n",
              "      <td>0.053507</td>\n",
              "    </tr>\n",
              "    <tr>\n",
              "      <th>75%</th>\n",
              "      <td>25.000000</td>\n",
              "      <td>3.677082</td>\n",
              "      <td>48.100000</td>\n",
              "      <td>0.624000</td>\n",
              "      <td>6.623500</td>\n",
              "      <td>94.075000</td>\n",
              "      <td>5.367500</td>\n",
              "      <td>4.992500</td>\n",
              "      <td>5.407500</td>\n",
              "      <td>4.985000</td>\n",
              "      <td>22.600000</td>\n",
              "      <td>16.955000</td>\n",
              "      <td>9.088000</td>\n",
              "      <td>14.170800</td>\n",
              "      <td>50.000000</td>\n",
              "      <td>0.061397</td>\n",
              "    </tr>\n",
              "    <tr>\n",
              "      <th>max</th>\n",
              "      <td>50.000000</td>\n",
              "      <td>88.976200</td>\n",
              "      <td>57.740000</td>\n",
              "      <td>0.871000</td>\n",
              "      <td>8.780000</td>\n",
              "      <td>100.000000</td>\n",
              "      <td>12.320000</td>\n",
              "      <td>11.930000</td>\n",
              "      <td>12.320000</td>\n",
              "      <td>11.940000</td>\n",
              "      <td>27.400000</td>\n",
              "      <td>37.970000</td>\n",
              "      <td>10.876000</td>\n",
              "      <td>46.198560</td>\n",
              "      <td>60.000000</td>\n",
              "      <td>0.086711</td>\n",
              "    </tr>\n",
              "  </tbody>\n",
              "</table>\n",
              "</div>"
            ],
            "text/plain": [
              "            price  crime_rate  resid_area  ...  n_hot_rooms    rainfall       parks\n",
              "count  506.000000  506.000000  506.000000  ...   506.000000  506.000000  506.000000\n",
              "mean    22.528854    3.613524   41.136779  ...    12.864050   39.187747    0.054454\n",
              "std      9.182176    8.601545    6.860353  ...     2.688778   12.497221    0.010632\n",
              "min      5.000000    0.006320   30.460000  ...    10.057600    6.000000    0.033292\n",
              "25%     17.025000    0.082045   35.190000  ...    11.189800   28.000000    0.046464\n",
              "50%     21.200000    0.256510   39.690000  ...    12.720000   39.000000    0.053507\n",
              "75%     25.000000    3.677082   48.100000  ...    14.170800   50.000000    0.061397\n",
              "max     50.000000   88.976200   57.740000  ...    46.198560   60.000000    0.086711\n",
              "\n",
              "[8 rows x 16 columns]"
            ]
          },
          "metadata": {
            "tags": []
          },
          "execution_count": 84
        }
      ]
    },
    {
      "cell_type": "code",
      "metadata": {
        "id": "rZ2eGxv1S7h2",
        "colab_type": "code",
        "outputId": "18a224d7-17fc-414e-aa72-9b2f0e979106",
        "colab": {
          "base_uri": "https://localhost:8080/",
          "height": 459
        }
      },
      "source": [
        "df.info()"
      ],
      "execution_count": 85,
      "outputs": [
        {
          "output_type": "stream",
          "text": [
            "<class 'pandas.core.frame.DataFrame'>\n",
            "RangeIndex: 506 entries, 0 to 505\n",
            "Data columns (total 19 columns):\n",
            " #   Column       Non-Null Count  Dtype  \n",
            "---  ------       --------------  -----  \n",
            " 0   price        506 non-null    float64\n",
            " 1   crime_rate   506 non-null    float64\n",
            " 2   resid_area   506 non-null    float64\n",
            " 3   air_qual     506 non-null    float64\n",
            " 4   room_num     506 non-null    float64\n",
            " 5   age          506 non-null    float64\n",
            " 6   dist1        506 non-null    float64\n",
            " 7   dist2        506 non-null    float64\n",
            " 8   dist3        506 non-null    float64\n",
            " 9   dist4        506 non-null    float64\n",
            " 10  teachers     506 non-null    float64\n",
            " 11  poor_prop    506 non-null    float64\n",
            " 12  airport      506 non-null    object \n",
            " 13  n_hos_beds   498 non-null    float64\n",
            " 14  n_hot_rooms  506 non-null    float64\n",
            " 15  waterbody    506 non-null    object \n",
            " 16  rainfall     506 non-null    int64  \n",
            " 17  bus_ter      506 non-null    object \n",
            " 18  parks        506 non-null    float64\n",
            "dtypes: float64(15), int64(1), object(3)\n",
            "memory usage: 75.2+ KB\n"
          ],
          "name": "stdout"
        }
      ]
    },
    {
      "cell_type": "code",
      "metadata": {
        "id": "oG-OsA0_T09P",
        "colab_type": "code",
        "colab": {}
      },
      "source": [
        "df.n_hos_beds = df.n_hos_beds.fillna(df.n_hos_beds.mean())"
      ],
      "execution_count": 0,
      "outputs": []
    },
    {
      "cell_type": "code",
      "metadata": {
        "id": "rYRZjex-UULA",
        "colab_type": "code",
        "outputId": "93185f20-d62d-41fd-bd61-ffdd60a01d07",
        "colab": {
          "base_uri": "https://localhost:8080/",
          "height": 459
        }
      },
      "source": [
        "df.info()"
      ],
      "execution_count": 87,
      "outputs": [
        {
          "output_type": "stream",
          "text": [
            "<class 'pandas.core.frame.DataFrame'>\n",
            "RangeIndex: 506 entries, 0 to 505\n",
            "Data columns (total 19 columns):\n",
            " #   Column       Non-Null Count  Dtype  \n",
            "---  ------       --------------  -----  \n",
            " 0   price        506 non-null    float64\n",
            " 1   crime_rate   506 non-null    float64\n",
            " 2   resid_area   506 non-null    float64\n",
            " 3   air_qual     506 non-null    float64\n",
            " 4   room_num     506 non-null    float64\n",
            " 5   age          506 non-null    float64\n",
            " 6   dist1        506 non-null    float64\n",
            " 7   dist2        506 non-null    float64\n",
            " 8   dist3        506 non-null    float64\n",
            " 9   dist4        506 non-null    float64\n",
            " 10  teachers     506 non-null    float64\n",
            " 11  poor_prop    506 non-null    float64\n",
            " 12  airport      506 non-null    object \n",
            " 13  n_hos_beds   506 non-null    float64\n",
            " 14  n_hot_rooms  506 non-null    float64\n",
            " 15  waterbody    506 non-null    object \n",
            " 16  rainfall     506 non-null    int64  \n",
            " 17  bus_ter      506 non-null    object \n",
            " 18  parks        506 non-null    float64\n",
            "dtypes: float64(15), int64(1), object(3)\n",
            "memory usage: 75.2+ KB\n"
          ],
          "name": "stdout"
        }
      ]
    },
    {
      "cell_type": "code",
      "metadata": {
        "id": "PjihkSlahu3k",
        "colab_type": "code",
        "colab": {}
      },
      "source": [
        "df.crime_rate = np.log(1+df.crime_rate)"
      ],
      "execution_count": 0,
      "outputs": []
    },
    {
      "cell_type": "code",
      "metadata": {
        "id": "UYriWM2eh-Ya",
        "colab_type": "code",
        "outputId": "240bcb27-a06b-45cc-94d6-407825842262",
        "colab": {
          "base_uri": "https://localhost:8080/",
          "height": 458
        }
      },
      "source": [
        "sns.jointplot(x=\"crime_rate\",y=\"price\",data=df)"
      ],
      "execution_count": 89,
      "outputs": [
        {
          "output_type": "execute_result",
          "data": {
            "text/plain": [
              "<seaborn.axisgrid.JointGrid at 0x7f61035099b0>"
            ]
          },
          "metadata": {
            "tags": []
          },
          "execution_count": 89
        },
        {
          "output_type": "display_data",
          "data": {
            "image/png": "[encoded data removed]",
            "text/plain": [
              "<Figure size 432x432 with 3 Axes>"
            ]
          },
          "metadata": {
            "tags": [],
            "needs_background": "light"
          }
        }
      ]
    },
    {
      "cell_type": "code",
      "metadata": {
        "id": "MFiwbOxZiEpZ",
        "colab_type": "code",
        "colab": {}
      },
      "source": [
        "df['avg_dist'] = (df.dist1 + df.dist2 + df.dist3 + df.dist4)/4"
      ],
      "execution_count": 0,
      "outputs": []
    },
    {
      "cell_type": "code",
      "metadata": {
        "id": "ujHJ0kkMiftE",
        "colab_type": "code",
        "outputId": "e01ce809-fce7-4703-96b1-75f694aac3cd",
        "colab": {
          "base_uri": "https://localhost:8080/",
          "height": 317
        }
      },
      "source": [
        "df.describe()"
      ],
      "execution_count": 91,
      "outputs": [
        {
          "output_type": "execute_result",
          "data": {
            "text/html": [
              "<div>\n",
              "<style scoped>\n",
              "    .dataframe tbody tr th:only-of-type {\n",
              "        vertical-align: middle;\n",
              "    }\n",
              "\n",
              "    .dataframe tbody tr th {\n",
              "        vertical-align: top;\n",
              "    }\n",
              "\n",
              "    .dataframe thead th {\n",
              "        text-align: right;\n",
              "    }\n",
              "</style>\n",
              "<table border=\"1\" class=\"dataframe\">\n",
              "  <thead>\n",
              "    <tr style=\"text-align: right;\">\n",
              "      <th></th>\n",
              "      <th>price</th>\n",
              "      <th>crime_rate</th>\n",
              "      <th>resid_area</th>\n",
              "      <th>air_qual</th>\n",
              "      <th>room_num</th>\n",
              "      <th>age</th>\n",
              "      <th>dist1</th>\n",
              "      <th>dist2</th>\n",
              "      <th>dist3</th>\n",
              "      <th>dist4</th>\n",
              "      <th>teachers</th>\n",
              "      <th>poor_prop</th>\n",
              "      <th>n_hos_beds</th>\n",
              "      <th>n_hot_rooms</th>\n",
              "      <th>rainfall</th>\n",
              "      <th>parks</th>\n",
              "      <th>avg_dist</th>\n",
              "    </tr>\n",
              "  </thead>\n",
              "  <tbody>\n",
              "    <tr>\n",
              "      <th>count</th>\n",
              "      <td>506.000000</td>\n",
              "      <td>506.000000</td>\n",
              "      <td>506.000000</td>\n",
              "      <td>506.000000</td>\n",
              "      <td>506.000000</td>\n",
              "      <td>506.000000</td>\n",
              "      <td>506.000000</td>\n",
              "      <td>506.000000</td>\n",
              "      <td>506.000000</td>\n",
              "      <td>506.000000</td>\n",
              "      <td>506.000000</td>\n",
              "      <td>506.000000</td>\n",
              "      <td>506.000000</td>\n",
              "      <td>506.000000</td>\n",
              "      <td>506.000000</td>\n",
              "      <td>506.000000</td>\n",
              "      <td>506.000000</td>\n",
              "    </tr>\n",
              "    <tr>\n",
              "      <th>mean</th>\n",
              "      <td>22.528854</td>\n",
              "      <td>0.813418</td>\n",
              "      <td>41.136779</td>\n",
              "      <td>0.554695</td>\n",
              "      <td>6.284634</td>\n",
              "      <td>68.574901</td>\n",
              "      <td>3.971996</td>\n",
              "      <td>3.628775</td>\n",
              "      <td>3.960672</td>\n",
              "      <td>3.618972</td>\n",
              "      <td>21.544466</td>\n",
              "      <td>12.653063</td>\n",
              "      <td>7.899767</td>\n",
              "      <td>12.864050</td>\n",
              "      <td>39.187747</td>\n",
              "      <td>0.054454</td>\n",
              "      <td>3.795104</td>\n",
              "    </tr>\n",
              "    <tr>\n",
              "      <th>std</th>\n",
              "      <td>9.182176</td>\n",
              "      <td>1.022731</td>\n",
              "      <td>6.860353</td>\n",
              "      <td>0.115878</td>\n",
              "      <td>0.702617</td>\n",
              "      <td>28.148861</td>\n",
              "      <td>2.108532</td>\n",
              "      <td>2.108580</td>\n",
              "      <td>2.119797</td>\n",
              "      <td>2.099203</td>\n",
              "      <td>2.164946</td>\n",
              "      <td>7.141062</td>\n",
              "      <td>1.464939</td>\n",
              "      <td>2.688778</td>\n",
              "      <td>12.497221</td>\n",
              "      <td>0.010632</td>\n",
              "      <td>2.105859</td>\n",
              "    </tr>\n",
              "    <tr>\n",
              "      <th>min</th>\n",
              "      <td>5.000000</td>\n",
              "      <td>0.006300</td>\n",
              "      <td>30.460000</td>\n",
              "      <td>0.385000</td>\n",
              "      <td>3.561000</td>\n",
              "      <td>2.900000</td>\n",
              "      <td>1.130000</td>\n",
              "      <td>0.920000</td>\n",
              "      <td>1.150000</td>\n",
              "      <td>0.730000</td>\n",
              "      <td>18.000000</td>\n",
              "      <td>1.730000</td>\n",
              "      <td>5.268000</td>\n",
              "      <td>10.057600</td>\n",
              "      <td>6.000000</td>\n",
              "      <td>0.033292</td>\n",
              "      <td>1.127500</td>\n",
              "    </tr>\n",
              "    <tr>\n",
              "      <th>25%</th>\n",
              "      <td>17.025000</td>\n",
              "      <td>0.078853</td>\n",
              "      <td>35.190000</td>\n",
              "      <td>0.449000</td>\n",
              "      <td>5.885500</td>\n",
              "      <td>45.025000</td>\n",
              "      <td>2.270000</td>\n",
              "      <td>1.940000</td>\n",
              "      <td>2.232500</td>\n",
              "      <td>1.940000</td>\n",
              "      <td>19.800000</td>\n",
              "      <td>6.950000</td>\n",
              "      <td>6.659000</td>\n",
              "      <td>11.189800</td>\n",
              "      <td>28.000000</td>\n",
              "      <td>0.046464</td>\n",
              "      <td>2.100625</td>\n",
              "    </tr>\n",
              "    <tr>\n",
              "      <th>50%</th>\n",
              "      <td>21.200000</td>\n",
              "      <td>0.228336</td>\n",
              "      <td>39.690000</td>\n",
              "      <td>0.538000</td>\n",
              "      <td>6.208500</td>\n",
              "      <td>77.500000</td>\n",
              "      <td>3.385000</td>\n",
              "      <td>3.010000</td>\n",
              "      <td>3.375000</td>\n",
              "      <td>3.070000</td>\n",
              "      <td>20.950000</td>\n",
              "      <td>11.360000</td>\n",
              "      <td>7.963000</td>\n",
              "      <td>12.720000</td>\n",
              "      <td>39.000000</td>\n",
              "      <td>0.053507</td>\n",
              "      <td>3.207500</td>\n",
              "    </tr>\n",
              "    <tr>\n",
              "      <th>75%</th>\n",
              "      <td>25.000000</td>\n",
              "      <td>1.542674</td>\n",
              "      <td>48.100000</td>\n",
              "      <td>0.624000</td>\n",
              "      <td>6.623500</td>\n",
              "      <td>94.075000</td>\n",
              "      <td>5.367500</td>\n",
              "      <td>4.992500</td>\n",
              "      <td>5.407500</td>\n",
              "      <td>4.985000</td>\n",
              "      <td>22.600000</td>\n",
              "      <td>16.955000</td>\n",
              "      <td>9.076000</td>\n",
              "      <td>14.170800</td>\n",
              "      <td>50.000000</td>\n",
              "      <td>0.061397</td>\n",
              "      <td>5.187500</td>\n",
              "    </tr>\n",
              "    <tr>\n",
              "      <th>max</th>\n",
              "      <td>50.000000</td>\n",
              "      <td>4.499545</td>\n",
              "      <td>57.740000</td>\n",
              "      <td>0.871000</td>\n",
              "      <td>8.780000</td>\n",
              "      <td>100.000000</td>\n",
              "      <td>12.320000</td>\n",
              "      <td>11.930000</td>\n",
              "      <td>12.320000</td>\n",
              "      <td>11.940000</td>\n",
              "      <td>27.400000</td>\n",
              "      <td>37.970000</td>\n",
              "      <td>10.876000</td>\n",
              "      <td>46.198560</td>\n",
              "      <td>60.000000</td>\n",
              "      <td>0.086711</td>\n",
              "      <td>12.127500</td>\n",
              "    </tr>\n",
              "  </tbody>\n",
              "</table>\n",
              "</div>"
            ],
            "text/plain": [
              "            price  crime_rate  resid_area  ...    rainfall       parks    avg_dist\n",
              "count  506.000000  506.000000  506.000000  ...  506.000000  506.000000  506.000000\n",
              "mean    22.528854    0.813418   41.136779  ...   39.187747    0.054454    3.795104\n",
              "std      9.182176    1.022731    6.860353  ...   12.497221    0.010632    2.105859\n",
              "min      5.000000    0.006300   30.460000  ...    6.000000    0.033292    1.127500\n",
              "25%     17.025000    0.078853   35.190000  ...   28.000000    0.046464    2.100625\n",
              "50%     21.200000    0.228336   39.690000  ...   39.000000    0.053507    3.207500\n",
              "75%     25.000000    1.542674   48.100000  ...   50.000000    0.061397    5.187500\n",
              "max     50.000000    4.499545   57.740000  ...   60.000000    0.086711   12.127500\n",
              "\n",
              "[8 rows x 17 columns]"
            ]
          },
          "metadata": {
            "tags": []
          },
          "execution_count": 91
        }
      ]
    },
    {
      "cell_type": "code",
      "metadata": {
        "id": "5XVuPoU5ihHg",
        "colab_type": "code",
        "colab": {}
      },
      "source": [
        "del df['dist1']\n",
        "del df['dist2']\n",
        "del df['dist3']\n",
        "del df['dist4']\n",
        "del df['bus_ter']"
      ],
      "execution_count": 0,
      "outputs": []
    },
    {
      "cell_type": "code",
      "metadata": {
        "id": "F1jYxGCdizDQ",
        "colab_type": "code",
        "outputId": "57db12bf-91ff-44cb-b0c0-0aa72a554e2d",
        "colab": {
          "base_uri": "https://localhost:8080/",
          "height": 297
        }
      },
      "source": [
        "df.describe()"
      ],
      "execution_count": 93,
      "outputs": [
        {
          "output_type": "execute_result",
          "data": {
            "text/html": [
              "<div>\n",
              "<style scoped>\n",
              "    .dataframe tbody tr th:only-of-type {\n",
              "        vertical-align: middle;\n",
              "    }\n",
              "\n",
              "    .dataframe tbody tr th {\n",
              "        vertical-align: top;\n",
              "    }\n",
              "\n",
              "    .dataframe thead th {\n",
              "        text-align: right;\n",
              "    }\n",
              "</style>\n",
              "<table border=\"1\" class=\"dataframe\">\n",
              "  <thead>\n",
              "    <tr style=\"text-align: right;\">\n",
              "      <th></th>\n",
              "      <th>price</th>\n",
              "      <th>crime_rate</th>\n",
              "      <th>resid_area</th>\n",
              "      <th>air_qual</th>\n",
              "      <th>room_num</th>\n",
              "      <th>age</th>\n",
              "      <th>teachers</th>\n",
              "      <th>poor_prop</th>\n",
              "      <th>n_hos_beds</th>\n",
              "      <th>n_hot_rooms</th>\n",
              "      <th>rainfall</th>\n",
              "      <th>parks</th>\n",
              "      <th>avg_dist</th>\n",
              "    </tr>\n",
              "  </thead>\n",
              "  <tbody>\n",
              "    <tr>\n",
              "      <th>count</th>\n",
              "      <td>506.000000</td>\n",
              "      <td>506.000000</td>\n",
              "      <td>506.000000</td>\n",
              "      <td>506.000000</td>\n",
              "      <td>506.000000</td>\n",
              "      <td>506.000000</td>\n",
              "      <td>506.000000</td>\n",
              "      <td>506.000000</td>\n",
              "      <td>506.000000</td>\n",
              "      <td>506.000000</td>\n",
              "      <td>506.000000</td>\n",
              "      <td>506.000000</td>\n",
              "      <td>506.000000</td>\n",
              "    </tr>\n",
              "    <tr>\n",
              "      <th>mean</th>\n",
              "      <td>22.528854</td>\n",
              "      <td>0.813418</td>\n",
              "      <td>41.136779</td>\n",
              "      <td>0.554695</td>\n",
              "      <td>6.284634</td>\n",
              "      <td>68.574901</td>\n",
              "      <td>21.544466</td>\n",
              "      <td>12.653063</td>\n",
              "      <td>7.899767</td>\n",
              "      <td>12.864050</td>\n",
              "      <td>39.187747</td>\n",
              "      <td>0.054454</td>\n",
              "      <td>3.795104</td>\n",
              "    </tr>\n",
              "    <tr>\n",
              "      <th>std</th>\n",
              "      <td>9.182176</td>\n",
              "      <td>1.022731</td>\n",
              "      <td>6.860353</td>\n",
              "      <td>0.115878</td>\n",
              "      <td>0.702617</td>\n",
              "      <td>28.148861</td>\n",
              "      <td>2.164946</td>\n",
              "      <td>7.141062</td>\n",
              "      <td>1.464939</td>\n",
              "      <td>2.688778</td>\n",
              "      <td>12.497221</td>\n",
              "      <td>0.010632</td>\n",
              "      <td>2.105859</td>\n",
              "    </tr>\n",
              "    <tr>\n",
              "      <th>min</th>\n",
              "      <td>5.000000</td>\n",
              "      <td>0.006300</td>\n",
              "      <td>30.460000</td>\n",
              "      <td>0.385000</td>\n",
              "      <td>3.561000</td>\n",
              "      <td>2.900000</td>\n",
              "      <td>18.000000</td>\n",
              "      <td>1.730000</td>\n",
              "      <td>5.268000</td>\n",
              "      <td>10.057600</td>\n",
              "      <td>6.000000</td>\n",
              "      <td>0.033292</td>\n",
              "      <td>1.127500</td>\n",
              "    </tr>\n",
              "    <tr>\n",
              "      <th>25%</th>\n",
              "      <td>17.025000</td>\n",
              "      <td>0.078853</td>\n",
              "      <td>35.190000</td>\n",
              "      <td>0.449000</td>\n",
              "      <td>5.885500</td>\n",
              "      <td>45.025000</td>\n",
              "      <td>19.800000</td>\n",
              "      <td>6.950000</td>\n",
              "      <td>6.659000</td>\n",
              "      <td>11.189800</td>\n",
              "      <td>28.000000</td>\n",
              "      <td>0.046464</td>\n",
              "      <td>2.100625</td>\n",
              "    </tr>\n",
              "    <tr>\n",
              "      <th>50%</th>\n",
              "      <td>21.200000</td>\n",
              "      <td>0.228336</td>\n",
              "      <td>39.690000</td>\n",
              "      <td>0.538000</td>\n",
              "      <td>6.208500</td>\n",
              "      <td>77.500000</td>\n",
              "      <td>20.950000</td>\n",
              "      <td>11.360000</td>\n",
              "      <td>7.963000</td>\n",
              "      <td>12.720000</td>\n",
              "      <td>39.000000</td>\n",
              "      <td>0.053507</td>\n",
              "      <td>3.207500</td>\n",
              "    </tr>\n",
              "    <tr>\n",
              "      <th>75%</th>\n",
              "      <td>25.000000</td>\n",
              "      <td>1.542674</td>\n",
              "      <td>48.100000</td>\n",
              "      <td>0.624000</td>\n",
              "      <td>6.623500</td>\n",
              "      <td>94.075000</td>\n",
              "      <td>22.600000</td>\n",
              "      <td>16.955000</td>\n",
              "      <td>9.076000</td>\n",
              "      <td>14.170800</td>\n",
              "      <td>50.000000</td>\n",
              "      <td>0.061397</td>\n",
              "      <td>5.187500</td>\n",
              "    </tr>\n",
              "    <tr>\n",
              "      <th>max</th>\n",
              "      <td>50.000000</td>\n",
              "      <td>4.499545</td>\n",
              "      <td>57.740000</td>\n",
              "      <td>0.871000</td>\n",
              "      <td>8.780000</td>\n",
              "      <td>100.000000</td>\n",
              "      <td>27.400000</td>\n",
              "      <td>37.970000</td>\n",
              "      <td>10.876000</td>\n",
              "      <td>46.198560</td>\n",
              "      <td>60.000000</td>\n",
              "      <td>0.086711</td>\n",
              "      <td>12.127500</td>\n",
              "    </tr>\n",
              "  </tbody>\n",
              "</table>\n",
              "</div>"
            ],
            "text/plain": [
              "            price  crime_rate  resid_area  ...    rainfall       parks    avg_dist\n",
              "count  506.000000  506.000000  506.000000  ...  506.000000  506.000000  506.000000\n",
              "mean    22.528854    0.813418   41.136779  ...   39.187747    0.054454    3.795104\n",
              "std      9.182176    1.022731    6.860353  ...   12.497221    0.010632    2.105859\n",
              "min      5.000000    0.006300   30.460000  ...    6.000000    0.033292    1.127500\n",
              "25%     17.025000    0.078853   35.190000  ...   28.000000    0.046464    2.100625\n",
              "50%     21.200000    0.228336   39.690000  ...   39.000000    0.053507    3.207500\n",
              "75%     25.000000    1.542674   48.100000  ...   50.000000    0.061397    5.187500\n",
              "max     50.000000    4.499545   57.740000  ...   60.000000    0.086711   12.127500\n",
              "\n",
              "[8 rows x 13 columns]"
            ]
          },
          "metadata": {
            "tags": []
          },
          "execution_count": 93
        }
      ]
    },
    {
      "cell_type": "code",
      "metadata": {
        "id": "6hsuONlljMI9",
        "colab_type": "code",
        "outputId": "055e35de-cd03-40a9-f118-045c26901f25",
        "colab": {
          "base_uri": "https://localhost:8080/",
          "height": 391
        }
      },
      "source": [
        "df.info()"
      ],
      "execution_count": 94,
      "outputs": [
        {
          "output_type": "stream",
          "text": [
            "<class 'pandas.core.frame.DataFrame'>\n",
            "RangeIndex: 506 entries, 0 to 505\n",
            "Data columns (total 15 columns):\n",
            " #   Column       Non-Null Count  Dtype  \n",
            "---  ------       --------------  -----  \n",
            " 0   price        506 non-null    float64\n",
            " 1   crime_rate   506 non-null    float64\n",
            " 2   resid_area   506 non-null    float64\n",
            " 3   air_qual     506 non-null    float64\n",
            " 4   room_num     506 non-null    float64\n",
            " 5   age          506 non-null    float64\n",
            " 6   teachers     506 non-null    float64\n",
            " 7   poor_prop    506 non-null    float64\n",
            " 8   airport      506 non-null    object \n",
            " 9   n_hos_beds   506 non-null    float64\n",
            " 10  n_hot_rooms  506 non-null    float64\n",
            " 11  waterbody    506 non-null    object \n",
            " 12  rainfall     506 non-null    int64  \n",
            " 13  parks        506 non-null    float64\n",
            " 14  avg_dist     506 non-null    float64\n",
            "dtypes: float64(12), int64(1), object(2)\n",
            "memory usage: 59.4+ KB\n"
          ],
          "name": "stdout"
        }
      ]
    },
    {
      "cell_type": "code",
      "metadata": {
        "id": "CuxtTUAgjpVb",
        "colab_type": "code",
        "outputId": "be2c6792-e7c2-4db3-a272-976224a6cf03",
        "colab": {
          "base_uri": "https://localhost:8080/",
          "height": 204
        }
      },
      "source": [
        "df.head()"
      ],
      "execution_count": 95,
      "outputs": [
        {
          "output_type": "execute_result",
          "data": {
            "text/html": [
              "<div>\n",
              "<style scoped>\n",
              "    .dataframe tbody tr th:only-of-type {\n",
              "        vertical-align: middle;\n",
              "    }\n",
              "\n",
              "    .dataframe tbody tr th {\n",
              "        vertical-align: top;\n",
              "    }\n",
              "\n",
              "    .dataframe thead th {\n",
              "        text-align: right;\n",
              "    }\n",
              "</style>\n",
              "<table border=\"1\" class=\"dataframe\">\n",
              "  <thead>\n",
              "    <tr style=\"text-align: right;\">\n",
              "      <th></th>\n",
              "      <th>price</th>\n",
              "      <th>crime_rate</th>\n",
              "      <th>resid_area</th>\n",
              "      <th>air_qual</th>\n",
              "      <th>room_num</th>\n",
              "      <th>age</th>\n",
              "      <th>teachers</th>\n",
              "      <th>poor_prop</th>\n",
              "      <th>airport</th>\n",
              "      <th>n_hos_beds</th>\n",
              "      <th>n_hot_rooms</th>\n",
              "      <th>waterbody</th>\n",
              "      <th>rainfall</th>\n",
              "      <th>parks</th>\n",
              "      <th>avg_dist</th>\n",
              "    </tr>\n",
              "  </thead>\n",
              "  <tbody>\n",
              "    <tr>\n",
              "      <th>0</th>\n",
              "      <td>24.0</td>\n",
              "      <td>0.006300</td>\n",
              "      <td>32.31</td>\n",
              "      <td>0.538</td>\n",
              "      <td>6.575</td>\n",
              "      <td>65.2</td>\n",
              "      <td>24.7</td>\n",
              "      <td>4.98</td>\n",
              "      <td>YES</td>\n",
              "      <td>5.480</td>\n",
              "      <td>11.19200</td>\n",
              "      <td>River</td>\n",
              "      <td>23</td>\n",
              "      <td>0.049347</td>\n",
              "      <td>4.0875</td>\n",
              "    </tr>\n",
              "    <tr>\n",
              "      <th>1</th>\n",
              "      <td>21.6</td>\n",
              "      <td>0.026944</td>\n",
              "      <td>37.07</td>\n",
              "      <td>0.469</td>\n",
              "      <td>6.421</td>\n",
              "      <td>78.9</td>\n",
              "      <td>22.2</td>\n",
              "      <td>9.14</td>\n",
              "      <td>NO</td>\n",
              "      <td>7.332</td>\n",
              "      <td>12.17280</td>\n",
              "      <td>Lake</td>\n",
              "      <td>42</td>\n",
              "      <td>0.046146</td>\n",
              "      <td>4.9675</td>\n",
              "    </tr>\n",
              "    <tr>\n",
              "      <th>2</th>\n",
              "      <td>34.7</td>\n",
              "      <td>0.026924</td>\n",
              "      <td>37.07</td>\n",
              "      <td>0.469</td>\n",
              "      <td>7.185</td>\n",
              "      <td>61.1</td>\n",
              "      <td>22.2</td>\n",
              "      <td>4.03</td>\n",
              "      <td>NO</td>\n",
              "      <td>7.394</td>\n",
              "      <td>46.19856</td>\n",
              "      <td>None</td>\n",
              "      <td>38</td>\n",
              "      <td>0.045764</td>\n",
              "      <td>4.9675</td>\n",
              "    </tr>\n",
              "    <tr>\n",
              "      <th>3</th>\n",
              "      <td>33.4</td>\n",
              "      <td>0.031857</td>\n",
              "      <td>32.18</td>\n",
              "      <td>0.458</td>\n",
              "      <td>6.998</td>\n",
              "      <td>45.8</td>\n",
              "      <td>21.3</td>\n",
              "      <td>2.94</td>\n",
              "      <td>YES</td>\n",
              "      <td>9.268</td>\n",
              "      <td>11.26720</td>\n",
              "      <td>Lake</td>\n",
              "      <td>45</td>\n",
              "      <td>0.047151</td>\n",
              "      <td>6.0650</td>\n",
              "    </tr>\n",
              "    <tr>\n",
              "      <th>4</th>\n",
              "      <td>36.2</td>\n",
              "      <td>0.066770</td>\n",
              "      <td>32.18</td>\n",
              "      <td>0.458</td>\n",
              "      <td>7.147</td>\n",
              "      <td>54.2</td>\n",
              "      <td>21.3</td>\n",
              "      <td>5.33</td>\n",
              "      <td>NO</td>\n",
              "      <td>8.824</td>\n",
              "      <td>11.28960</td>\n",
              "      <td>Lake</td>\n",
              "      <td>55</td>\n",
              "      <td>0.039474</td>\n",
              "      <td>6.0625</td>\n",
              "    </tr>\n",
              "  </tbody>\n",
              "</table>\n",
              "</div>"
            ],
            "text/plain": [
              "   price  crime_rate  resid_area  ...  rainfall     parks  avg_dist\n",
              "0   24.0    0.006300       32.31  ...        23  0.049347    4.0875\n",
              "1   21.6    0.026944       37.07  ...        42  0.046146    4.9675\n",
              "2   34.7    0.026924       37.07  ...        38  0.045764    4.9675\n",
              "3   33.4    0.031857       32.18  ...        45  0.047151    6.0650\n",
              "4   36.2    0.066770       32.18  ...        55  0.039474    6.0625\n",
              "\n",
              "[5 rows x 15 columns]"
            ]
          },
          "metadata": {
            "tags": []
          },
          "execution_count": 95
        }
      ]
    },
    {
      "cell_type": "code",
      "metadata": {
        "id": "oc88CZxOjr8w",
        "colab_type": "code",
        "colab": {}
      },
      "source": [
        "df = pd.get_dummies(df)"
      ],
      "execution_count": 0,
      "outputs": []
    },
    {
      "cell_type": "code",
      "metadata": {
        "id": "YfqbsaSQJT7z",
        "colab_type": "code",
        "outputId": "a82ba67d-3b0e-46a0-b984-3f88076a2a1c",
        "colab": {
          "base_uri": "https://localhost:8080/",
          "height": 241
        }
      },
      "source": [
        "df.head()"
      ],
      "execution_count": 97,
      "outputs": [
        {
          "output_type": "execute_result",
          "data": {
            "text/html": [
              "<div>\n",
              "<style scoped>\n",
              "    .dataframe tbody tr th:only-of-type {\n",
              "        vertical-align: middle;\n",
              "    }\n",
              "\n",
              "    .dataframe tbody tr th {\n",
              "        vertical-align: top;\n",
              "    }\n",
              "\n",
              "    .dataframe thead th {\n",
              "        text-align: right;\n",
              "    }\n",
              "</style>\n",
              "<table border=\"1\" class=\"dataframe\">\n",
              "  <thead>\n",
              "    <tr style=\"text-align: right;\">\n",
              "      <th></th>\n",
              "      <th>price</th>\n",
              "      <th>crime_rate</th>\n",
              "      <th>resid_area</th>\n",
              "      <th>air_qual</th>\n",
              "      <th>room_num</th>\n",
              "      <th>age</th>\n",
              "      <th>teachers</th>\n",
              "      <th>poor_prop</th>\n",
              "      <th>n_hos_beds</th>\n",
              "      <th>n_hot_rooms</th>\n",
              "      <th>rainfall</th>\n",
              "      <th>parks</th>\n",
              "      <th>avg_dist</th>\n",
              "      <th>airport_NO</th>\n",
              "      <th>airport_YES</th>\n",
              "      <th>waterbody_Lake</th>\n",
              "      <th>waterbody_Lake and River</th>\n",
              "      <th>waterbody_None</th>\n",
              "      <th>waterbody_River</th>\n",
              "    </tr>\n",
              "  </thead>\n",
              "  <tbody>\n",
              "    <tr>\n",
              "      <th>0</th>\n",
              "      <td>24.0</td>\n",
              "      <td>0.006300</td>\n",
              "      <td>32.31</td>\n",
              "      <td>0.538</td>\n",
              "      <td>6.575</td>\n",
              "      <td>65.2</td>\n",
              "      <td>24.7</td>\n",
              "      <td>4.98</td>\n",
              "      <td>5.480</td>\n",
              "      <td>11.19200</td>\n",
              "      <td>23</td>\n",
              "      <td>0.049347</td>\n",
              "      <td>4.0875</td>\n",
              "      <td>0</td>\n",
              "      <td>1</td>\n",
              "      <td>0</td>\n",
              "      <td>0</td>\n",
              "      <td>0</td>\n",
              "      <td>1</td>\n",
              "    </tr>\n",
              "    <tr>\n",
              "      <th>1</th>\n",
              "      <td>21.6</td>\n",
              "      <td>0.026944</td>\n",
              "      <td>37.07</td>\n",
              "      <td>0.469</td>\n",
              "      <td>6.421</td>\n",
              "      <td>78.9</td>\n",
              "      <td>22.2</td>\n",
              "      <td>9.14</td>\n",
              "      <td>7.332</td>\n",
              "      <td>12.17280</td>\n",
              "      <td>42</td>\n",
              "      <td>0.046146</td>\n",
              "      <td>4.9675</td>\n",
              "      <td>1</td>\n",
              "      <td>0</td>\n",
              "      <td>1</td>\n",
              "      <td>0</td>\n",
              "      <td>0</td>\n",
              "      <td>0</td>\n",
              "    </tr>\n",
              "    <tr>\n",
              "      <th>2</th>\n",
              "      <td>34.7</td>\n",
              "      <td>0.026924</td>\n",
              "      <td>37.07</td>\n",
              "      <td>0.469</td>\n",
              "      <td>7.185</td>\n",
              "      <td>61.1</td>\n",
              "      <td>22.2</td>\n",
              "      <td>4.03</td>\n",
              "      <td>7.394</td>\n",
              "      <td>46.19856</td>\n",
              "      <td>38</td>\n",
              "      <td>0.045764</td>\n",
              "      <td>4.9675</td>\n",
              "      <td>1</td>\n",
              "      <td>0</td>\n",
              "      <td>0</td>\n",
              "      <td>0</td>\n",
              "      <td>1</td>\n",
              "      <td>0</td>\n",
              "    </tr>\n",
              "    <tr>\n",
              "      <th>3</th>\n",
              "      <td>33.4</td>\n",
              "      <td>0.031857</td>\n",
              "      <td>32.18</td>\n",
              "      <td>0.458</td>\n",
              "      <td>6.998</td>\n",
              "      <td>45.8</td>\n",
              "      <td>21.3</td>\n",
              "      <td>2.94</td>\n",
              "      <td>9.268</td>\n",
              "      <td>11.26720</td>\n",
              "      <td>45</td>\n",
              "      <td>0.047151</td>\n",
              "      <td>6.0650</td>\n",
              "      <td>0</td>\n",
              "      <td>1</td>\n",
              "      <td>1</td>\n",
              "      <td>0</td>\n",
              "      <td>0</td>\n",
              "      <td>0</td>\n",
              "    </tr>\n",
              "    <tr>\n",
              "      <th>4</th>\n",
              "      <td>36.2</td>\n",
              "      <td>0.066770</td>\n",
              "      <td>32.18</td>\n",
              "      <td>0.458</td>\n",
              "      <td>7.147</td>\n",
              "      <td>54.2</td>\n",
              "      <td>21.3</td>\n",
              "      <td>5.33</td>\n",
              "      <td>8.824</td>\n",
              "      <td>11.28960</td>\n",
              "      <td>55</td>\n",
              "      <td>0.039474</td>\n",
              "      <td>6.0625</td>\n",
              "      <td>1</td>\n",
              "      <td>0</td>\n",
              "      <td>1</td>\n",
              "      <td>0</td>\n",
              "      <td>0</td>\n",
              "      <td>0</td>\n",
              "    </tr>\n",
              "  </tbody>\n",
              "</table>\n",
              "</div>"
            ],
            "text/plain": [
              "   price  crime_rate  ...  waterbody_None  waterbody_River\n",
              "0   24.0    0.006300  ...               0                1\n",
              "1   21.6    0.026944  ...               0                0\n",
              "2   34.7    0.026924  ...               1                0\n",
              "3   33.4    0.031857  ...               0                0\n",
              "4   36.2    0.066770  ...               0                0\n",
              "\n",
              "[5 rows x 19 columns]"
            ]
          },
          "metadata": {
            "tags": []
          },
          "execution_count": 97
        }
      ]
    },
    {
      "cell_type": "code",
      "metadata": {
        "id": "vCXFg0nIJU8i",
        "colab_type": "code",
        "colab": {}
      },
      "source": [
        "del df['airport_NO']"
      ],
      "execution_count": 0,
      "outputs": []
    },
    {
      "cell_type": "code",
      "metadata": {
        "id": "4a7Ji8s8J2EJ",
        "colab_type": "code",
        "colab": {}
      },
      "source": [
        "del df['waterbody_None']"
      ],
      "execution_count": 0,
      "outputs": []
    },
    {
      "cell_type": "code",
      "metadata": {
        "id": "tuUsLD9JJ8ge",
        "colab_type": "code",
        "outputId": "3ca48d17-285f-4ded-b2c3-3c971b8e7fa2",
        "colab": {
          "base_uri": "https://localhost:8080/",
          "height": 241
        }
      },
      "source": [
        "df.head()"
      ],
      "execution_count": 100,
      "outputs": [
        {
          "output_type": "execute_result",
          "data": {
            "text/html": [
              "<div>\n",
              "<style scoped>\n",
              "    .dataframe tbody tr th:only-of-type {\n",
              "        vertical-align: middle;\n",
              "    }\n",
              "\n",
              "    .dataframe tbody tr th {\n",
              "        vertical-align: top;\n",
              "    }\n",
              "\n",
              "    .dataframe thead th {\n",
              "        text-align: right;\n",
              "    }\n",
              "</style>\n",
              "<table border=\"1\" class=\"dataframe\">\n",
              "  <thead>\n",
              "    <tr style=\"text-align: right;\">\n",
              "      <th></th>\n",
              "      <th>price</th>\n",
              "      <th>crime_rate</th>\n",
              "      <th>resid_area</th>\n",
              "      <th>air_qual</th>\n",
              "      <th>room_num</th>\n",
              "      <th>age</th>\n",
              "      <th>teachers</th>\n",
              "      <th>poor_prop</th>\n",
              "      <th>n_hos_beds</th>\n",
              "      <th>n_hot_rooms</th>\n",
              "      <th>rainfall</th>\n",
              "      <th>parks</th>\n",
              "      <th>avg_dist</th>\n",
              "      <th>airport_YES</th>\n",
              "      <th>waterbody_Lake</th>\n",
              "      <th>waterbody_Lake and River</th>\n",
              "      <th>waterbody_River</th>\n",
              "    </tr>\n",
              "  </thead>\n",
              "  <tbody>\n",
              "    <tr>\n",
              "      <th>0</th>\n",
              "      <td>24.0</td>\n",
              "      <td>0.006300</td>\n",
              "      <td>32.31</td>\n",
              "      <td>0.538</td>\n",
              "      <td>6.575</td>\n",
              "      <td>65.2</td>\n",
              "      <td>24.7</td>\n",
              "      <td>4.98</td>\n",
              "      <td>5.480</td>\n",
              "      <td>11.19200</td>\n",
              "      <td>23</td>\n",
              "      <td>0.049347</td>\n",
              "      <td>4.0875</td>\n",
              "      <td>1</td>\n",
              "      <td>0</td>\n",
              "      <td>0</td>\n",
              "      <td>1</td>\n",
              "    </tr>\n",
              "    <tr>\n",
              "      <th>1</th>\n",
              "      <td>21.6</td>\n",
              "      <td>0.026944</td>\n",
              "      <td>37.07</td>\n",
              "      <td>0.469</td>\n",
              "      <td>6.421</td>\n",
              "      <td>78.9</td>\n",
              "      <td>22.2</td>\n",
              "      <td>9.14</td>\n",
              "      <td>7.332</td>\n",
              "      <td>12.17280</td>\n",
              "      <td>42</td>\n",
              "      <td>0.046146</td>\n",
              "      <td>4.9675</td>\n",
              "      <td>0</td>\n",
              "      <td>1</td>\n",
              "      <td>0</td>\n",
              "      <td>0</td>\n",
              "    </tr>\n",
              "    <tr>\n",
              "      <th>2</th>\n",
              "      <td>34.7</td>\n",
              "      <td>0.026924</td>\n",
              "      <td>37.07</td>\n",
              "      <td>0.469</td>\n",
              "      <td>7.185</td>\n",
              "      <td>61.1</td>\n",
              "      <td>22.2</td>\n",
              "      <td>4.03</td>\n",
              "      <td>7.394</td>\n",
              "      <td>46.19856</td>\n",
              "      <td>38</td>\n",
              "      <td>0.045764</td>\n",
              "      <td>4.9675</td>\n",
              "      <td>0</td>\n",
              "      <td>0</td>\n",
              "      <td>0</td>\n",
              "      <td>0</td>\n",
              "    </tr>\n",
              "    <tr>\n",
              "      <th>3</th>\n",
              "      <td>33.4</td>\n",
              "      <td>0.031857</td>\n",
              "      <td>32.18</td>\n",
              "      <td>0.458</td>\n",
              "      <td>6.998</td>\n",
              "      <td>45.8</td>\n",
              "      <td>21.3</td>\n",
              "      <td>2.94</td>\n",
              "      <td>9.268</td>\n",
              "      <td>11.26720</td>\n",
              "      <td>45</td>\n",
              "      <td>0.047151</td>\n",
              "      <td>6.0650</td>\n",
              "      <td>1</td>\n",
              "      <td>1</td>\n",
              "      <td>0</td>\n",
              "      <td>0</td>\n",
              "    </tr>\n",
              "    <tr>\n",
              "      <th>4</th>\n",
              "      <td>36.2</td>\n",
              "      <td>0.066770</td>\n",
              "      <td>32.18</td>\n",
              "      <td>0.458</td>\n",
              "      <td>7.147</td>\n",
              "      <td>54.2</td>\n",
              "      <td>21.3</td>\n",
              "      <td>5.33</td>\n",
              "      <td>8.824</td>\n",
              "      <td>11.28960</td>\n",
              "      <td>55</td>\n",
              "      <td>0.039474</td>\n",
              "      <td>6.0625</td>\n",
              "      <td>0</td>\n",
              "      <td>1</td>\n",
              "      <td>0</td>\n",
              "      <td>0</td>\n",
              "    </tr>\n",
              "  </tbody>\n",
              "</table>\n",
              "</div>"
            ],
            "text/plain": [
              "   price  crime_rate  ...  waterbody_Lake and River  waterbody_River\n",
              "0   24.0    0.006300  ...                         0                1\n",
              "1   21.6    0.026944  ...                         0                0\n",
              "2   34.7    0.026924  ...                         0                0\n",
              "3   33.4    0.031857  ...                         0                0\n",
              "4   36.2    0.066770  ...                         0                0\n",
              "\n",
              "[5 rows x 17 columns]"
            ]
          },
          "metadata": {
            "tags": []
          },
          "execution_count": 100
        }
      ]
    },
    {
      "cell_type": "code",
      "metadata": {
        "id": "2-0n2Io0J-PB",
        "colab_type": "code",
        "outputId": "b683db0b-9f32-46d1-8414-98d270e85ce3",
        "colab": {
          "base_uri": "https://localhost:8080/",
          "height": 630
        }
      },
      "source": [
        "df.corr()"
      ],
      "execution_count": 101,
      "outputs": [
        {
          "output_type": "execute_result",
          "data": {
            "text/html": [
              "<div>\n",
              "<style scoped>\n",
              "    .dataframe tbody tr th:only-of-type {\n",
              "        vertical-align: middle;\n",
              "    }\n",
              "\n",
              "    .dataframe tbody tr th {\n",
              "        vertical-align: top;\n",
              "    }\n",
              "\n",
              "    .dataframe thead th {\n",
              "        text-align: right;\n",
              "    }\n",
              "</style>\n",
              "<table border=\"1\" class=\"dataframe\">\n",
              "  <thead>\n",
              "    <tr style=\"text-align: right;\">\n",
              "      <th></th>\n",
              "      <th>price</th>\n",
              "      <th>crime_rate</th>\n",
              "      <th>resid_area</th>\n",
              "      <th>air_qual</th>\n",
              "      <th>room_num</th>\n",
              "      <th>age</th>\n",
              "      <th>teachers</th>\n",
              "      <th>poor_prop</th>\n",
              "      <th>n_hos_beds</th>\n",
              "      <th>n_hot_rooms</th>\n",
              "      <th>rainfall</th>\n",
              "      <th>parks</th>\n",
              "      <th>avg_dist</th>\n",
              "      <th>airport_YES</th>\n",
              "      <th>waterbody_Lake</th>\n",
              "      <th>waterbody_Lake and River</th>\n",
              "      <th>waterbody_River</th>\n",
              "    </tr>\n",
              "  </thead>\n",
              "  <tbody>\n",
              "    <tr>\n",
              "      <th>price</th>\n",
              "      <td>1.000000</td>\n",
              "      <td>-0.466527</td>\n",
              "      <td>-0.484754</td>\n",
              "      <td>-0.429300</td>\n",
              "      <td>0.696304</td>\n",
              "      <td>-0.377999</td>\n",
              "      <td>0.505655</td>\n",
              "      <td>-0.740836</td>\n",
              "      <td>0.108880</td>\n",
              "      <td>0.017007</td>\n",
              "      <td>-0.047200</td>\n",
              "      <td>-0.391574</td>\n",
              "      <td>0.249289</td>\n",
              "      <td>0.182867</td>\n",
              "      <td>0.036233</td>\n",
              "      <td>-0.037497</td>\n",
              "      <td>0.071751</td>\n",
              "    </tr>\n",
              "    <tr>\n",
              "      <th>crime_rate</th>\n",
              "      <td>-0.466527</td>\n",
              "      <td>1.000000</td>\n",
              "      <td>0.660283</td>\n",
              "      <td>0.707587</td>\n",
              "      <td>-0.288784</td>\n",
              "      <td>0.559591</td>\n",
              "      <td>-0.390052</td>\n",
              "      <td>0.608970</td>\n",
              "      <td>-0.004089</td>\n",
              "      <td>0.056570</td>\n",
              "      <td>0.082151</td>\n",
              "      <td>0.638951</td>\n",
              "      <td>-0.586371</td>\n",
              "      <td>-0.134486</td>\n",
              "      <td>-0.025390</td>\n",
              "      <td>0.009076</td>\n",
              "      <td>-0.060099</td>\n",
              "    </tr>\n",
              "    <tr>\n",
              "      <th>resid_area</th>\n",
              "      <td>-0.484754</td>\n",
              "      <td>0.660283</td>\n",
              "      <td>1.000000</td>\n",
              "      <td>0.763651</td>\n",
              "      <td>-0.391676</td>\n",
              "      <td>0.644779</td>\n",
              "      <td>-0.383248</td>\n",
              "      <td>0.603800</td>\n",
              "      <td>0.005799</td>\n",
              "      <td>-0.003761</td>\n",
              "      <td>0.055845</td>\n",
              "      <td>0.707635</td>\n",
              "      <td>-0.708022</td>\n",
              "      <td>-0.115401</td>\n",
              "      <td>-0.026590</td>\n",
              "      <td>0.051649</td>\n",
              "      <td>-0.098976</td>\n",
              "    </tr>\n",
              "    <tr>\n",
              "      <th>air_qual</th>\n",
              "      <td>-0.429300</td>\n",
              "      <td>0.707587</td>\n",
              "      <td>0.763651</td>\n",
              "      <td>1.000000</td>\n",
              "      <td>-0.302188</td>\n",
              "      <td>0.731470</td>\n",
              "      <td>-0.188933</td>\n",
              "      <td>0.590879</td>\n",
              "      <td>-0.049553</td>\n",
              "      <td>0.007238</td>\n",
              "      <td>0.091956</td>\n",
              "      <td>0.915544</td>\n",
              "      <td>-0.769247</td>\n",
              "      <td>-0.073903</td>\n",
              "      <td>-0.046393</td>\n",
              "      <td>0.013849</td>\n",
              "      <td>-0.037772</td>\n",
              "    </tr>\n",
              "    <tr>\n",
              "      <th>room_num</th>\n",
              "      <td>0.696304</td>\n",
              "      <td>-0.288784</td>\n",
              "      <td>-0.391676</td>\n",
              "      <td>-0.302188</td>\n",
              "      <td>1.000000</td>\n",
              "      <td>-0.240265</td>\n",
              "      <td>0.355501</td>\n",
              "      <td>-0.613808</td>\n",
              "      <td>0.032009</td>\n",
              "      <td>0.014583</td>\n",
              "      <td>-0.064718</td>\n",
              "      <td>-0.282817</td>\n",
              "      <td>0.205241</td>\n",
              "      <td>0.163774</td>\n",
              "      <td>-0.004195</td>\n",
              "      <td>0.010554</td>\n",
              "      <td>0.046251</td>\n",
              "    </tr>\n",
              "    <tr>\n",
              "      <th>age</th>\n",
              "      <td>-0.377999</td>\n",
              "      <td>0.559591</td>\n",
              "      <td>0.644779</td>\n",
              "      <td>0.731470</td>\n",
              "      <td>-0.240265</td>\n",
              "      <td>1.000000</td>\n",
              "      <td>-0.261515</td>\n",
              "      <td>0.602339</td>\n",
              "      <td>-0.021012</td>\n",
              "      <td>0.013918</td>\n",
              "      <td>0.074684</td>\n",
              "      <td>0.673850</td>\n",
              "      <td>-0.747906</td>\n",
              "      <td>0.005101</td>\n",
              "      <td>0.003452</td>\n",
              "      <td>-0.004354</td>\n",
              "      <td>-0.088609</td>\n",
              "    </tr>\n",
              "    <tr>\n",
              "      <th>teachers</th>\n",
              "      <td>0.505655</td>\n",
              "      <td>-0.390052</td>\n",
              "      <td>-0.383248</td>\n",
              "      <td>-0.188933</td>\n",
              "      <td>0.355501</td>\n",
              "      <td>-0.261515</td>\n",
              "      <td>1.000000</td>\n",
              "      <td>-0.374044</td>\n",
              "      <td>-0.008056</td>\n",
              "      <td>-0.037007</td>\n",
              "      <td>-0.045928</td>\n",
              "      <td>-0.187004</td>\n",
              "      <td>0.232452</td>\n",
              "      <td>0.069437</td>\n",
              "      <td>0.048717</td>\n",
              "      <td>-0.046981</td>\n",
              "      <td>0.094256</td>\n",
              "    </tr>\n",
              "    <tr>\n",
              "      <th>poor_prop</th>\n",
              "      <td>-0.740836</td>\n",
              "      <td>0.608970</td>\n",
              "      <td>0.603800</td>\n",
              "      <td>0.590879</td>\n",
              "      <td>-0.613808</td>\n",
              "      <td>0.602339</td>\n",
              "      <td>-0.374044</td>\n",
              "      <td>1.000000</td>\n",
              "      <td>-0.066008</td>\n",
              "      <td>0.017036</td>\n",
              "      <td>0.061444</td>\n",
              "      <td>0.552310</td>\n",
              "      <td>-0.496967</td>\n",
              "      <td>-0.095054</td>\n",
              "      <td>0.003197</td>\n",
              "      <td>0.020620</td>\n",
              "      <td>-0.109004</td>\n",
              "    </tr>\n",
              "    <tr>\n",
              "      <th>n_hos_beds</th>\n",
              "      <td>0.108880</td>\n",
              "      <td>-0.004089</td>\n",
              "      <td>0.005799</td>\n",
              "      <td>-0.049553</td>\n",
              "      <td>0.032009</td>\n",
              "      <td>-0.021012</td>\n",
              "      <td>-0.008056</td>\n",
              "      <td>-0.066008</td>\n",
              "      <td>1.000000</td>\n",
              "      <td>-0.003130</td>\n",
              "      <td>0.058596</td>\n",
              "      <td>-0.071272</td>\n",
              "      <td>-0.027871</td>\n",
              "      <td>-0.006365</td>\n",
              "      <td>0.042278</td>\n",
              "      <td>0.059482</td>\n",
              "      <td>-0.074148</td>\n",
              "    </tr>\n",
              "    <tr>\n",
              "      <th>n_hot_rooms</th>\n",
              "      <td>0.017007</td>\n",
              "      <td>0.056570</td>\n",
              "      <td>-0.003761</td>\n",
              "      <td>0.007238</td>\n",
              "      <td>0.014583</td>\n",
              "      <td>0.013918</td>\n",
              "      <td>-0.037007</td>\n",
              "      <td>0.017036</td>\n",
              "      <td>-0.003130</td>\n",
              "      <td>1.000000</td>\n",
              "      <td>0.014869</td>\n",
              "      <td>0.023757</td>\n",
              "      <td>-0.020700</td>\n",
              "      <td>-0.055338</td>\n",
              "      <td>0.037925</td>\n",
              "      <td>0.014755</td>\n",
              "      <td>-0.064096</td>\n",
              "    </tr>\n",
              "    <tr>\n",
              "      <th>rainfall</th>\n",
              "      <td>-0.047200</td>\n",
              "      <td>0.082151</td>\n",
              "      <td>0.055845</td>\n",
              "      <td>0.091956</td>\n",
              "      <td>-0.064718</td>\n",
              "      <td>0.074684</td>\n",
              "      <td>-0.045928</td>\n",
              "      <td>0.061444</td>\n",
              "      <td>0.058596</td>\n",
              "      <td>0.014869</td>\n",
              "      <td>1.000000</td>\n",
              "      <td>0.078278</td>\n",
              "      <td>-0.037285</td>\n",
              "      <td>-0.013171</td>\n",
              "      <td>-0.016170</td>\n",
              "      <td>0.109234</td>\n",
              "      <td>-0.037016</td>\n",
              "    </tr>\n",
              "    <tr>\n",
              "      <th>parks</th>\n",
              "      <td>-0.391574</td>\n",
              "      <td>0.638951</td>\n",
              "      <td>0.707635</td>\n",
              "      <td>0.915544</td>\n",
              "      <td>-0.282817</td>\n",
              "      <td>0.673850</td>\n",
              "      <td>-0.187004</td>\n",
              "      <td>0.552310</td>\n",
              "      <td>-0.071272</td>\n",
              "      <td>0.023757</td>\n",
              "      <td>0.078278</td>\n",
              "      <td>1.000000</td>\n",
              "      <td>-0.707924</td>\n",
              "      <td>-0.052503</td>\n",
              "      <td>-0.034991</td>\n",
              "      <td>0.013265</td>\n",
              "      <td>-0.048862</td>\n",
              "    </tr>\n",
              "    <tr>\n",
              "      <th>avg_dist</th>\n",
              "      <td>0.249289</td>\n",
              "      <td>-0.586371</td>\n",
              "      <td>-0.708022</td>\n",
              "      <td>-0.769247</td>\n",
              "      <td>0.205241</td>\n",
              "      <td>-0.747906</td>\n",
              "      <td>0.232452</td>\n",
              "      <td>-0.496967</td>\n",
              "      <td>-0.027871</td>\n",
              "      <td>-0.020700</td>\n",
              "      <td>-0.037285</td>\n",
              "      <td>-0.707924</td>\n",
              "      <td>1.000000</td>\n",
              "      <td>0.021402</td>\n",
              "      <td>0.034890</td>\n",
              "      <td>-0.021320</td>\n",
              "      <td>0.032247</td>\n",
              "    </tr>\n",
              "    <tr>\n",
              "      <th>airport_YES</th>\n",
              "      <td>0.182867</td>\n",
              "      <td>-0.134486</td>\n",
              "      <td>-0.115401</td>\n",
              "      <td>-0.073903</td>\n",
              "      <td>0.163774</td>\n",
              "      <td>0.005101</td>\n",
              "      <td>0.069437</td>\n",
              "      <td>-0.095054</td>\n",
              "      <td>-0.006365</td>\n",
              "      <td>-0.055338</td>\n",
              "      <td>-0.013171</td>\n",
              "      <td>-0.052503</td>\n",
              "      <td>0.021402</td>\n",
              "      <td>1.000000</td>\n",
              "      <td>0.035491</td>\n",
              "      <td>-0.070341</td>\n",
              "      <td>0.017341</td>\n",
              "    </tr>\n",
              "    <tr>\n",
              "      <th>waterbody_Lake</th>\n",
              "      <td>0.036233</td>\n",
              "      <td>-0.025390</td>\n",
              "      <td>-0.026590</td>\n",
              "      <td>-0.046393</td>\n",
              "      <td>-0.004195</td>\n",
              "      <td>0.003452</td>\n",
              "      <td>0.048717</td>\n",
              "      <td>0.003197</td>\n",
              "      <td>0.042278</td>\n",
              "      <td>0.037925</td>\n",
              "      <td>-0.016170</td>\n",
              "      <td>-0.034991</td>\n",
              "      <td>0.034890</td>\n",
              "      <td>0.035491</td>\n",
              "      <td>1.000000</td>\n",
              "      <td>-0.196747</td>\n",
              "      <td>-0.366563</td>\n",
              "    </tr>\n",
              "    <tr>\n",
              "      <th>waterbody_Lake and River</th>\n",
              "      <td>-0.037497</td>\n",
              "      <td>0.009076</td>\n",
              "      <td>0.051649</td>\n",
              "      <td>0.013849</td>\n",
              "      <td>0.010554</td>\n",
              "      <td>-0.004354</td>\n",
              "      <td>-0.046981</td>\n",
              "      <td>0.020620</td>\n",
              "      <td>0.059482</td>\n",
              "      <td>0.014755</td>\n",
              "      <td>0.109234</td>\n",
              "      <td>0.013265</td>\n",
              "      <td>-0.021320</td>\n",
              "      <td>-0.070341</td>\n",
              "      <td>-0.196747</td>\n",
              "      <td>1.000000</td>\n",
              "      <td>-0.304095</td>\n",
              "    </tr>\n",
              "    <tr>\n",
              "      <th>waterbody_River</th>\n",
              "      <td>0.071751</td>\n",
              "      <td>-0.060099</td>\n",
              "      <td>-0.098976</td>\n",
              "      <td>-0.037772</td>\n",
              "      <td>0.046251</td>\n",
              "      <td>-0.088609</td>\n",
              "      <td>0.094256</td>\n",
              "      <td>-0.109004</td>\n",
              "      <td>-0.074148</td>\n",
              "      <td>-0.064096</td>\n",
              "      <td>-0.037016</td>\n",
              "      <td>-0.048862</td>\n",
              "      <td>0.032247</td>\n",
              "      <td>0.017341</td>\n",
              "      <td>-0.366563</td>\n",
              "      <td>-0.304095</td>\n",
              "      <td>1.000000</td>\n",
              "    </tr>\n",
              "  </tbody>\n",
              "</table>\n",
              "</div>"
            ],
            "text/plain": [
              "                             price  ...  waterbody_River\n",
              "price                     1.000000  ...         0.071751\n",
              "crime_rate               -0.466527  ...        -0.060099\n",
              "resid_area               -0.484754  ...        -0.098976\n",
              "air_qual                 -0.429300  ...        -0.037772\n",
              "room_num                  0.696304  ...         0.046251\n",
              "age                      -0.377999  ...        -0.088609\n",
              "teachers                  0.505655  ...         0.094256\n",
              "poor_prop                -0.740836  ...        -0.109004\n",
              "n_hos_beds                0.108880  ...        -0.074148\n",
              "n_hot_rooms               0.017007  ...        -0.064096\n",
              "rainfall                 -0.047200  ...        -0.037016\n",
              "parks                    -0.391574  ...        -0.048862\n",
              "avg_dist                  0.249289  ...         0.032247\n",
              "airport_YES               0.182867  ...         0.017341\n",
              "waterbody_Lake            0.036233  ...        -0.366563\n",
              "waterbody_Lake and River -0.037497  ...        -0.304095\n",
              "waterbody_River           0.071751  ...         1.000000\n",
              "\n",
              "[17 rows x 17 columns]"
            ]
          },
          "metadata": {
            "tags": []
          },
          "execution_count": 101
        }
      ]
    },
    {
      "cell_type": "code",
      "metadata": {
        "id": "3_Expl9qMEOI",
        "colab_type": "code",
        "colab": {}
      },
      "source": [
        "del df['parks']"
      ],
      "execution_count": 0,
      "outputs": []
    },
    {
      "cell_type": "code",
      "metadata": {
        "id": "ShBgfht-NLNL",
        "colab_type": "code",
        "outputId": "1df796ad-6985-4102-b757-a1e3bd21dac8",
        "colab": {
          "base_uri": "https://localhost:8080/",
          "height": 241
        }
      },
      "source": [
        "df.head()"
      ],
      "execution_count": 103,
      "outputs": [
        {
          "output_type": "execute_result",
          "data": {
            "text/html": [
              "<div>\n",
              "<style scoped>\n",
              "    .dataframe tbody tr th:only-of-type {\n",
              "        vertical-align: middle;\n",
              "    }\n",
              "\n",
              "    .dataframe tbody tr th {\n",
              "        vertical-align: top;\n",
              "    }\n",
              "\n",
              "    .dataframe thead th {\n",
              "        text-align: right;\n",
              "    }\n",
              "</style>\n",
              "<table border=\"1\" class=\"dataframe\">\n",
              "  <thead>\n",
              "    <tr style=\"text-align: right;\">\n",
              "      <th></th>\n",
              "      <th>price</th>\n",
              "      <th>crime_rate</th>\n",
              "      <th>resid_area</th>\n",
              "      <th>air_qual</th>\n",
              "      <th>room_num</th>\n",
              "      <th>age</th>\n",
              "      <th>teachers</th>\n",
              "      <th>poor_prop</th>\n",
              "      <th>n_hos_beds</th>\n",
              "      <th>n_hot_rooms</th>\n",
              "      <th>rainfall</th>\n",
              "      <th>avg_dist</th>\n",
              "      <th>airport_YES</th>\n",
              "      <th>waterbody_Lake</th>\n",
              "      <th>waterbody_Lake and River</th>\n",
              "      <th>waterbody_River</th>\n",
              "    </tr>\n",
              "  </thead>\n",
              "  <tbody>\n",
              "    <tr>\n",
              "      <th>0</th>\n",
              "      <td>24.0</td>\n",
              "      <td>0.006300</td>\n",
              "      <td>32.31</td>\n",
              "      <td>0.538</td>\n",
              "      <td>6.575</td>\n",
              "      <td>65.2</td>\n",
              "      <td>24.7</td>\n",
              "      <td>4.98</td>\n",
              "      <td>5.480</td>\n",
              "      <td>11.19200</td>\n",
              "      <td>23</td>\n",
              "      <td>4.0875</td>\n",
              "      <td>1</td>\n",
              "      <td>0</td>\n",
              "      <td>0</td>\n",
              "      <td>1</td>\n",
              "    </tr>\n",
              "    <tr>\n",
              "      <th>1</th>\n",
              "      <td>21.6</td>\n",
              "      <td>0.026944</td>\n",
              "      <td>37.07</td>\n",
              "      <td>0.469</td>\n",
              "      <td>6.421</td>\n",
              "      <td>78.9</td>\n",
              "      <td>22.2</td>\n",
              "      <td>9.14</td>\n",
              "      <td>7.332</td>\n",
              "      <td>12.17280</td>\n",
              "      <td>42</td>\n",
              "      <td>4.9675</td>\n",
              "      <td>0</td>\n",
              "      <td>1</td>\n",
              "      <td>0</td>\n",
              "      <td>0</td>\n",
              "    </tr>\n",
              "    <tr>\n",
              "      <th>2</th>\n",
              "      <td>34.7</td>\n",
              "      <td>0.026924</td>\n",
              "      <td>37.07</td>\n",
              "      <td>0.469</td>\n",
              "      <td>7.185</td>\n",
              "      <td>61.1</td>\n",
              "      <td>22.2</td>\n",
              "      <td>4.03</td>\n",
              "      <td>7.394</td>\n",
              "      <td>46.19856</td>\n",
              "      <td>38</td>\n",
              "      <td>4.9675</td>\n",
              "      <td>0</td>\n",
              "      <td>0</td>\n",
              "      <td>0</td>\n",
              "      <td>0</td>\n",
              "    </tr>\n",
              "    <tr>\n",
              "      <th>3</th>\n",
              "      <td>33.4</td>\n",
              "      <td>0.031857</td>\n",
              "      <td>32.18</td>\n",
              "      <td>0.458</td>\n",
              "      <td>6.998</td>\n",
              "      <td>45.8</td>\n",
              "      <td>21.3</td>\n",
              "      <td>2.94</td>\n",
              "      <td>9.268</td>\n",
              "      <td>11.26720</td>\n",
              "      <td>45</td>\n",
              "      <td>6.0650</td>\n",
              "      <td>1</td>\n",
              "      <td>1</td>\n",
              "      <td>0</td>\n",
              "      <td>0</td>\n",
              "    </tr>\n",
              "    <tr>\n",
              "      <th>4</th>\n",
              "      <td>36.2</td>\n",
              "      <td>0.066770</td>\n",
              "      <td>32.18</td>\n",
              "      <td>0.458</td>\n",
              "      <td>7.147</td>\n",
              "      <td>54.2</td>\n",
              "      <td>21.3</td>\n",
              "      <td>5.33</td>\n",
              "      <td>8.824</td>\n",
              "      <td>11.28960</td>\n",
              "      <td>55</td>\n",
              "      <td>6.0625</td>\n",
              "      <td>0</td>\n",
              "      <td>1</td>\n",
              "      <td>0</td>\n",
              "      <td>0</td>\n",
              "    </tr>\n",
              "  </tbody>\n",
              "</table>\n",
              "</div>"
            ],
            "text/plain": [
              "   price  crime_rate  ...  waterbody_Lake and River  waterbody_River\n",
              "0   24.0    0.006300  ...                         0                1\n",
              "1   21.6    0.026944  ...                         0                0\n",
              "2   34.7    0.026924  ...                         0                0\n",
              "3   33.4    0.031857  ...                         0                0\n",
              "4   36.2    0.066770  ...                         0                0\n",
              "\n",
              "[5 rows x 16 columns]"
            ]
          },
          "metadata": {
            "tags": []
          },
          "execution_count": 103
        }
      ]
    },
    {
      "cell_type": "code",
      "metadata": {
        "id": "_5RHiFOBNXq6",
        "colab_type": "code",
        "outputId": "55dadbe9-7243-4921-beba-84f45663aed1",
        "colab": {
          "base_uri": "https://localhost:8080/",
          "height": 599
        }
      },
      "source": [
        "df.corr()"
      ],
      "execution_count": 104,
      "outputs": [
        {
          "output_type": "execute_result",
          "data": {
            "text/html": [
              "<div>\n",
              "<style scoped>\n",
              "    .dataframe tbody tr th:only-of-type {\n",
              "        vertical-align: middle;\n",
              "    }\n",
              "\n",
              "    .dataframe tbody tr th {\n",
              "        vertical-align: top;\n",
              "    }\n",
              "\n",
              "    .dataframe thead th {\n",
              "        text-align: right;\n",
              "    }\n",
              "</style>\n",
              "<table border=\"1\" class=\"dataframe\">\n",
              "  <thead>\n",
              "    <tr style=\"text-align: right;\">\n",
              "      <th></th>\n",
              "      <th>price</th>\n",
              "      <th>crime_rate</th>\n",
              "      <th>resid_area</th>\n",
              "      <th>air_qual</th>\n",
              "      <th>room_num</th>\n",
              "      <th>age</th>\n",
              "      <th>teachers</th>\n",
              "      <th>poor_prop</th>\n",
              "      <th>n_hos_beds</th>\n",
              "      <th>n_hot_rooms</th>\n",
              "      <th>rainfall</th>\n",
              "      <th>avg_dist</th>\n",
              "      <th>airport_YES</th>\n",
              "      <th>waterbody_Lake</th>\n",
              "      <th>waterbody_Lake and River</th>\n",
              "      <th>waterbody_River</th>\n",
              "    </tr>\n",
              "  </thead>\n",
              "  <tbody>\n",
              "    <tr>\n",
              "      <th>price</th>\n",
              "      <td>1.000000</td>\n",
              "      <td>-0.466527</td>\n",
              "      <td>-0.484754</td>\n",
              "      <td>-0.429300</td>\n",
              "      <td>0.696304</td>\n",
              "      <td>-0.377999</td>\n",
              "      <td>0.505655</td>\n",
              "      <td>-0.740836</td>\n",
              "      <td>0.108880</td>\n",
              "      <td>0.017007</td>\n",
              "      <td>-0.047200</td>\n",
              "      <td>0.249289</td>\n",
              "      <td>0.182867</td>\n",
              "      <td>0.036233</td>\n",
              "      <td>-0.037497</td>\n",
              "      <td>0.071751</td>\n",
              "    </tr>\n",
              "    <tr>\n",
              "      <th>crime_rate</th>\n",
              "      <td>-0.466527</td>\n",
              "      <td>1.000000</td>\n",
              "      <td>0.660283</td>\n",
              "      <td>0.707587</td>\n",
              "      <td>-0.288784</td>\n",
              "      <td>0.559591</td>\n",
              "      <td>-0.390052</td>\n",
              "      <td>0.608970</td>\n",
              "      <td>-0.004089</td>\n",
              "      <td>0.056570</td>\n",
              "      <td>0.082151</td>\n",
              "      <td>-0.586371</td>\n",
              "      <td>-0.134486</td>\n",
              "      <td>-0.025390</td>\n",
              "      <td>0.009076</td>\n",
              "      <td>-0.060099</td>\n",
              "    </tr>\n",
              "    <tr>\n",
              "      <th>resid_area</th>\n",
              "      <td>-0.484754</td>\n",
              "      <td>0.660283</td>\n",
              "      <td>1.000000</td>\n",
              "      <td>0.763651</td>\n",
              "      <td>-0.391676</td>\n",
              "      <td>0.644779</td>\n",
              "      <td>-0.383248</td>\n",
              "      <td>0.603800</td>\n",
              "      <td>0.005799</td>\n",
              "      <td>-0.003761</td>\n",
              "      <td>0.055845</td>\n",
              "      <td>-0.708022</td>\n",
              "      <td>-0.115401</td>\n",
              "      <td>-0.026590</td>\n",
              "      <td>0.051649</td>\n",
              "      <td>-0.098976</td>\n",
              "    </tr>\n",
              "    <tr>\n",
              "      <th>air_qual</th>\n",
              "      <td>-0.429300</td>\n",
              "      <td>0.707587</td>\n",
              "      <td>0.763651</td>\n",
              "      <td>1.000000</td>\n",
              "      <td>-0.302188</td>\n",
              "      <td>0.731470</td>\n",
              "      <td>-0.188933</td>\n",
              "      <td>0.590879</td>\n",
              "      <td>-0.049553</td>\n",
              "      <td>0.007238</td>\n",
              "      <td>0.091956</td>\n",
              "      <td>-0.769247</td>\n",
              "      <td>-0.073903</td>\n",
              "      <td>-0.046393</td>\n",
              "      <td>0.013849</td>\n",
              "      <td>-0.037772</td>\n",
              "    </tr>\n",
              "    <tr>\n",
              "      <th>room_num</th>\n",
              "      <td>0.696304</td>\n",
              "      <td>-0.288784</td>\n",
              "      <td>-0.391676</td>\n",
              "      <td>-0.302188</td>\n",
              "      <td>1.000000</td>\n",
              "      <td>-0.240265</td>\n",
              "      <td>0.355501</td>\n",
              "      <td>-0.613808</td>\n",
              "      <td>0.032009</td>\n",
              "      <td>0.014583</td>\n",
              "      <td>-0.064718</td>\n",
              "      <td>0.205241</td>\n",
              "      <td>0.163774</td>\n",
              "      <td>-0.004195</td>\n",
              "      <td>0.010554</td>\n",
              "      <td>0.046251</td>\n",
              "    </tr>\n",
              "    <tr>\n",
              "      <th>age</th>\n",
              "      <td>-0.377999</td>\n",
              "      <td>0.559591</td>\n",
              "      <td>0.644779</td>\n",
              "      <td>0.731470</td>\n",
              "      <td>-0.240265</td>\n",
              "      <td>1.000000</td>\n",
              "      <td>-0.261515</td>\n",
              "      <td>0.602339</td>\n",
              "      <td>-0.021012</td>\n",
              "      <td>0.013918</td>\n",
              "      <td>0.074684</td>\n",
              "      <td>-0.747906</td>\n",
              "      <td>0.005101</td>\n",
              "      <td>0.003452</td>\n",
              "      <td>-0.004354</td>\n",
              "      <td>-0.088609</td>\n",
              "    </tr>\n",
              "    <tr>\n",
              "      <th>teachers</th>\n",
              "      <td>0.505655</td>\n",
              "      <td>-0.390052</td>\n",
              "      <td>-0.383248</td>\n",
              "      <td>-0.188933</td>\n",
              "      <td>0.355501</td>\n",
              "      <td>-0.261515</td>\n",
              "      <td>1.000000</td>\n",
              "      <td>-0.374044</td>\n",
              "      <td>-0.008056</td>\n",
              "      <td>-0.037007</td>\n",
              "      <td>-0.045928</td>\n",
              "      <td>0.232452</td>\n",
              "      <td>0.069437</td>\n",
              "      <td>0.048717</td>\n",
              "      <td>-0.046981</td>\n",
              "      <td>0.094256</td>\n",
              "    </tr>\n",
              "    <tr>\n",
              "      <th>poor_prop</th>\n",
              "      <td>-0.740836</td>\n",
              "      <td>0.608970</td>\n",
              "      <td>0.603800</td>\n",
              "      <td>0.590879</td>\n",
              "      <td>-0.613808</td>\n",
              "      <td>0.602339</td>\n",
              "      <td>-0.374044</td>\n",
              "      <td>1.000000</td>\n",
              "      <td>-0.066008</td>\n",
              "      <td>0.017036</td>\n",
              "      <td>0.061444</td>\n",
              "      <td>-0.496967</td>\n",
              "      <td>-0.095054</td>\n",
              "      <td>0.003197</td>\n",
              "      <td>0.020620</td>\n",
              "      <td>-0.109004</td>\n",
              "    </tr>\n",
              "    <tr>\n",
              "      <th>n_hos_beds</th>\n",
              "      <td>0.108880</td>\n",
              "      <td>-0.004089</td>\n",
              "      <td>0.005799</td>\n",
              "      <td>-0.049553</td>\n",
              "      <td>0.032009</td>\n",
              "      <td>-0.021012</td>\n",
              "      <td>-0.008056</td>\n",
              "      <td>-0.066008</td>\n",
              "      <td>1.000000</td>\n",
              "      <td>-0.003130</td>\n",
              "      <td>0.058596</td>\n",
              "      <td>-0.027871</td>\n",
              "      <td>-0.006365</td>\n",
              "      <td>0.042278</td>\n",
              "      <td>0.059482</td>\n",
              "      <td>-0.074148</td>\n",
              "    </tr>\n",
              "    <tr>\n",
              "      <th>n_hot_rooms</th>\n",
              "      <td>0.017007</td>\n",
              "      <td>0.056570</td>\n",
              "      <td>-0.003761</td>\n",
              "      <td>0.007238</td>\n",
              "      <td>0.014583</td>\n",
              "      <td>0.013918</td>\n",
              "      <td>-0.037007</td>\n",
              "      <td>0.017036</td>\n",
              "      <td>-0.003130</td>\n",
              "      <td>1.000000</td>\n",
              "      <td>0.014869</td>\n",
              "      <td>-0.020700</td>\n",
              "      <td>-0.055338</td>\n",
              "      <td>0.037925</td>\n",
              "      <td>0.014755</td>\n",
              "      <td>-0.064096</td>\n",
              "    </tr>\n",
              "    <tr>\n",
              "      <th>rainfall</th>\n",
              "      <td>-0.047200</td>\n",
              "      <td>0.082151</td>\n",
              "      <td>0.055845</td>\n",
              "      <td>0.091956</td>\n",
              "      <td>-0.064718</td>\n",
              "      <td>0.074684</td>\n",
              "      <td>-0.045928</td>\n",
              "      <td>0.061444</td>\n",
              "      <td>0.058596</td>\n",
              "      <td>0.014869</td>\n",
              "      <td>1.000000</td>\n",
              "      <td>-0.037285</td>\n",
              "      <td>-0.013171</td>\n",
              "      <td>-0.016170</td>\n",
              "      <td>0.109234</td>\n",
              "      <td>-0.037016</td>\n",
              "    </tr>\n",
              "    <tr>\n",
              "      <th>avg_dist</th>\n",
              "      <td>0.249289</td>\n",
              "      <td>-0.586371</td>\n",
              "      <td>-0.708022</td>\n",
              "      <td>-0.769247</td>\n",
              "      <td>0.205241</td>\n",
              "      <td>-0.747906</td>\n",
              "      <td>0.232452</td>\n",
              "      <td>-0.496967</td>\n",
              "      <td>-0.027871</td>\n",
              "      <td>-0.020700</td>\n",
              "      <td>-0.037285</td>\n",
              "      <td>1.000000</td>\n",
              "      <td>0.021402</td>\n",
              "      <td>0.034890</td>\n",
              "      <td>-0.021320</td>\n",
              "      <td>0.032247</td>\n",
              "    </tr>\n",
              "    <tr>\n",
              "      <th>airport_YES</th>\n",
              "      <td>0.182867</td>\n",
              "      <td>-0.134486</td>\n",
              "      <td>-0.115401</td>\n",
              "      <td>-0.073903</td>\n",
              "      <td>0.163774</td>\n",
              "      <td>0.005101</td>\n",
              "      <td>0.069437</td>\n",
              "      <td>-0.095054</td>\n",
              "      <td>-0.006365</td>\n",
              "      <td>-0.055338</td>\n",
              "      <td>-0.013171</td>\n",
              "      <td>0.021402</td>\n",
              "      <td>1.000000</td>\n",
              "      <td>0.035491</td>\n",
              "      <td>-0.070341</td>\n",
              "      <td>0.017341</td>\n",
              "    </tr>\n",
              "    <tr>\n",
              "      <th>waterbody_Lake</th>\n",
              "      <td>0.036233</td>\n",
              "      <td>-0.025390</td>\n",
              "      <td>-0.026590</td>\n",
              "      <td>-0.046393</td>\n",
              "      <td>-0.004195</td>\n",
              "      <td>0.003452</td>\n",
              "      <td>0.048717</td>\n",
              "      <td>0.003197</td>\n",
              "      <td>0.042278</td>\n",
              "      <td>0.037925</td>\n",
              "      <td>-0.016170</td>\n",
              "      <td>0.034890</td>\n",
              "      <td>0.035491</td>\n",
              "      <td>1.000000</td>\n",
              "      <td>-0.196747</td>\n",
              "      <td>-0.366563</td>\n",
              "    </tr>\n",
              "    <tr>\n",
              "      <th>waterbody_Lake and River</th>\n",
              "      <td>-0.037497</td>\n",
              "      <td>0.009076</td>\n",
              "      <td>0.051649</td>\n",
              "      <td>0.013849</td>\n",
              "      <td>0.010554</td>\n",
              "      <td>-0.004354</td>\n",
              "      <td>-0.046981</td>\n",
              "      <td>0.020620</td>\n",
              "      <td>0.059482</td>\n",
              "      <td>0.014755</td>\n",
              "      <td>0.109234</td>\n",
              "      <td>-0.021320</td>\n",
              "      <td>-0.070341</td>\n",
              "      <td>-0.196747</td>\n",
              "      <td>1.000000</td>\n",
              "      <td>-0.304095</td>\n",
              "    </tr>\n",
              "    <tr>\n",
              "      <th>waterbody_River</th>\n",
              "      <td>0.071751</td>\n",
              "      <td>-0.060099</td>\n",
              "      <td>-0.098976</td>\n",
              "      <td>-0.037772</td>\n",
              "      <td>0.046251</td>\n",
              "      <td>-0.088609</td>\n",
              "      <td>0.094256</td>\n",
              "      <td>-0.109004</td>\n",
              "      <td>-0.074148</td>\n",
              "      <td>-0.064096</td>\n",
              "      <td>-0.037016</td>\n",
              "      <td>0.032247</td>\n",
              "      <td>0.017341</td>\n",
              "      <td>-0.366563</td>\n",
              "      <td>-0.304095</td>\n",
              "      <td>1.000000</td>\n",
              "    </tr>\n",
              "  </tbody>\n",
              "</table>\n",
              "</div>"
            ],
            "text/plain": [
              "                             price  ...  waterbody_River\n",
              "price                     1.000000  ...         0.071751\n",
              "crime_rate               -0.466527  ...        -0.060099\n",
              "resid_area               -0.484754  ...        -0.098976\n",
              "air_qual                 -0.429300  ...        -0.037772\n",
              "room_num                  0.696304  ...         0.046251\n",
              "age                      -0.377999  ...        -0.088609\n",
              "teachers                  0.505655  ...         0.094256\n",
              "poor_prop                -0.740836  ...        -0.109004\n",
              "n_hos_beds                0.108880  ...        -0.074148\n",
              "n_hot_rooms               0.017007  ...        -0.064096\n",
              "rainfall                 -0.047200  ...        -0.037016\n",
              "avg_dist                  0.249289  ...         0.032247\n",
              "airport_YES               0.182867  ...         0.017341\n",
              "waterbody_Lake            0.036233  ...        -0.366563\n",
              "waterbody_Lake and River -0.037497  ...        -0.304095\n",
              "waterbody_River           0.071751  ...         1.000000\n",
              "\n",
              "[16 rows x 16 columns]"
            ]
          },
          "metadata": {
            "tags": []
          },
          "execution_count": 104
        }
      ]
    },
    {
      "cell_type": "code",
      "metadata": {
        "id": "W1LcaIE4NoSR",
        "colab_type": "code",
        "colab": {}
      },
      "source": [
        "import statsmodels.api as sn"
      ],
      "execution_count": 0,
      "outputs": []
    },
    {
      "cell_type": "code",
      "metadata": {
        "id": "WMgM8_JZhKut",
        "colab_type": "code",
        "colab": {}
      },
      "source": [
        "X = sn.add_constant(df['room_num'])"
      ],
      "execution_count": 0,
      "outputs": []
    },
    {
      "cell_type": "code",
      "metadata": {
        "id": "3Vzbtk6Rhp1v",
        "colab_type": "code",
        "colab": {}
      },
      "source": [
        "lm = sn.OLS(df['price'],X).fit()"
      ],
      "execution_count": 0,
      "outputs": []
    },
    {
      "cell_type": "code",
      "metadata": {
        "id": "elAG2mNYh9dN",
        "colab_type": "code",
        "colab": {
          "base_uri": "https://localhost:8080/",
          "height": 444
        },
        "outputId": "c18d5eb9-bce1-41c4-daec-a6699db99353"
      },
      "source": [
        "lm.summary()"
      ],
      "execution_count": 108,
      "outputs": [
        {
          "output_type": "execute_result",
          "data": {
            "text/html": [
              "<table class=\"simpletable\">\n",
              "<caption>OLS Regression Results</caption>\n",
              "<tr>\n",
              "  <th>Dep. Variable:</th>          <td>price</td>      <th>  R-squared:         </th> <td>   0.485</td>\n",
              "</tr>\n",
              "<tr>\n",
              "  <th>Model:</th>                   <td>OLS</td>       <th>  Adj. R-squared:    </th> <td>   0.484</td>\n",
              "</tr>\n",
              "<tr>\n",
              "  <th>Method:</th>             <td>Least Squares</td>  <th>  F-statistic:       </th> <td>   474.3</td>\n",
              "</tr>\n",
              "<tr>\n",
              "  <th>Date:</th>             <td>Wed, 20 May 2020</td> <th>  Prob (F-statistic):</th> <td>1.31e-74</td>\n",
              "</tr>\n",
              "<tr>\n",
              "  <th>Time:</th>                 <td>10:02:24</td>     <th>  Log-Likelihood:    </th> <td> -1671.6</td>\n",
              "</tr>\n",
              "<tr>\n",
              "  <th>No. Observations:</th>      <td>   506</td>      <th>  AIC:               </th> <td>   3347.</td>\n",
              "</tr>\n",
              "<tr>\n",
              "  <th>Df Residuals:</th>          <td>   504</td>      <th>  BIC:               </th> <td>   3356.</td>\n",
              "</tr>\n",
              "<tr>\n",
              "  <th>Df Model:</th>              <td>     1</td>      <th>                     </th>     <td> </td>   \n",
              "</tr>\n",
              "<tr>\n",
              "  <th>Covariance Type:</th>      <td>nonrobust</td>    <th>                     </th>     <td> </td>   \n",
              "</tr>\n",
              "</table>\n",
              "<table class=\"simpletable\">\n",
              "<tr>\n",
              "      <td></td>        <th>coef</th>     <th>std err</th>      <th>t</th>      <th>P>|t|</th>  <th>[0.025</th>    <th>0.975]</th>  \n",
              "</tr>\n",
              "<tr>\n",
              "  <th>const</th>    <td>  -34.6592</td> <td>    2.642</td> <td>  -13.118</td> <td> 0.000</td> <td>  -39.850</td> <td>  -29.468</td>\n",
              "</tr>\n",
              "<tr>\n",
              "  <th>room_num</th> <td>    9.0997</td> <td>    0.418</td> <td>   21.779</td> <td> 0.000</td> <td>    8.279</td> <td>    9.921</td>\n",
              "</tr>\n",
              "</table>\n",
              "<table class=\"simpletable\">\n",
              "<tr>\n",
              "  <th>Omnibus:</th>       <td>103.753</td> <th>  Durbin-Watson:     </th> <td>   0.681</td> \n",
              "</tr>\n",
              "<tr>\n",
              "  <th>Prob(Omnibus):</th> <td> 0.000</td>  <th>  Jarque-Bera (JB):  </th> <td> 633.429</td> \n",
              "</tr>\n",
              "<tr>\n",
              "  <th>Skew:</th>          <td> 0.729</td>  <th>  Prob(JB):          </th> <td>2.84e-138</td>\n",
              "</tr>\n",
              "<tr>\n",
              "  <th>Kurtosis:</th>      <td> 8.284</td>  <th>  Cond. No.          </th> <td>    58.4</td> \n",
              "</tr>\n",
              "</table><br/><br/>Warnings:<br/>[1] Standard Errors assume that the covariance matrix of the errors is correctly specified."
            ],
            "text/plain": [
              "<class 'statsmodels.iolib.summary.Summary'>\n",
              "\"\"\"\n",
              "                            OLS Regression Results                            \n",
              "==============================================================================\n",
              "Dep. Variable:                  price   R-squared:                       0.485\n",
              "Model:                            OLS   Adj. R-squared:                  0.484\n",
              "Method:                 Least Squares   F-statistic:                     474.3\n",
              "Date:                Wed, 20 May 2020   Prob (F-statistic):           1.31e-74\n",
              "Time:                        10:02:24   Log-Likelihood:                -1671.6\n",
              "No. Observations:                 506   AIC:                             3347.\n",
              "Df Residuals:                     504   BIC:                             3356.\n",
              "Df Model:                           1                                         \n",
              "Covariance Type:            nonrobust                                         \n",
              "==============================================================================\n",
              "                 coef    std err          t      P>|t|      [0.025      0.975]\n",
              "------------------------------------------------------------------------------\n",
              "const        -34.6592      2.642    -13.118      0.000     -39.850     -29.468\n",
              "room_num       9.0997      0.418     21.779      0.000       8.279       9.921\n",
              "==============================================================================\n",
              "Omnibus:                      103.753   Durbin-Watson:                   0.681\n",
              "Prob(Omnibus):                  0.000   Jarque-Bera (JB):              633.429\n",
              "Skew:                           0.729   Prob(JB):                    2.84e-138\n",
              "Kurtosis:                       8.284   Cond. No.                         58.4\n",
              "==============================================================================\n",
              "\n",
              "Warnings:\n",
              "[1] Standard Errors assume that the covariance matrix of the errors is correctly specified.\n",
              "\"\"\""
            ]
          },
          "metadata": {
            "tags": []
          },
          "execution_count": 108
        }
      ]
    },
    {
      "cell_type": "code",
      "metadata": {
        "id": "GeMgCGlTiJDE",
        "colab_type": "code",
        "colab": {}
      },
      "source": [
        "from sklearn.linear_model import LinearRegression"
      ],
      "execution_count": 0,
      "outputs": []
    },
    {
      "cell_type": "code",
      "metadata": {
        "id": "9vaS2kKXjEKC",
        "colab_type": "code",
        "colab": {}
      },
      "source": [
        "y = df['price']"
      ],
      "execution_count": 0,
      "outputs": []
    },
    {
      "cell_type": "code",
      "metadata": {
        "id": "1-ZSIkELjJCD",
        "colab_type": "code",
        "colab": {}
      },
      "source": [
        "X = df[['room_num']]"
      ],
      "execution_count": 0,
      "outputs": []
    },
    {
      "cell_type": "code",
      "metadata": {
        "id": "oz8tJJCijLwT",
        "colab_type": "code",
        "colab": {}
      },
      "source": [
        "lm2 = LinearRegression()"
      ],
      "execution_count": 0,
      "outputs": []
    },
    {
      "cell_type": "code",
      "metadata": {
        "id": "Jph4g1zljShF",
        "colab_type": "code",
        "colab": {
          "base_uri": "https://localhost:8080/",
          "height": 34
        },
        "outputId": "da2f30fc-de45-4da3-8f30-288a2d81fd73"
      },
      "source": [
        "lm2.fit(X,y)"
      ],
      "execution_count": 113,
      "outputs": [
        {
          "output_type": "execute_result",
          "data": {
            "text/plain": [
              "LinearRegression(copy_X=True, fit_intercept=True, n_jobs=None, normalize=False)"
            ]
          },
          "metadata": {
            "tags": []
          },
          "execution_count": 113
        }
      ]
    },
    {
      "cell_type": "code",
      "metadata": {
        "id": "N_xA20RqjaRW",
        "colab_type": "code",
        "colab": {
          "base_uri": "https://localhost:8080/",
          "height": 34
        },
        "outputId": "0ab02492-3f2a-4a44-e523-c262d4767ee1"
      },
      "source": [
        "print(lm2.intercept_,lm2.coef_)"
      ],
      "execution_count": 114,
      "outputs": [
        {
          "output_type": "stream",
          "text": [
            "-34.65924312309717 [9.09966966]\n"
          ],
          "name": "stdout"
        }
      ]
    },
    {
      "cell_type": "code",
      "metadata": {
        "id": "0KpP7Wrljnnw",
        "colab_type": "code",
        "colab": {
          "base_uri": "https://localhost:8080/",
          "height": 1000
        },
        "outputId": "c81c1d3f-71aa-4b05-be28-c9527e9fb766"
      },
      "source": [
        "lm2.predict(X)"
      ],
      "execution_count": 115,
      "outputs": [
        {
          "output_type": "execute_result",
          "data": {
            "text/plain": [
              "array([25.17108491, 23.76973578, 30.72188341, 29.02024518, 30.37609596,\n",
              "       23.85163281, 20.04797089, 21.50391804, 16.58099675, 19.97517353,\n",
              "       23.36935032, 20.02067188, 18.92871152, 19.4746917 , 20.81234314,\n",
              "       18.42822969, 19.34729633, 19.84777816, 14.98855456, 17.45456504,\n",
              "       16.0259169 , 19.62028642, 21.23092795, 18.23713663, 19.24719996,\n",
              "       16.28980732, 18.23713663, 20.36645933, 24.44311134, 26.07195221,\n",
              "       17.32716966, 20.59395107, 19.48379137, 17.21797363, 20.81234314,\n",
              "       19.32909699, 18.49192738, 18.57382441, 19.62938609, 25.3530783 ,\n",
              "       29.25683659, 26.9455205 , 21.47661903, 21.85880515, 20.56665206,\n",
              "       17.0450799 , 17.99144555, 20.21176495, 14.46987339, 16.31710633,\n",
              "       19.60208708, 20.98523687, 24.58870605, 19.92057552, 18.91961185,\n",
              "       31.30426226, 23.42394834, 27.3641053 , 21.25822696, 19.27449897,\n",
              "       17.58196041, 19.62938609, 24.08822422, 26.87272314, 29.98481016,\n",
              "       22.57767906, 18.00054522, 18.82861516, 16.24430897, 18.89231284,\n",
              "       23.7333371 , 19.58388774, 20.53025338, 22.16819392, 22.42298467,\n",
              "       22.54128038, 22.47758269, 21.21272861, 22.04989822, 18.79221648,\n",
              "       26.5542347 , 25.57147038, 22.68687509, 21.45841969, 23.47854635,\n",
              "       25.67156674, 20.0752699 , 21.03983488, 29.10214221, 29.75731842,\n",
              "       23.7333371 , 23.62414107, 23.96082885, 21.85880515, 22.2045926 ,\n",
              "       25.62606839, 21.42202101, 38.76599139, 36.50017364, 32.8239071 ,\n",
              "       26.5542347 , 27.04561686, 23.62414107, 21.1854296 , 21.45841969,\n",
              "       18.58292408, 18.44642903, 21.0944329 , 24.25201828, 22.02259921,\n",
              "       21.71321044, 26.44503866, 19.14710359, 20.77594446, 22.25009095,\n",
              "       19.28359864, 21.54031672, 20.12986792, 18.77401714, 17.49096372,\n",
              "       18.7558178 , 19.97517353, 19.58388774, 18.62842242, 18.83771483,\n",
              "       19.81137948, 16.4172027 , 17.14517627, 23.86073248, 16.63559477,\n",
              "       24.10642356, 22.90526717, 23.32385197, 18.31903366, 17.72755513,\n",
              "       22.98716419, 19.41099401, 24.07002488, 18.63752209, 21.31282497,\n",
              "       21.52211738, 11.01199892, 14.50627207, 15.09775059,  9.95643723,\n",
              "       21.12173191, 16.55369774, 10.16572964, 12.53164375, 16.27160798,\n",
              "       21.04893455, 14.51537174, 10.94830123, 17.29077098, 21.11263224,\n",
              "       21.32192464, 13.31421534, 28.51976335, 20.53935305, 24.57960638,\n",
              "       22.21369227, 33.48818298, 36.33637959, 41.55049031, 18.61022308,\n",
              "       20.85784149, 37.49203764, 18.81951549, 22.84156948, 23.59684206,\n",
              "       18.80131615, 18.8468145 , 16.04411624, 23.72423744, 18.65572143,\n",
              "       24.90719449, 20.12076825, 22.8051708 , 27.76449077, 28.85645113,\n",
              "       35.99969181, 21.24912729, 30.44889332, 25.06188888, 16.33530567,\n",
              "       21.33102431, 36.60027001, 27.05471653, 24.99819119, 30.72188341,\n",
              "       28.5925607 , 26.66343074, 30.65818572, 27.21851059, 25.43497533,\n",
              "       37.00065547, 31.65004971, 30.01210917, 31.53175401, 28.81095278,\n",
              "       30.26689992, 21.41292134, 34.58924301, 36.80046274, 38.44750295,\n",
              "       18.94691086, 22.90526717, 17.96414654, 20.52115371, 13.96939156,\n",
              "       19.57478807, 14.51537174, 18.18253861, 23.35115098, 14.58816909,\n",
              "       21.59491473, 18.91961185, 25.78076278, 19.49289104, 23.33295164,\n",
              "       28.5925607 , 21.43112068, 27.93738449, 25.56237071, 40.55862631,\n",
              "       44.73537469, 38.50210097, 30.52169067, 35.28081791, 24.96179251,\n",
              "       19.76588113, 32.78750842, 41.20470286, 40.38573259, 26.54513503,\n",
              "       20.72134645, 25.68066641, 32.29612626, 24.31571596, 25.45317467,\n",
              "       28.10117854, 20.80324347, 23.19645659, 23.51494503, 16.2352093 ,\n",
              "       16.34440534, 20.92153918, 21.9953002 , 23.87893182, 26.47233767,\n",
              "       24.37031398, 23.92443017, 28.64715872, 40.49492862, 20.92153918,\n",
              "       18.81041582, 33.16969455, 44.54428162, 32.06863452, 27.60069671,\n",
              "       30.88567746, 33.77027274, 41.75978271, 32.0140365 , 30.91297647,\n",
              "       15.9349202 , 29.16583989, 40.84071607, 33.31528926, 19.21080128,\n",
              "       18.62842242, 22.12269557, 24.83439713, 35.32631626, 26.83632446,\n",
              "       27.70989275, 31.46805632, 27.455102  , 24.32481563, 27.32770662,\n",
              "       36.50017364, 28.74725509, 34.90773145, 37.43743962, 29.83921545,\n",
              "       24.06092521, 22.03169888, 21.84060581, 22.8051708 , 25.08008821,\n",
              "       27.77359044, 30.38519563, 25.67156674, 21.0944329 , 20.02067188,\n",
              "       26.10835089, 24.9344935 , 18.02784423, 23.07816089, 29.41153097,\n",
              "       27.86458713, 25.30757996, 24.44311134, 28.87465046, 31.18596656,\n",
              "       25.54417137, 32.86030578, 27.6643944 , 25.71706509, 19.6839841 ,\n",
              "       10.59341411, 21.04893455, 20.14806726, 22.35928699, 25.09828755,\n",
              "       17.2543723 , 19.15620326, 17.95504687, 23.41484867, 20.96703753,\n",
              "       23.81523413, 23.36025065, 20.31186131, 17.28167131, 23.71513777,\n",
              "       23.86073248, 22.77787179, 20.69404744, 18.73761846, 22.96896485,\n",
              "       21.24912729, 17.26347197, 20.22086461, 22.81427047, 22.75967245,\n",
              "       20.27546263, 18.74671813, 18.98330954, 20.47565537, 19.80227981,\n",
              "       19.64758543, 31.23146491, 24.85259647, 26.27214494, 27.89188614,\n",
              "       20.06617023, 19.01060855, 24.6342044 , 25.71706509, 28.48336467,\n",
              "       24.39761299, 25.20748359, 18.88321317, 26.56333437, 16.87218618,\n",
              "       19.356396  , 21.86790482, 23.53314437, 21.0944329 , 20.95793786,\n",
              "       23.56044338, 22.22279194, 14.13318561, 18.14613993, 45.23585652,\n",
              "       -2.25531945, 10.50241741,  0.49278079, 10.5661151 , 26.15384924,\n",
              "       29.18403923, 21.9043035 , 18.80131615,  9.98373624,  2.99518994,\n",
              "       31.88664112, 25.84446047, 27.16391257, 23.39664933, 21.96800119,\n",
              "       28.74725509, 24.89809482, 15.71652813, 15.57093342,  5.08811397,\n",
              "       13.35971369,  7.67242015, 10.83910519,  9.74714483, 14.38797636,\n",
              "       17.32716966, 20.40285801, 11.1666933 , 21.6950111 , 18.91051218,\n",
              "       24.22471927, 23.62414107, 17.63655843, 14.96125555, 18.59202375,\n",
              "       19.82047915, 23.05996155, 23.6150414 , 14.0148899 , 15.67102978,\n",
              "       17.05417957,  2.99518994, 16.37170435, 16.45360137, 27.69169341,\n",
              "       17.72755513, 25.91725782,  7.45402808, 12.24955399,  6.46216408,\n",
              "       23.88803149, 27.05471653, 13.60540477, 19.54748906, 27.43690266,\n",
              "       23.67873909, 19.99337287, 16.73569113, 20.87604083, 15.98041855,\n",
              "       18.99240921, 18.4555287 , 21.77690813, 21.6950111 , 23.39664933,\n",
              "       23.1054599 , 27.51879968, 23.80613446, 23.90623083, 21.83150615,\n",
              "       25.66246707, 24.13372257, 21.32192464, 19.34729633, 16.54459807,\n",
              "       18.28263498, 23.63324074, 21.93160251, 24.35211464, 18.61022308,\n",
              "       24.11552323, 23.04176221, 22.22279194, 21.62221374, 23.7333371 ,\n",
              "       26.75442743, 25.89905848, 22.64137675, 32.6146147 , 26.56333437,\n",
              "       24.71610143, 19.72038278, 19.356396  , 22.67777542, 20.6758481 ,\n",
              "       26.31764329, 23.36025065, 22.82337014, 24.60690539, 21.84060581,\n",
              "       17.74575447, 19.50199071, 19.96607386, 19.2653993 , 17.32716966,\n",
              "       21.45841969, 22.02259921, 23.9153305 , 28.85645113, 14.72466414,\n",
              "       21.41292134, 24.34301497, 13.60540477, 21.62221374, 22.02259921,\n",
              "       22.14089491, 26.7635271 , 29.59352437, 17.77305348, 18.76491747,\n",
              "       22.77787179, 20.9761372 , 19.07430624, 14.97035522, 14.60636843,\n",
              "       11.68537447, 19.78408047, 19.78408047, 17.27257164, 19.2653993 ,\n",
              "       16.93588387, 14.38797636, 18.0642429 , 20.11166858, 16.01681723,\n",
              "       20.18446594, 25.33487897, 21.03073521, 28.82005245, 27.16391257,\n",
              "       20.21176495])"
            ]
          },
          "metadata": {
            "tags": []
          },
          "execution_count": 115
        }
      ]
    },
    {
      "cell_type": "code",
      "metadata": {
        "id": "eDZD7Hfokceo",
        "colab_type": "code",
        "colab": {
          "base_uri": "https://localhost:8080/",
          "height": 458
        },
        "outputId": "9cf82f28-10b5-4283-f5b9-286844b9466b"
      },
      "source": [
        "sns.jointplot(x = df['room_num'],y = df['price'], data = df, kind = 'reg')"
      ],
      "execution_count": 116,
      "outputs": [
        {
          "output_type": "execute_result",
          "data": {
            "text/plain": [
              "<seaborn.axisgrid.JointGrid at 0x7f60ffdb0278>"
            ]
          },
          "metadata": {
            "tags": []
          },
          "execution_count": 116
        },
        {
          "output_type": "display_data",
          "data": {
            "image/png": "[encoded data removed]",
            "text/plain": [
              "<Figure size 432x432 with 3 Axes>"
            ]
          },
          "metadata": {
            "tags": [],
            "needs_background": "light"
          }
        }
      ]
    },
    {
      "cell_type": "code",
      "metadata": {
        "id": "Riki0kqQkwfP",
        "colab_type": "code",
        "colab": {}
      },
      "source": [
        "X_multi = df.drop('price',axis=1)"
      ],
      "execution_count": 0,
      "outputs": []
    },
    {
      "cell_type": "code",
      "metadata": {
        "id": "8pNJz-4DpTxz",
        "colab_type": "code",
        "colab": {
          "base_uri": "https://localhost:8080/",
          "height": 241
        },
        "outputId": "0f3e1dee-9b0c-462d-c32c-cd54ce6b09cd"
      },
      "source": [
        "X_multi.head()"
      ],
      "execution_count": 118,
      "outputs": [
        {
          "output_type": "execute_result",
          "data": {
            "text/html": [
              "<div>\n",
              "<style scoped>\n",
              "    .dataframe tbody tr th:only-of-type {\n",
              "        vertical-align: middle;\n",
              "    }\n",
              "\n",
              "    .dataframe tbody tr th {\n",
              "        vertical-align: top;\n",
              "    }\n",
              "\n",
              "    .dataframe thead th {\n",
              "        text-align: right;\n",
              "    }\n",
              "</style>\n",
              "<table border=\"1\" class=\"dataframe\">\n",
              "  <thead>\n",
              "    <tr style=\"text-align: right;\">\n",
              "      <th></th>\n",
              "      <th>crime_rate</th>\n",
              "      <th>resid_area</th>\n",
              "      <th>air_qual</th>\n",
              "      <th>room_num</th>\n",
              "      <th>age</th>\n",
              "      <th>teachers</th>\n",
              "      <th>poor_prop</th>\n",
              "      <th>n_hos_beds</th>\n",
              "      <th>n_hot_rooms</th>\n",
              "      <th>rainfall</th>\n",
              "      <th>avg_dist</th>\n",
              "      <th>airport_YES</th>\n",
              "      <th>waterbody_Lake</th>\n",
              "      <th>waterbody_Lake and River</th>\n",
              "      <th>waterbody_River</th>\n",
              "    </tr>\n",
              "  </thead>\n",
              "  <tbody>\n",
              "    <tr>\n",
              "      <th>0</th>\n",
              "      <td>0.006300</td>\n",
              "      <td>32.31</td>\n",
              "      <td>0.538</td>\n",
              "      <td>6.575</td>\n",
              "      <td>65.2</td>\n",
              "      <td>24.7</td>\n",
              "      <td>4.98</td>\n",
              "      <td>5.480</td>\n",
              "      <td>11.19200</td>\n",
              "      <td>23</td>\n",
              "      <td>4.0875</td>\n",
              "      <td>1</td>\n",
              "      <td>0</td>\n",
              "      <td>0</td>\n",
              "      <td>1</td>\n",
              "    </tr>\n",
              "    <tr>\n",
              "      <th>1</th>\n",
              "      <td>0.026944</td>\n",
              "      <td>37.07</td>\n",
              "      <td>0.469</td>\n",
              "      <td>6.421</td>\n",
              "      <td>78.9</td>\n",
              "      <td>22.2</td>\n",
              "      <td>9.14</td>\n",
              "      <td>7.332</td>\n",
              "      <td>12.17280</td>\n",
              "      <td>42</td>\n",
              "      <td>4.9675</td>\n",
              "      <td>0</td>\n",
              "      <td>1</td>\n",
              "      <td>0</td>\n",
              "      <td>0</td>\n",
              "    </tr>\n",
              "    <tr>\n",
              "      <th>2</th>\n",
              "      <td>0.026924</td>\n",
              "      <td>37.07</td>\n",
              "      <td>0.469</td>\n",
              "      <td>7.185</td>\n",
              "      <td>61.1</td>\n",
              "      <td>22.2</td>\n",
              "      <td>4.03</td>\n",
              "      <td>7.394</td>\n",
              "      <td>46.19856</td>\n",
              "      <td>38</td>\n",
              "      <td>4.9675</td>\n",
              "      <td>0</td>\n",
              "      <td>0</td>\n",
              "      <td>0</td>\n",
              "      <td>0</td>\n",
              "    </tr>\n",
              "    <tr>\n",
              "      <th>3</th>\n",
              "      <td>0.031857</td>\n",
              "      <td>32.18</td>\n",
              "      <td>0.458</td>\n",
              "      <td>6.998</td>\n",
              "      <td>45.8</td>\n",
              "      <td>21.3</td>\n",
              "      <td>2.94</td>\n",
              "      <td>9.268</td>\n",
              "      <td>11.26720</td>\n",
              "      <td>45</td>\n",
              "      <td>6.0650</td>\n",
              "      <td>1</td>\n",
              "      <td>1</td>\n",
              "      <td>0</td>\n",
              "      <td>0</td>\n",
              "    </tr>\n",
              "    <tr>\n",
              "      <th>4</th>\n",
              "      <td>0.066770</td>\n",
              "      <td>32.18</td>\n",
              "      <td>0.458</td>\n",
              "      <td>7.147</td>\n",
              "      <td>54.2</td>\n",
              "      <td>21.3</td>\n",
              "      <td>5.33</td>\n",
              "      <td>8.824</td>\n",
              "      <td>11.28960</td>\n",
              "      <td>55</td>\n",
              "      <td>6.0625</td>\n",
              "      <td>0</td>\n",
              "      <td>1</td>\n",
              "      <td>0</td>\n",
              "      <td>0</td>\n",
              "    </tr>\n",
              "  </tbody>\n",
              "</table>\n",
              "</div>"
            ],
            "text/plain": [
              "   crime_rate  resid_area  ...  waterbody_Lake and River  waterbody_River\n",
              "0    0.006300       32.31  ...                         0                1\n",
              "1    0.026944       37.07  ...                         0                0\n",
              "2    0.026924       37.07  ...                         0                0\n",
              "3    0.031857       32.18  ...                         0                0\n",
              "4    0.066770       32.18  ...                         0                0\n",
              "\n",
              "[5 rows x 15 columns]"
            ]
          },
          "metadata": {
            "tags": []
          },
          "execution_count": 118
        }
      ]
    },
    {
      "cell_type": "code",
      "metadata": {
        "id": "JIprxpaRpaDl",
        "colab_type": "code",
        "colab": {}
      },
      "source": [
        "y_multi = df['price']"
      ],
      "execution_count": 0,
      "outputs": []
    },
    {
      "cell_type": "code",
      "metadata": {
        "id": "grNkmKZmpdY1",
        "colab_type": "code",
        "colab": {
          "base_uri": "https://localhost:8080/",
          "height": 119
        },
        "outputId": "a1dd2543-07c4-41eb-f11e-0fc4630a63e9"
      },
      "source": [
        "y_multi.head()"
      ],
      "execution_count": 120,
      "outputs": [
        {
          "output_type": "execute_result",
          "data": {
            "text/plain": [
              "0    24.0\n",
              "1    21.6\n",
              "2    34.7\n",
              "3    33.4\n",
              "4    36.2\n",
              "Name: price, dtype: float64"
            ]
          },
          "metadata": {
            "tags": []
          },
          "execution_count": 120
        }
      ]
    },
    {
      "cell_type": "code",
      "metadata": {
        "id": "2vqPK3XGpeyl",
        "colab_type": "code",
        "colab": {}
      },
      "source": [
        "X_multi_cons = sn.add_constant(X_multi)"
      ],
      "execution_count": 0,
      "outputs": []
    },
    {
      "cell_type": "code",
      "metadata": {
        "id": "_0QwRf0DppIR",
        "colab_type": "code",
        "colab": {
          "base_uri": "https://localhost:8080/",
          "height": 241
        },
        "outputId": "f1d720f5-878b-40e6-f52c-00335cd50139"
      },
      "source": [
        "X_multi_cons.head()"
      ],
      "execution_count": 123,
      "outputs": [
        {
          "output_type": "execute_result",
          "data": {
            "text/html": [
              "<div>\n",
              "<style scoped>\n",
              "    .dataframe tbody tr th:only-of-type {\n",
              "        vertical-align: middle;\n",
              "    }\n",
              "\n",
              "    .dataframe tbody tr th {\n",
              "        vertical-align: top;\n",
              "    }\n",
              "\n",
              "    .dataframe thead th {\n",
              "        text-align: right;\n",
              "    }\n",
              "</style>\n",
              "<table border=\"1\" class=\"dataframe\">\n",
              "  <thead>\n",
              "    <tr style=\"text-align: right;\">\n",
              "      <th></th>\n",
              "      <th>const</th>\n",
              "      <th>crime_rate</th>\n",
              "      <th>resid_area</th>\n",
              "      <th>air_qual</th>\n",
              "      <th>room_num</th>\n",
              "      <th>age</th>\n",
              "      <th>teachers</th>\n",
              "      <th>poor_prop</th>\n",
              "      <th>n_hos_beds</th>\n",
              "      <th>n_hot_rooms</th>\n",
              "      <th>rainfall</th>\n",
              "      <th>avg_dist</th>\n",
              "      <th>airport_YES</th>\n",
              "      <th>waterbody_Lake</th>\n",
              "      <th>waterbody_Lake and River</th>\n",
              "      <th>waterbody_River</th>\n",
              "    </tr>\n",
              "  </thead>\n",
              "  <tbody>\n",
              "    <tr>\n",
              "      <th>0</th>\n",
              "      <td>1.0</td>\n",
              "      <td>0.006300</td>\n",
              "      <td>32.31</td>\n",
              "      <td>0.538</td>\n",
              "      <td>6.575</td>\n",
              "      <td>65.2</td>\n",
              "      <td>24.7</td>\n",
              "      <td>4.98</td>\n",
              "      <td>5.480</td>\n",
              "      <td>11.19200</td>\n",
              "      <td>23</td>\n",
              "      <td>4.0875</td>\n",
              "      <td>1</td>\n",
              "      <td>0</td>\n",
              "      <td>0</td>\n",
              "      <td>1</td>\n",
              "    </tr>\n",
              "    <tr>\n",
              "      <th>1</th>\n",
              "      <td>1.0</td>\n",
              "      <td>0.026944</td>\n",
              "      <td>37.07</td>\n",
              "      <td>0.469</td>\n",
              "      <td>6.421</td>\n",
              "      <td>78.9</td>\n",
              "      <td>22.2</td>\n",
              "      <td>9.14</td>\n",
              "      <td>7.332</td>\n",
              "      <td>12.17280</td>\n",
              "      <td>42</td>\n",
              "      <td>4.9675</td>\n",
              "      <td>0</td>\n",
              "      <td>1</td>\n",
              "      <td>0</td>\n",
              "      <td>0</td>\n",
              "    </tr>\n",
              "    <tr>\n",
              "      <th>2</th>\n",
              "      <td>1.0</td>\n",
              "      <td>0.026924</td>\n",
              "      <td>37.07</td>\n",
              "      <td>0.469</td>\n",
              "      <td>7.185</td>\n",
              "      <td>61.1</td>\n",
              "      <td>22.2</td>\n",
              "      <td>4.03</td>\n",
              "      <td>7.394</td>\n",
              "      <td>46.19856</td>\n",
              "      <td>38</td>\n",
              "      <td>4.9675</td>\n",
              "      <td>0</td>\n",
              "      <td>0</td>\n",
              "      <td>0</td>\n",
              "      <td>0</td>\n",
              "    </tr>\n",
              "    <tr>\n",
              "      <th>3</th>\n",
              "      <td>1.0</td>\n",
              "      <td>0.031857</td>\n",
              "      <td>32.18</td>\n",
              "      <td>0.458</td>\n",
              "      <td>6.998</td>\n",
              "      <td>45.8</td>\n",
              "      <td>21.3</td>\n",
              "      <td>2.94</td>\n",
              "      <td>9.268</td>\n",
              "      <td>11.26720</td>\n",
              "      <td>45</td>\n",
              "      <td>6.0650</td>\n",
              "      <td>1</td>\n",
              "      <td>1</td>\n",
              "      <td>0</td>\n",
              "      <td>0</td>\n",
              "    </tr>\n",
              "    <tr>\n",
              "      <th>4</th>\n",
              "      <td>1.0</td>\n",
              "      <td>0.066770</td>\n",
              "      <td>32.18</td>\n",
              "      <td>0.458</td>\n",
              "      <td>7.147</td>\n",
              "      <td>54.2</td>\n",
              "      <td>21.3</td>\n",
              "      <td>5.33</td>\n",
              "      <td>8.824</td>\n",
              "      <td>11.28960</td>\n",
              "      <td>55</td>\n",
              "      <td>6.0625</td>\n",
              "      <td>0</td>\n",
              "      <td>1</td>\n",
              "      <td>0</td>\n",
              "      <td>0</td>\n",
              "    </tr>\n",
              "  </tbody>\n",
              "</table>\n",
              "</div>"
            ],
            "text/plain": [
              "   const  crime_rate  ...  waterbody_Lake and River  waterbody_River\n",
              "0    1.0    0.006300  ...                         0                1\n",
              "1    1.0    0.026944  ...                         0                0\n",
              "2    1.0    0.026924  ...                         0                0\n",
              "3    1.0    0.031857  ...                         0                0\n",
              "4    1.0    0.066770  ...                         0                0\n",
              "\n",
              "[5 rows x 16 columns]"
            ]
          },
          "metadata": {
            "tags": []
          },
          "execution_count": 123
        }
      ]
    },
    {
      "cell_type": "code",
      "metadata": {
        "id": "b8L792mupwKG",
        "colab_type": "code",
        "colab": {}
      },
      "source": [
        "lm_multi = sn.OLS(y_multi,X_multi_cons).fit()"
      ],
      "execution_count": 0,
      "outputs": []
    },
    {
      "cell_type": "code",
      "metadata": {
        "id": "7xAVvh3YqAmc",
        "colab_type": "code",
        "colab": {
          "base_uri": "https://localhost:8080/",
          "height": 772
        },
        "outputId": "221ebc74-05ce-4a3b-e1e2-d89df2c7761c"
      },
      "source": [
        "lm_multi.summary()"
      ],
      "execution_count": 125,
      "outputs": [
        {
          "output_type": "execute_result",
          "data": {
            "text/html": [
              "<table class=\"simpletable\">\n",
              "<caption>OLS Regression Results</caption>\n",
              "<tr>\n",
              "  <th>Dep. Variable:</th>          <td>price</td>      <th>  R-squared:         </th> <td>   0.721</td> \n",
              "</tr>\n",
              "<tr>\n",
              "  <th>Model:</th>                   <td>OLS</td>       <th>  Adj. R-squared:    </th> <td>   0.712</td> \n",
              "</tr>\n",
              "<tr>\n",
              "  <th>Method:</th>             <td>Least Squares</td>  <th>  F-statistic:       </th> <td>   84.34</td> \n",
              "</tr>\n",
              "<tr>\n",
              "  <th>Date:</th>             <td>Wed, 20 May 2020</td> <th>  Prob (F-statistic):</th> <td>4.19e-125</td>\n",
              "</tr>\n",
              "<tr>\n",
              "  <th>Time:</th>                 <td>10:37:02</td>     <th>  Log-Likelihood:    </th> <td> -1516.6</td> \n",
              "</tr>\n",
              "<tr>\n",
              "  <th>No. Observations:</th>      <td>   506</td>      <th>  AIC:               </th> <td>   3065.</td> \n",
              "</tr>\n",
              "<tr>\n",
              "  <th>Df Residuals:</th>          <td>   490</td>      <th>  BIC:               </th> <td>   3133.</td> \n",
              "</tr>\n",
              "<tr>\n",
              "  <th>Df Model:</th>              <td>    15</td>      <th>                     </th>     <td> </td>    \n",
              "</tr>\n",
              "<tr>\n",
              "  <th>Covariance Type:</th>      <td>nonrobust</td>    <th>                     </th>     <td> </td>    \n",
              "</tr>\n",
              "</table>\n",
              "<table class=\"simpletable\">\n",
              "<tr>\n",
              "              <td></td>                <th>coef</th>     <th>std err</th>      <th>t</th>      <th>P>|t|</th>  <th>[0.025</th>    <th>0.975]</th>  \n",
              "</tr>\n",
              "<tr>\n",
              "  <th>const</th>                    <td>   -6.4986</td> <td>    5.264</td> <td>   -1.235</td> <td> 0.218</td> <td>  -16.842</td> <td>    3.844</td>\n",
              "</tr>\n",
              "<tr>\n",
              "  <th>crime_rate</th>               <td>    0.0097</td> <td>    0.348</td> <td>    0.028</td> <td> 0.978</td> <td>   -0.674</td> <td>    0.694</td>\n",
              "</tr>\n",
              "<tr>\n",
              "  <th>resid_area</th>               <td>   -0.0409</td> <td>    0.058</td> <td>   -0.710</td> <td> 0.478</td> <td>   -0.154</td> <td>    0.072</td>\n",
              "</tr>\n",
              "<tr>\n",
              "  <th>air_qual</th>                 <td>  -15.8974</td> <td>    4.004</td> <td>   -3.971</td> <td> 0.000</td> <td>  -23.764</td> <td>   -8.031</td>\n",
              "</tr>\n",
              "<tr>\n",
              "  <th>room_num</th>                 <td>    4.0190</td> <td>    0.427</td> <td>    9.421</td> <td> 0.000</td> <td>    3.181</td> <td>    4.857</td>\n",
              "</tr>\n",
              "<tr>\n",
              "  <th>age</th>                      <td>   -0.0057</td> <td>    0.014</td> <td>   -0.420</td> <td> 0.675</td> <td>   -0.032</td> <td>    0.021</td>\n",
              "</tr>\n",
              "<tr>\n",
              "  <th>teachers</th>                 <td>    1.0070</td> <td>    0.122</td> <td>    8.247</td> <td> 0.000</td> <td>    0.767</td> <td>    1.247</td>\n",
              "</tr>\n",
              "<tr>\n",
              "  <th>poor_prop</th>                <td>   -0.5773</td> <td>    0.053</td> <td>  -10.955</td> <td> 0.000</td> <td>   -0.681</td> <td>   -0.474</td>\n",
              "</tr>\n",
              "<tr>\n",
              "  <th>n_hos_beds</th>               <td>    0.3292</td> <td>    0.152</td> <td>    2.163</td> <td> 0.031</td> <td>    0.030</td> <td>    0.628</td>\n",
              "</tr>\n",
              "<tr>\n",
              "  <th>n_hot_rooms</th>              <td>    0.0919</td> <td>    0.082</td> <td>    1.118</td> <td> 0.264</td> <td>   -0.070</td> <td>    0.253</td>\n",
              "</tr>\n",
              "<tr>\n",
              "  <th>rainfall</th>                 <td>    0.0161</td> <td>    0.018</td> <td>    0.904</td> <td> 0.367</td> <td>   -0.019</td> <td>    0.051</td>\n",
              "</tr>\n",
              "<tr>\n",
              "  <th>avg_dist</th>                 <td>   -1.2186</td> <td>    0.189</td> <td>   -6.450</td> <td> 0.000</td> <td>   -1.590</td> <td>   -0.847</td>\n",
              "</tr>\n",
              "<tr>\n",
              "  <th>airport_YES</th>              <td>    1.1315</td> <td>    0.454</td> <td>    2.491</td> <td> 0.013</td> <td>    0.239</td> <td>    2.024</td>\n",
              "</tr>\n",
              "<tr>\n",
              "  <th>waterbody_Lake</th>           <td>    0.2641</td> <td>    0.642</td> <td>    0.411</td> <td> 0.681</td> <td>   -0.997</td> <td>    1.525</td>\n",
              "</tr>\n",
              "<tr>\n",
              "  <th>waterbody_Lake and River</th> <td>   -0.6876</td> <td>    0.714</td> <td>   -0.963</td> <td> 0.336</td> <td>   -2.090</td> <td>    0.715</td>\n",
              "</tr>\n",
              "<tr>\n",
              "  <th>waterbody_River</th>          <td>   -0.2913</td> <td>    0.547</td> <td>   -0.533</td> <td> 0.594</td> <td>   -1.365</td> <td>    0.783</td>\n",
              "</tr>\n",
              "</table>\n",
              "<table class=\"simpletable\">\n",
              "<tr>\n",
              "  <th>Omnibus:</th>       <td>182.596</td> <th>  Durbin-Watson:     </th> <td>   0.990</td> \n",
              "</tr>\n",
              "<tr>\n",
              "  <th>Prob(Omnibus):</th> <td> 0.000</td>  <th>  Jarque-Bera (JB):  </th> <td> 826.137</td> \n",
              "</tr>\n",
              "<tr>\n",
              "  <th>Skew:</th>          <td> 1.554</td>  <th>  Prob(JB):          </th> <td>4.04e-180</td>\n",
              "</tr>\n",
              "<tr>\n",
              "  <th>Kurtosis:</th>      <td> 8.434</td>  <th>  Cond. No.          </th> <td>2.37e+03</td> \n",
              "</tr>\n",
              "</table><br/><br/>Warnings:<br/>[1] Standard Errors assume that the covariance matrix of the errors is correctly specified.<br/>[2] The condition number is large, 2.37e+03. This might indicate that there are<br/>strong multicollinearity or other numerical problems."
            ],
            "text/plain": [
              "<class 'statsmodels.iolib.summary.Summary'>\n",
              "\"\"\"\n",
              "                            OLS Regression Results                            \n",
              "==============================================================================\n",
              "Dep. Variable:                  price   R-squared:                       0.721\n",
              "Model:                            OLS   Adj. R-squared:                  0.712\n",
              "Method:                 Least Squares   F-statistic:                     84.34\n",
              "Date:                Wed, 20 May 2020   Prob (F-statistic):          4.19e-125\n",
              "Time:                        10:37:02   Log-Likelihood:                -1516.6\n",
              "No. Observations:                 506   AIC:                             3065.\n",
              "Df Residuals:                     490   BIC:                             3133.\n",
              "Df Model:                          15                                         \n",
              "Covariance Type:            nonrobust                                         \n",
              "============================================================================================\n",
              "                               coef    std err          t      P>|t|      [0.025      0.975]\n",
              "--------------------------------------------------------------------------------------------\n",
              "const                       -6.4986      5.264     -1.235      0.218     -16.842       3.844\n",
              "crime_rate                   0.0097      0.348      0.028      0.978      -0.674       0.694\n",
              "resid_area                  -0.0409      0.058     -0.710      0.478      -0.154       0.072\n",
              "air_qual                   -15.8974      4.004     -3.971      0.000     -23.764      -8.031\n",
              "room_num                     4.0190      0.427      9.421      0.000       3.181       4.857\n",
              "age                         -0.0057      0.014     -0.420      0.675      -0.032       0.021\n",
              "teachers                     1.0070      0.122      8.247      0.000       0.767       1.247\n",
              "poor_prop                   -0.5773      0.053    -10.955      0.000      -0.681      -0.474\n",
              "n_hos_beds                   0.3292      0.152      2.163      0.031       0.030       0.628\n",
              "n_hot_rooms                  0.0919      0.082      1.118      0.264      -0.070       0.253\n",
              "rainfall                     0.0161      0.018      0.904      0.367      -0.019       0.051\n",
              "avg_dist                    -1.2186      0.189     -6.450      0.000      -1.590      -0.847\n",
              "airport_YES                  1.1315      0.454      2.491      0.013       0.239       2.024\n",
              "waterbody_Lake               0.2641      0.642      0.411      0.681      -0.997       1.525\n",
              "waterbody_Lake and River    -0.6876      0.714     -0.963      0.336      -2.090       0.715\n",
              "waterbody_River             -0.2913      0.547     -0.533      0.594      -1.365       0.783\n",
              "==============================================================================\n",
              "Omnibus:                      182.596   Durbin-Watson:                   0.990\n",
              "Prob(Omnibus):                  0.000   Jarque-Bera (JB):              826.137\n",
              "Skew:                           1.554   Prob(JB):                    4.04e-180\n",
              "Kurtosis:                       8.434   Cond. No.                     2.37e+03\n",
              "==============================================================================\n",
              "\n",
              "Warnings:\n",
              "[1] Standard Errors assume that the covariance matrix of the errors is correctly specified.\n",
              "[2] The condition number is large, 2.37e+03. This might indicate that there are\n",
              "strong multicollinearity or other numerical problems.\n",
              "\"\"\""
            ]
          },
          "metadata": {
            "tags": []
          },
          "execution_count": 125
        }
      ]
    },
    {
      "cell_type": "code",
      "metadata": {
        "id": "LPgrZ-cGqCoA",
        "colab_type": "code",
        "colab": {}
      },
      "source": [
        "lm3 = LinearRegression()"
      ],
      "execution_count": 0,
      "outputs": []
    },
    {
      "cell_type": "code",
      "metadata": {
        "id": "L9jjA4nErQWx",
        "colab_type": "code",
        "colab": {
          "base_uri": "https://localhost:8080/",
          "height": 34
        },
        "outputId": "63b01686-de21-4ec5-d455-0f529a8ebb64"
      },
      "source": [
        "lm3.fit(X_multi,y_multi)"
      ],
      "execution_count": 127,
      "outputs": [
        {
          "output_type": "execute_result",
          "data": {
            "text/plain": [
              "LinearRegression(copy_X=True, fit_intercept=True, n_jobs=None, normalize=False)"
            ]
          },
          "metadata": {
            "tags": []
          },
          "execution_count": 127
        }
      ]
    },
    {
      "cell_type": "code",
      "metadata": {
        "id": "MuSoyrXrrYgj",
        "colab_type": "code",
        "colab": {
          "base_uri": "https://localhost:8080/",
          "height": 85
        },
        "outputId": "a049900d-725d-4cae-eef9-14cda0b0a229"
      },
      "source": [
        "print(lm3.intercept_,lm3.coef_)"
      ],
      "execution_count": 128,
      "outputs": [
        {
          "output_type": "stream",
          "text": [
            "-6.4986251984197985 [ 9.70998193e-03 -4.08746495e-02 -1.58973999e+01  4.01901676e+00\n",
            " -5.71475069e-03  1.00700068e+00 -5.77271243e-01  3.29221139e-01\n",
            "  9.18675603e-02  1.61185504e-02 -1.21863952e+00  1.13151586e+00\n",
            "  2.64086064e-01 -6.87555889e-01 -2.91318712e-01]\n"
          ],
          "name": "stdout"
        }
      ]
    },
    {
      "cell_type": "code",
      "metadata": {
        "id": "NjKkqv1-rfgX",
        "colab_type": "code",
        "colab": {
          "base_uri": "https://localhost:8080/",
          "height": 458
        },
        "outputId": "c48daead-b89b-47a4-d836-61f332f42bc7"
      },
      "source": [
        "sns.jointplot(x = df['airport_YES'],y = df['price'], data = df, kind = 'reg')"
      ],
      "execution_count": 130,
      "outputs": [
        {
          "output_type": "execute_result",
          "data": {
            "text/plain": [
              "<seaborn.axisgrid.JointGrid at 0x7f60fdf1f860>"
            ]
          },
          "metadata": {
            "tags": []
          },
          "execution_count": 130
        },
        {
          "output_type": "display_data",
          "data": {
            "image/png": "[encoded data removed]",
            "text/plain": [
              "<Figure size 432x432 with 3 Axes>"
            ]
          },
          "metadata": {
            "tags": [],
            "needs_background": "light"
          }
        }
      ]
    },
    {
      "cell_type": "code",
      "metadata": {
        "id": "KGZ1oO32rsZJ",
        "colab_type": "code",
        "colab": {
          "base_uri": "https://localhost:8080/",
          "height": 458
        },
        "outputId": "d66c9bcc-2eec-4aec-98cb-519b756e0612"
      },
      "source": [
        "sns.jointplot(x = df['teachers'],y = df['price'], data = df, kind = 'reg')"
      ],
      "execution_count": 135,
      "outputs": [
        {
          "output_type": "execute_result",
          "data": {
            "text/plain": [
              "<seaborn.axisgrid.JointGrid at 0x7f60fda96470>"
            ]
          },
          "metadata": {
            "tags": []
          },
          "execution_count": 135
        },
        {
          "output_type": "display_data",
          "data": {
            "image/png": "[encoded data removed]",
            "text/plain": [
              "<Figure size 432x432 with 3 Axes>"
            ]
          },
          "metadata": {
            "tags": [],
            "needs_background": "light"
          }
        }
      ]
    },
    {
      "cell_type": "code",
      "metadata": {
        "id": "1pYJnKaRsLM6",
        "colab_type": "code",
        "colab": {
          "base_uri": "https://localhost:8080/",
          "height": 458
        },
        "outputId": "d51e36d0-e2d0-4e87-a0a6-6feb3454f371"
      },
      "source": [
        "sns.jointplot(x = df['crime_rate'],y = df['price'], data = df, kind = 'reg')"
      ],
      "execution_count": 136,
      "outputs": [
        {
          "output_type": "execute_result",
          "data": {
            "text/plain": [
              "<seaborn.axisgrid.JointGrid at 0x7f60fde7deb8>"
            ]
          },
          "metadata": {
            "tags": []
          },
          "execution_count": 136
        },
        {
          "output_type": "display_data",
          "data": {
            "image/png": "[encoded data removed]",
            "text/plain": [
              "<Figure size 432x432 with 3 Axes>"
            ]
          },
          "metadata": {
            "tags": [],
            "needs_background": "light"
          }
        }
      ]
    },
    {
      "cell_type": "code",
      "metadata": {
        "id": "hMqpKfsgr_b0",
        "colab_type": "code",
        "colab": {
          "base_uri": "https://localhost:8080/",
          "height": 458
        },
        "outputId": "dc6f82c4-3719-42f8-9978-4342aa54be8c"
      },
      "source": [
        "sns.jointplot(x = df['n_hot_rooms'],y = df['price'], data = df, kind = 'reg')"
      ],
      "execution_count": 138,
      "outputs": [
        {
          "output_type": "execute_result",
          "data": {
            "text/plain": [
              "<seaborn.axisgrid.JointGrid at 0x7f60fd8ae630>"
            ]
          },
          "metadata": {
            "tags": []
          },
          "execution_count": 138
        },
        {
          "output_type": "display_data",
          "data": {
            "image/png": "[encoded data removed]",
            "text/plain": [
              "<Figure size 432x432 with 3 Axes>"
            ]
          },
          "metadata": {
            "tags": [],
            "needs_background": "light"
          }
        }
      ]
    },
    {
      "cell_type": "code",
      "metadata": {
        "id": "4BOXKN16s6AV",
        "colab_type": "code",
        "colab": {
          "base_uri": "https://localhost:8080/",
          "height": 458
        },
        "outputId": "cdf20c14-516d-4113-db4c-e5299999f531"
      },
      "source": [
        "sns.jointplot(x = df['n_hos_beds'],y = df['price'], data = df, kind = 'reg')"
      ],
      "execution_count": 139,
      "outputs": [
        {
          "output_type": "execute_result",
          "data": {
            "text/plain": [
              "<seaborn.axisgrid.JointGrid at 0x7f60fd7189b0>"
            ]
          },
          "metadata": {
            "tags": []
          },
          "execution_count": 139
        },
        {
          "output_type": "display_data",
          "data": {
            "image/png": "[encoded data removed]",
            "text/plain": [
              "<Figure size 432x432 with 3 Axes>"
            ]
          },
          "metadata": {
            "tags": [],
            "needs_background": "light"
          }
        }
      ]
    },
    {
      "cell_type": "code",
      "metadata": {
        "id": "UhggGXTqs8fg",
        "colab_type": "code",
        "colab": {
          "base_uri": "https://localhost:8080/",
          "height": 458
        },
        "outputId": "c2a03442-3de2-4491-c7c8-9caf4c29800c"
      },
      "source": [
        "sns.jointplot(x = df['poor_prop'],y = df['price'], data = df, kind = 'reg')"
      ],
      "execution_count": 140,
      "outputs": [
        {
          "output_type": "execute_result",
          "data": {
            "text/plain": [
              "<seaborn.axisgrid.JointGrid at 0x7f60fd5d44a8>"
            ]
          },
          "metadata": {
            "tags": []
          },
          "execution_count": 140
        },
        {
          "output_type": "display_data",
          "data": {
            "image/png": "[encoded data removed]",
            "text/plain": [
              "<Figure size 432x432 with 3 Axes>"
            ]
          },
          "metadata": {
            "tags": [],
            "needs_background": "light"
          }
        }
      ]
    },
    {
      "cell_type": "code",
      "metadata": {
        "id": "q4l3FrCgtCtI",
        "colab_type": "code",
        "colab": {
          "base_uri": "https://localhost:8080/",
          "height": 458
        },
        "outputId": "32138a7d-3ee9-470c-cc92-0cd589084da6"
      },
      "source": [
        "sns.jointplot(x = df['air_qual'],y = df['price'], data = df, kind = 'reg')"
      ],
      "execution_count": 141,
      "outputs": [
        {
          "output_type": "execute_result",
          "data": {
            "text/plain": [
              "<seaborn.axisgrid.JointGrid at 0x7f60fd4b2358>"
            ]
          },
          "metadata": {
            "tags": []
          },
          "execution_count": 141
        },
        {
          "output_type": "display_data",
          "data": {
            "image/png": "[encoded data removed]",
            "text/plain": [
              "<Figure size 432x432 with 3 Axes>"
            ]
          },
          "metadata": {
            "tags": [],
            "needs_background": "light"
          }
        }
      ]
    },
    {
      "cell_type": "code",
      "metadata": {
        "id": "6KCTs2KRtPRw",
        "colab_type": "code",
        "colab": {
          "base_uri": "https://localhost:8080/",
          "height": 458
        },
        "outputId": "f9effd73-aeae-4313-d1bd-a4fcc89e6b70"
      },
      "source": [
        "sns.jointplot(x = df['avg_dist'],y = df['price'], data = df, kind = 'reg')"
      ],
      "execution_count": 142,
      "outputs": [
        {
          "output_type": "execute_result",
          "data": {
            "text/plain": [
              "<seaborn.axisgrid.JointGrid at 0x7f60fd2bba58>"
            ]
          },
          "metadata": {
            "tags": []
          },
          "execution_count": 142
        },
        {
          "output_type": "display_data",
          "data": {
            "image/png": "[encoded data removed]",
            "text/plain": [
              "<Figure size 432x432 with 3 Axes>"
            ]
          },
          "metadata": {
            "tags": [],
            "needs_background": "light"
          }
        }
      ]
    },
    {
      "cell_type": "code",
      "metadata": {
        "id": "5K6T2coxtRfr",
        "colab_type": "code",
        "colab": {
          "base_uri": "https://localhost:8080/",
          "height": 458
        },
        "outputId": "4a612bb6-614a-4db9-c1bf-9c6ccc656db9"
      },
      "source": [
        "sns.jointplot(x = df['rainfall'],y = df['price'], data = df, kind = 'reg')"
      ],
      "execution_count": 143,
      "outputs": [
        {
          "output_type": "execute_result",
          "data": {
            "text/plain": [
              "<seaborn.axisgrid.JointGrid at 0x7f60fd17c0f0>"
            ]
          },
          "metadata": {
            "tags": []
          },
          "execution_count": 143
        },
        {
          "output_type": "display_data",
          "data": {
            "image/png": "[encoded data removed]",
            "text/plain": [
              "<Figure size 432x432 with 3 Axes>"
            ]
          },
          "metadata": {
            "tags": [],
            "needs_background": "light"
          }
        }
      ]
    },
    {
      "cell_type": "code",
      "metadata": {
        "id": "UKRRSWzete93",
        "colab_type": "code",
        "colab": {}
      },
      "source": [
        "from sklearn.model_selection import train_test_split"
      ],
      "execution_count": 0,
      "outputs": []
    },
    {
      "cell_type": "code",
      "metadata": {
        "id": "YA7Oq6H6v9w4",
        "colab_type": "code",
        "colab": {}
      },
      "source": [
        "X_train, X_test, y_train, y_test = train_test_split(X_multi,y_multi,test_size= 0.2, random_state = 0)"
      ],
      "execution_count": 0,
      "outputs": []
    },
    {
      "cell_type": "code",
      "metadata": {
        "id": "ZGvOdKf8wOIe",
        "colab_type": "code",
        "colab": {
          "base_uri": "https://localhost:8080/",
          "height": 34
        },
        "outputId": "9158c411-a5af-44dc-91b9-862cbf189a77"
      },
      "source": [
        "X_train.shape"
      ],
      "execution_count": 147,
      "outputs": [
        {
          "output_type": "execute_result",
          "data": {
            "text/plain": [
              "(404, 15)"
            ]
          },
          "metadata": {
            "tags": []
          },
          "execution_count": 147
        }
      ]
    },
    {
      "cell_type": "code",
      "metadata": {
        "id": "5HAusTD5wRrC",
        "colab_type": "code",
        "colab": {
          "base_uri": "https://localhost:8080/",
          "height": 34
        },
        "outputId": "675bed0b-3543-4ef6-91a8-6de6274cf42e"
      },
      "source": [
        "X_test.shape"
      ],
      "execution_count": 148,
      "outputs": [
        {
          "output_type": "execute_result",
          "data": {
            "text/plain": [
              "(102, 15)"
            ]
          },
          "metadata": {
            "tags": []
          },
          "execution_count": 148
        }
      ]
    },
    {
      "cell_type": "code",
      "metadata": {
        "id": "qG1-gGIcwWXN",
        "colab_type": "code",
        "colab": {}
      },
      "source": [
        "lm_a = LinearRegression()"
      ],
      "execution_count": 0,
      "outputs": []
    },
    {
      "cell_type": "code",
      "metadata": {
        "id": "h2FBpJHFwQWe",
        "colab_type": "code",
        "colab": {
          "base_uri": "https://localhost:8080/",
          "height": 34
        },
        "outputId": "c6e55abd-0c27-420a-cf5c-39533d3d2940"
      },
      "source": [
        "lm_a.fit(X_train,y_train)"
      ],
      "execution_count": 150,
      "outputs": [
        {
          "output_type": "execute_result",
          "data": {
            "text/plain": [
              "LinearRegression(copy_X=True, fit_intercept=True, n_jobs=None, normalize=False)"
            ]
          },
          "metadata": {
            "tags": []
          },
          "execution_count": 150
        }
      ]
    },
    {
      "cell_type": "code",
      "metadata": {
        "id": "TbE5JzkVwfXo",
        "colab_type": "code",
        "colab": {}
      },
      "source": [
        "y_test_a = lm_a.predict(X_test)"
      ],
      "execution_count": 0,
      "outputs": []
    },
    {
      "cell_type": "code",
      "metadata": {
        "id": "naRWbES-wnJ9",
        "colab_type": "code",
        "colab": {}
      },
      "source": [
        "y_train_a = lm_a.predict(X_train)"
      ],
      "execution_count": 0,
      "outputs": []
    },
    {
      "cell_type": "code",
      "metadata": {
        "id": "m6RrhRmewuHd",
        "colab_type": "code",
        "colab": {}
      },
      "source": [
        "from sklearn.metrics import r2_score"
      ],
      "execution_count": 0,
      "outputs": []
    },
    {
      "cell_type": "code",
      "metadata": {
        "id": "hxKyLpM5w9ei",
        "colab_type": "code",
        "colab": {
          "base_uri": "https://localhost:8080/",
          "height": 34
        },
        "outputId": "e3e10a92-ca98-4401-b9fb-ebe3d44977d5"
      },
      "source": [
        "r2_score(y_test,y_test_a)"
      ],
      "execution_count": 155,
      "outputs": [
        {
          "output_type": "execute_result",
          "data": {
            "text/plain": [
              "0.5496468288205678"
            ]
          },
          "metadata": {
            "tags": []
          },
          "execution_count": 155
        }
      ]
    },
    {
      "cell_type": "code",
      "metadata": {
        "id": "ighaOSIZxT2E",
        "colab_type": "code",
        "colab": {
          "base_uri": "https://localhost:8080/",
          "height": 34
        },
        "outputId": "2d7f0f82-1eb7-43c6-d4a1-55fdfe76174a"
      },
      "source": [
        "r2_score(y_train,y_train_a)"
      ],
      "execution_count": 156,
      "outputs": [
        {
          "output_type": "execute_result",
          "data": {
            "text/plain": [
              "0.756463540591123"
            ]
          },
          "metadata": {
            "tags": []
          },
          "execution_count": 156
        }
      ]
    }
  ]
}