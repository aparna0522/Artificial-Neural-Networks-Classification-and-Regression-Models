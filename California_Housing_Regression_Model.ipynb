{
  "nbformat": 4,
  "nbformat_minor": 0,
  "metadata": {
    "colab": {
      "name": "California_Housing_Regression_Model.ipynb",
      "provenance": []
    },
    "kernelspec": {
      "name": "python3",
      "display_name": "Python 3"
    }
  },
  "cells": [
    {
      "cell_type": "code",
      "metadata": {
        "id": "1CNgB2Osl2dN",
        "colab_type": "code",
        "colab": {}
      },
      "source": [
        "import numpy as np\n",
        "import pandas as pd\n",
        "%matplotlib inline\n",
        "import matplotlib as mpl\n",
        "import matplotlib.pyplot as plt"
      ],
      "execution_count": 0,
      "outputs": []
    },
    {
      "cell_type": "code",
      "metadata": {
        "id": "SYXO6c9KmNI8",
        "colab_type": "code",
        "colab": {}
      },
      "source": [
        "import tensorflow as tf\n",
        "from tensorflow import keras"
      ],
      "execution_count": 0,
      "outputs": []
    },
    {
      "cell_type": "code",
      "metadata": {
        "id": "JwjXwh0EmaQA",
        "colab_type": "code",
        "colab": {}
      },
      "source": [
        "from sklearn.datasets import fetch_california_housing\n",
        "housing = fetch_california_housing()"
      ],
      "execution_count": 0,
      "outputs": []
    },
    {
      "cell_type": "code",
      "metadata": {
        "id": "CnxnUKPRmx_7",
        "colab_type": "code",
        "colab": {
          "base_uri": "https://localhost:8080/",
          "height": 34
        },
        "outputId": "6de99ceb-4a8e-4c61-d667-f963fc762551"
      },
      "source": [
        "print(housing.feature_names)"
      ],
      "execution_count": 6,
      "outputs": [
        {
          "output_type": "stream",
          "text": [
            "['MedInc', 'HouseAge', 'AveRooms', 'AveBedrms', 'Population', 'AveOccup', 'Latitude', 'Longitude']\n"
          ],
          "name": "stdout"
        }
      ]
    },
    {
      "cell_type": "code",
      "metadata": {
        "id": "e70T9IxSn2Wd",
        "colab_type": "code",
        "colab": {}
      },
      "source": [
        "from sklearn.model_selection import train_test_split\n",
        "X_train_full, X_test, y_train_full, y_test = train_test_split(housing.data,housing.target,random_state = 42)\n",
        "X_train, X_valid, y_train, y_valid = train_test_split(X_train_full, y_train_full,random_state=42)"
      ],
      "execution_count": 0,
      "outputs": []
    },
    {
      "cell_type": "code",
      "metadata": {
        "id": "COJLVVFYo6sg",
        "colab_type": "code",
        "colab": {}
      },
      "source": [
        "from sklearn.preprocessing import StandardScaler\n",
        "scaler = StandardScaler()\n",
        "X_train = scaler.fit_transform(X_train)\n",
        "X_valid = scaler.transform(X_valid)\n",
        "X_test = scaler.transform(X_test)"
      ],
      "execution_count": 0,
      "outputs": []
    },
    {
      "cell_type": "code",
      "metadata": {
        "id": "zZ5Q_FMyxn2D",
        "colab_type": "code",
        "colab": {}
      },
      "source": [
        "np.random.seed(32)\n",
        "tf.random.set_seed(32)"
      ],
      "execution_count": 0,
      "outputs": []
    },
    {
      "cell_type": "code",
      "metadata": {
        "id": "7Eaa7atbx5rA",
        "colab_type": "code",
        "colab": {
          "base_uri": "https://localhost:8080/",
          "height": 34
        },
        "outputId": "146aeaa5-61b8-49de-9c6f-864dc365a257"
      },
      "source": [
        "X_train.shape"
      ],
      "execution_count": 12,
      "outputs": [
        {
          "output_type": "execute_result",
          "data": {
            "text/plain": [
              "(11610, 8)"
            ]
          },
          "metadata": {
            "tags": []
          },
          "execution_count": 12
        }
      ]
    },
    {
      "cell_type": "code",
      "metadata": {
        "id": "YWOzsT56x-Ib",
        "colab_type": "code",
        "colab": {}
      },
      "source": [
        "model = keras.models.Sequential([\n",
        "                                keras.layers.Dense(30, activation= \"relu\", input_shape=[8]),\n",
        "                                keras.layers.Dense(30, activation= \"relu\"),\n",
        "                                keras.layers.Dense(1)\n",
        "])"
      ],
      "execution_count": 0,
      "outputs": []
    },
    {
      "cell_type": "code",
      "metadata": {
        "id": "1jrtFTPoy2-i",
        "colab_type": "code",
        "colab": {}
      },
      "source": [
        "model.compile(loss=\"mean_squared_error\",\n",
        "              optimizer = keras.optimizers.SGD(lr=1e-3),\n",
        "              metrics=[\"mae\"])"
      ],
      "execution_count": 0,
      "outputs": []
    },
    {
      "cell_type": "code",
      "metadata": {
        "id": "LQHpGQ8QztOB",
        "colab_type": "code",
        "colab": {
          "base_uri": "https://localhost:8080/",
          "height": 697
        },
        "outputId": "773b5ec0-b9b6-4874-efcd-153846b6be38"
      },
      "source": [
        "model_history = model.fit(X_train,y_train,epochs=20,\n",
        "                          validation_data=(X_valid,y_valid))"
      ],
      "execution_count": 22,
      "outputs": [
        {
          "output_type": "stream",
          "text": [
            "Epoch 1/20\n",
            "363/363 [==============================] - 1s 1ms/step - loss: 0.3872 - mae: 0.4435 - val_loss: 0.3601 - val_mae: 0.4272\n",
            "Epoch 2/20\n",
            "363/363 [==============================] - 1s 2ms/step - loss: 0.3842 - mae: 0.4422 - val_loss: 0.4471 - val_mae: 0.4339\n",
            "Epoch 3/20\n",
            "363/363 [==============================] - 1s 1ms/step - loss: 0.3833 - mae: 0.4415 - val_loss: 0.3608 - val_mae: 0.4269\n",
            "Epoch 4/20\n",
            "363/363 [==============================] - 1s 2ms/step - loss: 0.3810 - mae: 0.4404 - val_loss: 0.3552 - val_mae: 0.4233\n",
            "Epoch 5/20\n",
            "363/363 [==============================] - 1s 2ms/step - loss: 0.3787 - mae: 0.4388 - val_loss: 0.3576 - val_mae: 0.4241\n",
            "Epoch 6/20\n",
            "363/363 [==============================] - 1s 2ms/step - loss: 0.3770 - mae: 0.4378 - val_loss: 0.3759 - val_mae: 0.4270\n",
            "Epoch 7/20\n",
            "363/363 [==============================] - 1s 2ms/step - loss: 0.3759 - mae: 0.4375 - val_loss: 0.3583 - val_mae: 0.4210\n",
            "Epoch 8/20\n",
            "363/363 [==============================] - 1s 2ms/step - loss: 0.3739 - mae: 0.4356 - val_loss: 0.3658 - val_mae: 0.4246\n",
            "Epoch 9/20\n",
            "363/363 [==============================] - 1s 1ms/step - loss: 0.3729 - mae: 0.4355 - val_loss: 0.3878 - val_mae: 0.4272\n",
            "Epoch 10/20\n",
            "363/363 [==============================] - 1s 1ms/step - loss: 0.3720 - mae: 0.4345 - val_loss: 0.3532 - val_mae: 0.4209\n",
            "Epoch 11/20\n",
            "363/363 [==============================] - 1s 2ms/step - loss: 0.3705 - mae: 0.4336 - val_loss: 0.3488 - val_mae: 0.4194\n",
            "Epoch 12/20\n",
            "363/363 [==============================] - 1s 2ms/step - loss: 0.3692 - mae: 0.4327 - val_loss: 0.3614 - val_mae: 0.4217\n",
            "Epoch 13/20\n",
            "363/363 [==============================] - 1s 1ms/step - loss: 0.3687 - mae: 0.4328 - val_loss: 0.3478 - val_mae: 0.4177\n",
            "Epoch 14/20\n",
            "363/363 [==============================] - 1s 2ms/step - loss: 0.3673 - mae: 0.4321 - val_loss: 0.3972 - val_mae: 0.4214\n",
            "Epoch 15/20\n",
            "363/363 [==============================] - 1s 1ms/step - loss: 0.3662 - mae: 0.4308 - val_loss: 0.3512 - val_mae: 0.4180\n",
            "Epoch 16/20\n",
            "363/363 [==============================] - 1s 2ms/step - loss: 0.3654 - mae: 0.4303 - val_loss: 0.3553 - val_mae: 0.4185\n",
            "Epoch 17/20\n",
            "363/363 [==============================] - 1s 2ms/step - loss: 0.3649 - mae: 0.4302 - val_loss: 0.3507 - val_mae: 0.4171\n",
            "Epoch 18/20\n",
            "363/363 [==============================] - 1s 2ms/step - loss: 0.3641 - mae: 0.4291 - val_loss: 0.3748 - val_mae: 0.4201\n",
            "Epoch 19/20\n",
            "363/363 [==============================] - 1s 1ms/step - loss: 0.3632 - mae: 0.4292 - val_loss: 0.3406 - val_mae: 0.4157\n",
            "Epoch 20/20\n",
            "363/363 [==============================] - 1s 1ms/step - loss: 0.3618 - mae: 0.4281 - val_loss: 0.3772 - val_mae: 0.4178\n"
          ],
          "name": "stdout"
        }
      ]
    },
    {
      "cell_type": "code",
      "metadata": {
        "id": "MDHw-aNR0N0V",
        "colab_type": "code",
        "colab": {
          "base_uri": "https://localhost:8080/",
          "height": 34
        },
        "outputId": "b6b3449d-0c4b-4f67-a555-0eb3f1679072"
      },
      "source": [
        "mae_test = model.evaluate(X_test,y_test)"
      ],
      "execution_count": 23,
      "outputs": [
        {
          "output_type": "stream",
          "text": [
            "162/162 [==============================] - 0s 1ms/step - loss: 0.3582 - mae: 0.4222\n"
          ],
          "name": "stdout"
        }
      ]
    },
    {
      "cell_type": "code",
      "metadata": {
        "id": "ydJBHJQm0c9G",
        "colab_type": "code",
        "colab": {
          "base_uri": "https://localhost:8080/",
          "height": 1000
        },
        "outputId": "85a319ed-58ab-4d41-8de2-bae1bff67c28"
      },
      "source": [
        "model_history.history"
      ],
      "execution_count": 24,
      "outputs": [
        {
          "output_type": "execute_result",
          "data": {
            "text/plain": [
              "{'loss': [0.3871939182281494,\n",
              "  0.3842352032661438,\n",
              "  0.38326337933540344,\n",
              "  0.38097289204597473,\n",
              "  0.3787151873111725,\n",
              "  0.3769945502281189,\n",
              "  0.37593168020248413,\n",
              "  0.37388187646865845,\n",
              "  0.3728957772254944,\n",
              "  0.3720382750034332,\n",
              "  0.3704846501350403,\n",
              "  0.36919066309928894,\n",
              "  0.3687005937099457,\n",
              "  0.36732783913612366,\n",
              "  0.36624088883399963,\n",
              "  0.3653586208820343,\n",
              "  0.3648591935634613,\n",
              "  0.36405149102211,\n",
              "  0.36321455240249634,\n",
              "  0.3618339002132416],\n",
              " 'mae': [0.4434793293476105,\n",
              "  0.4422095715999603,\n",
              "  0.44147157669067383,\n",
              "  0.44043511152267456,\n",
              "  0.4388093948364258,\n",
              "  0.43775272369384766,\n",
              "  0.4374983608722687,\n",
              "  0.43557778000831604,\n",
              "  0.43551990389823914,\n",
              "  0.43445393443107605,\n",
              "  0.4335545003414154,\n",
              "  0.432735800743103,\n",
              "  0.4328337013721466,\n",
              "  0.43210285902023315,\n",
              "  0.430829256772995,\n",
              "  0.43025779724121094,\n",
              "  0.4301880896091461,\n",
              "  0.4291030466556549,\n",
              "  0.4292386770248413,\n",
              "  0.42805448174476624],\n",
              " 'val_loss': [0.36013129353523254,\n",
              "  0.4470835030078888,\n",
              "  0.36082199215888977,\n",
              "  0.35522913932800293,\n",
              "  0.35756969451904297,\n",
              "  0.3759494125843048,\n",
              "  0.35827329754829407,\n",
              "  0.36580890417099,\n",
              "  0.3878163695335388,\n",
              "  0.3532024621963501,\n",
              "  0.3488045930862427,\n",
              "  0.36142125725746155,\n",
              "  0.3478052616119385,\n",
              "  0.3972040116786957,\n",
              "  0.3511994481086731,\n",
              "  0.35530683398246765,\n",
              "  0.3506811261177063,\n",
              "  0.3748205006122589,\n",
              "  0.34058862924575806,\n",
              "  0.37716084718704224],\n",
              " 'val_mae': [0.42720890045166016,\n",
              "  0.4339402914047241,\n",
              "  0.42691588401794434,\n",
              "  0.42330145835876465,\n",
              "  0.42412203550338745,\n",
              "  0.42700380086898804,\n",
              "  0.4209502041339874,\n",
              "  0.42464280128479004,\n",
              "  0.42717623710632324,\n",
              "  0.42094504833221436,\n",
              "  0.4194238483905792,\n",
              "  0.4216800034046173,\n",
              "  0.4177258610725403,\n",
              "  0.42138198018074036,\n",
              "  0.41803720593452454,\n",
              "  0.41846731305122375,\n",
              "  0.4171360731124878,\n",
              "  0.42005059123039246,\n",
              "  0.41573962569236755,\n",
              "  0.4178251624107361]}"
            ]
          },
          "metadata": {
            "tags": []
          },
          "execution_count": 24
        }
      ]
    },
    {
      "cell_type": "code",
      "metadata": {
        "id": "LHYuHJbI0FzV",
        "colab_type": "code",
        "colab": {
          "base_uri": "https://localhost:8080/",
          "height": 324
        },
        "outputId": "64f0ee1f-8772-45e2-abd4-8b6875f258e2"
      },
      "source": [
        "import pandas as pd\n",
        "pd.DataFrame(model_history.history).plot(figsize=(8,5))\n",
        "plt.grid(True)\n",
        "plt.gca().set_ylim(0,1)\n",
        "plt.show()"
      ],
      "execution_count": 25,
      "outputs": [
        {
          "output_type": "display_data",
          "data": {
            "image/png": "[encoded data removed]",
            "text/plain": [
              "<Figure size 576x360 with 1 Axes>"
            ]
          },
          "metadata": {
            "tags": [],
            "needs_background": "light"
          }
        }
      ]
    }
  ]
}