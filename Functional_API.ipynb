{
  "nbformat": 4,
  "nbformat_minor": 0,
  "metadata": {
    "colab": {
      "name": "Functional API.ipynb",
      "provenance": []
    },
    "kernelspec": {
      "name": "python3",
      "display_name": "Python 3"
    }
  },
  "cells": [
    {
      "cell_type": "code",
      "metadata": {
        "id": "YsLepXPbVsqo",
        "colab_type": "code",
        "colab": {}
      },
      "source": [
        "import numpy as np\n",
        "import pandas as pd\n",
        "%matplotlib inline\n",
        "import matplotlib as mpl\n",
        "import matplotlib.pyplot as plt"
      ],
      "execution_count": 0,
      "outputs": []
    },
    {
      "cell_type": "code",
      "metadata": {
        "id": "cfrktqwRYHAL",
        "colab_type": "code",
        "colab": {}
      },
      "source": [
        "import tensorflow as tf\n",
        "from tensorflow import keras"
      ],
      "execution_count": 0,
      "outputs": []
    },
    {
      "cell_type": "code",
      "metadata": {
        "id": "HjtMqoR6YJ-P",
        "colab_type": "code",
        "colab": {}
      },
      "source": [
        "from sklearn.datasets import fetch_california_housing\n",
        "housing = fetch_california_housing()"
      ],
      "execution_count": 0,
      "outputs": []
    },
    {
      "cell_type": "code",
      "metadata": {
        "id": "DbP1QTLLYM5a",
        "colab_type": "code",
        "colab": {}
      },
      "source": [
        "from sklearn.model_selection import train_test_split\n",
        "X_train_full, X_test, y_train_full, y_test = train_test_split(housing.data,housing.target,random_state = 42)\n",
        "X_train, X_valid, y_train, y_valid = train_test_split(X_train_full, y_train_full,random_state=42)"
      ],
      "execution_count": 0,
      "outputs": []
    },
    {
      "cell_type": "code",
      "metadata": {
        "id": "XC4cDsLHYPs1",
        "colab_type": "code",
        "colab": {}
      },
      "source": [
        "from sklearn.preprocessing import StandardScaler\n",
        "scaler = StandardScaler()\n",
        "X_train = scaler.fit_transform(X_train)\n",
        "X_valid = scaler.transform(X_valid)\n",
        "X_test = scaler.transform(X_test)"
      ],
      "execution_count": 0,
      "outputs": []
    },
    {
      "cell_type": "code",
      "metadata": {
        "id": "gaoDta27YQz_",
        "colab_type": "code",
        "colab": {}
      },
      "source": [
        "np.random.seed(42)\n",
        "tf.random.set_seed(42)"
      ],
      "execution_count": 0,
      "outputs": []
    },
    {
      "cell_type": "code",
      "metadata": {
        "id": "PDEsBcQXYVII",
        "colab_type": "code",
        "colab": {}
      },
      "source": [
        "input_ = keras.layers.Input(shape = X_train.shape[1:])\n",
        "hidden1 = keras.layers.Dense(30, activation=\"relu\")(input_)\n",
        "hidden2 = keras.layers.Dense(30, activation=\"relu\")(hidden1)\n",
        "concat = keras.layers.concatenate([input_,hidden2])\n",
        "output = keras.layers.Dense(1)(concat)\n",
        "model = keras.models.Model(inputs = [input_], outputs = [output])"
      ],
      "execution_count": 0,
      "outputs": []
    },
    {
      "cell_type": "code",
      "metadata": {
        "id": "n6PxUITvZ-ux",
        "colab_type": "code",
        "outputId": "45ad368b-91d8-4095-f01e-a197ded9117a",
        "colab": {
          "base_uri": "https://localhost:8080/",
          "height": 340
        }
      },
      "source": [
        "model.summary()"
      ],
      "execution_count": 22,
      "outputs": [
        {
          "output_type": "stream",
          "text": [
            "Model: \"model_1\"\n",
            "__________________________________________________________________________________________________\n",
            "Layer (type)                    Output Shape         Param #     Connected to                     \n",
            "==================================================================================================\n",
            "input_2 (InputLayer)            [(None, 8)]          0                                            \n",
            "__________________________________________________________________________________________________\n",
            "dense_3 (Dense)                 (None, 30)           270         input_2[0][0]                    \n",
            "__________________________________________________________________________________________________\n",
            "dense_4 (Dense)                 (None, 30)           930         dense_3[0][0]                    \n",
            "__________________________________________________________________________________________________\n",
            "concatenate_1 (Concatenate)     (None, 38)           0           input_2[0][0]                    \n",
            "                                                                 dense_4[0][0]                    \n",
            "__________________________________________________________________________________________________\n",
            "dense_5 (Dense)                 (None, 1)            39          concatenate_1[0][0]              \n",
            "==================================================================================================\n",
            "Total params: 1,239\n",
            "Trainable params: 1,239\n",
            "Non-trainable params: 0\n",
            "__________________________________________________________________________________________________\n"
          ],
          "name": "stdout"
        }
      ]
    },
    {
      "cell_type": "code",
      "metadata": {
        "id": "sihjx7PHbNZ7",
        "colab_type": "code",
        "colab": {}
      },
      "source": [
        "model.compile(loss=\"mean_squared_error\",\n",
        "              optimizer = keras.optimizers.SGD(lr=1e-3),\n",
        "              metrics=[\"mae\"])"
      ],
      "execution_count": 0,
      "outputs": []
    },
    {
      "cell_type": "code",
      "metadata": {
        "id": "DtFzqg1Fci1-",
        "colab_type": "code",
        "outputId": "57806981-a595-46a3-950b-37f844167795",
        "colab": {
          "base_uri": "https://localhost:8080/",
          "height": 1000
        }
      },
      "source": [
        "model_history= model.fit(X_train,y_train,epochs=40,\n",
        "                         validation_data=(X_valid,y_valid))"
      ],
      "execution_count": 29,
      "outputs": [
        {
          "output_type": "stream",
          "text": [
            "Epoch 1/40\n",
            "363/363 [==============================] - 1s 1ms/step - loss: 0.3034 - mae: 0.3840 - val_loss: 0.3161 - val_mae: 0.3816\n",
            "Epoch 2/40\n",
            "363/363 [==============================] - 1s 1ms/step - loss: 0.3033 - mae: 0.3834 - val_loss: 0.3351 - val_mae: 0.3866\n",
            "Epoch 3/40\n",
            "363/363 [==============================] - 1s 1ms/step - loss: 0.3031 - mae: 0.3837 - val_loss: 0.3165 - val_mae: 0.3809\n",
            "Epoch 4/40\n",
            "363/363 [==============================] - 1s 1ms/step - loss: 0.3031 - mae: 0.3834 - val_loss: 0.2947 - val_mae: 0.3807\n",
            "Epoch 5/40\n",
            "363/363 [==============================] - 1s 1ms/step - loss: 0.3030 - mae: 0.3832 - val_loss: 0.3093 - val_mae: 0.3831\n",
            "Epoch 6/40\n",
            "363/363 [==============================] - 1s 1ms/step - loss: 0.3027 - mae: 0.3836 - val_loss: 0.3162 - val_mae: 0.3814\n",
            "Epoch 7/40\n",
            "363/363 [==============================] - 1s 1ms/step - loss: 0.3027 - mae: 0.3831 - val_loss: 0.3014 - val_mae: 0.3804\n",
            "Epoch 8/40\n",
            "363/363 [==============================] - 1s 1ms/step - loss: 0.3024 - mae: 0.3829 - val_loss: 0.3067 - val_mae: 0.3814\n",
            "Epoch 9/40\n",
            "363/363 [==============================] - 1s 1ms/step - loss: 0.3020 - mae: 0.3831 - val_loss: 0.3247 - val_mae: 0.3799\n",
            "Epoch 10/40\n",
            "363/363 [==============================] - 1s 1ms/step - loss: 0.3019 - mae: 0.3826 - val_loss: 0.3171 - val_mae: 0.3798\n",
            "Epoch 11/40\n",
            "363/363 [==============================] - 1s 1ms/step - loss: 0.3018 - mae: 0.3824 - val_loss: 0.2962 - val_mae: 0.3794\n",
            "Epoch 12/40\n",
            "363/363 [==============================] - 1s 1ms/step - loss: 0.3018 - mae: 0.3825 - val_loss: 0.3532 - val_mae: 0.3837\n",
            "Epoch 13/40\n",
            "363/363 [==============================] - 1s 1ms/step - loss: 0.3014 - mae: 0.3822 - val_loss: 0.3091 - val_mae: 0.3825\n",
            "Epoch 14/40\n",
            "363/363 [==============================] - 1s 1ms/step - loss: 0.3011 - mae: 0.3821 - val_loss: 0.3029 - val_mae: 0.3807\n",
            "Epoch 15/40\n",
            "363/363 [==============================] - 1s 2ms/step - loss: 0.3011 - mae: 0.3822 - val_loss: 0.3105 - val_mae: 0.3810\n",
            "Epoch 16/40\n",
            "363/363 [==============================] - 1s 1ms/step - loss: 0.3010 - mae: 0.3823 - val_loss: 0.2921 - val_mae: 0.3777\n",
            "Epoch 17/40\n",
            "363/363 [==============================] - 1s 1ms/step - loss: 0.3007 - mae: 0.3818 - val_loss: 0.3289 - val_mae: 0.3821\n",
            "Epoch 18/40\n",
            "363/363 [==============================] - 1s 2ms/step - loss: 0.3009 - mae: 0.3820 - val_loss: 0.2999 - val_mae: 0.3771\n",
            "Epoch 19/40\n",
            "363/363 [==============================] - 1s 1ms/step - loss: 0.3004 - mae: 0.3816 - val_loss: 0.3080 - val_mae: 0.3794\n",
            "Epoch 20/40\n",
            "363/363 [==============================] - 1s 2ms/step - loss: 0.3003 - mae: 0.3813 - val_loss: 0.3346 - val_mae: 0.3826\n",
            "Epoch 21/40\n",
            "363/363 [==============================] - 1s 1ms/step - loss: 0.3000 - mae: 0.3812 - val_loss: 0.3103 - val_mae: 0.3821\n",
            "Epoch 22/40\n",
            "363/363 [==============================] - 1s 1ms/step - loss: 0.2998 - mae: 0.3817 - val_loss: 0.3410 - val_mae: 0.3855\n",
            "Epoch 23/40\n",
            "363/363 [==============================] - 1s 2ms/step - loss: 0.2996 - mae: 0.3814 - val_loss: 0.2913 - val_mae: 0.3734\n",
            "Epoch 24/40\n",
            "363/363 [==============================] - 1s 1ms/step - loss: 0.2996 - mae: 0.3808 - val_loss: 0.3279 - val_mae: 0.3808\n",
            "Epoch 25/40\n",
            "363/363 [==============================] - 1s 1ms/step - loss: 0.2993 - mae: 0.3810 - val_loss: 0.3231 - val_mae: 0.3803\n",
            "Epoch 26/40\n",
            "363/363 [==============================] - 1s 1ms/step - loss: 0.2992 - mae: 0.3807 - val_loss: 0.3257 - val_mae: 0.3809\n",
            "Epoch 27/40\n",
            "363/363 [==============================] - 1s 2ms/step - loss: 0.2991 - mae: 0.3809 - val_loss: 0.2905 - val_mae: 0.3758\n",
            "Epoch 28/40\n",
            "363/363 [==============================] - 1s 1ms/step - loss: 0.2991 - mae: 0.3804 - val_loss: 0.3141 - val_mae: 0.3815\n",
            "Epoch 29/40\n",
            "363/363 [==============================] - 1s 1ms/step - loss: 0.2988 - mae: 0.3805 - val_loss: 0.3036 - val_mae: 0.3795\n",
            "Epoch 30/40\n",
            "363/363 [==============================] - 1s 1ms/step - loss: 0.2986 - mae: 0.3804 - val_loss: 0.3329 - val_mae: 0.3808\n",
            "Epoch 31/40\n",
            "363/363 [==============================] - 1s 1ms/step - loss: 0.2984 - mae: 0.3798 - val_loss: 0.2928 - val_mae: 0.3780\n",
            "Epoch 32/40\n",
            "363/363 [==============================] - 1s 1ms/step - loss: 0.2982 - mae: 0.3803 - val_loss: 0.3318 - val_mae: 0.3826\n",
            "Epoch 33/40\n",
            "363/363 [==============================] - 1s 1ms/step - loss: 0.2981 - mae: 0.3801 - val_loss: 0.2946 - val_mae: 0.3765\n",
            "Epoch 34/40\n",
            "363/363 [==============================] - 1s 1ms/step - loss: 0.2978 - mae: 0.3797 - val_loss: 0.2927 - val_mae: 0.3777\n",
            "Epoch 35/40\n",
            "363/363 [==============================] - 1s 1ms/step - loss: 0.2978 - mae: 0.3799 - val_loss: 0.3409 - val_mae: 0.3850\n",
            "Epoch 36/40\n",
            "363/363 [==============================] - 1s 1ms/step - loss: 0.2976 - mae: 0.3796 - val_loss: 0.2891 - val_mae: 0.3749\n",
            "Epoch 37/40\n",
            "363/363 [==============================] - 1s 1ms/step - loss: 0.2978 - mae: 0.3799 - val_loss: 0.3206 - val_mae: 0.3807\n",
            "Epoch 38/40\n",
            "363/363 [==============================] - 1s 1ms/step - loss: 0.2973 - mae: 0.3795 - val_loss: 0.2937 - val_mae: 0.3771\n",
            "Epoch 39/40\n",
            "363/363 [==============================] - 1s 1ms/step - loss: 0.2970 - mae: 0.3796 - val_loss: 0.3110 - val_mae: 0.3786\n",
            "Epoch 40/40\n",
            "363/363 [==============================] - 1s 1ms/step - loss: 0.2969 - mae: 0.3791 - val_loss: 0.3003 - val_mae: 0.3753\n"
          ],
          "name": "stdout"
        }
      ]
    },
    {
      "cell_type": "code",
      "metadata": {
        "id": "9G0KwFd3cuix",
        "colab_type": "code",
        "outputId": "26b511bd-ce6d-4f20-d26d-75c8acb22d70",
        "colab": {
          "base_uri": "https://localhost:8080/",
          "height": 34
        }
      },
      "source": [
        "model_history.params"
      ],
      "execution_count": 33,
      "outputs": [
        {
          "output_type": "execute_result",
          "data": {
            "text/plain": [
              "{'epochs': 40, 'steps': 363, 'verbose': 1}"
            ]
          },
          "metadata": {
            "tags": []
          },
          "execution_count": 33
        }
      ]
    },
    {
      "cell_type": "code",
      "metadata": {
        "id": "4KivMgAYc8UZ",
        "colab_type": "code",
        "outputId": "a30f8598-9a20-4534-f892-de1d375175cf",
        "colab": {
          "base_uri": "https://localhost:8080/",
          "height": 34
        }
      },
      "source": [
        "mae_test = model.evaluate(X_test,y_test)"
      ],
      "execution_count": 34,
      "outputs": [
        {
          "output_type": "stream",
          "text": [
            "162/162 [==============================] - 0s 940us/step - loss: 0.3103 - mae: 0.3827\n"
          ],
          "name": "stdout"
        }
      ]
    },
    {
      "cell_type": "code",
      "metadata": {
        "id": "83BZ9-6adK88",
        "colab_type": "code",
        "outputId": "74b09594-8e57-4f42-ed63-132369cc34f6",
        "colab": {
          "base_uri": "https://localhost:8080/",
          "height": 1000
        }
      },
      "source": [
        "model_history.history"
      ],
      "execution_count": 35,
      "outputs": [
        {
          "output_type": "execute_result",
          "data": {
            "text/plain": [
              "{'loss': [0.3033663034439087,\n",
              "  0.3032679259777069,\n",
              "  0.3031320571899414,\n",
              "  0.3030550479888916,\n",
              "  0.3030036389827728,\n",
              "  0.3026753067970276,\n",
              "  0.3026503324508667,\n",
              "  0.30235806107521057,\n",
              "  0.3019903600215912,\n",
              "  0.30190539360046387,\n",
              "  0.30182504653930664,\n",
              "  0.301766037940979,\n",
              "  0.30135637521743774,\n",
              "  0.30109477043151855,\n",
              "  0.3011488616466522,\n",
              "  0.30104362964630127,\n",
              "  0.3006712794303894,\n",
              "  0.30088528990745544,\n",
              "  0.30044689774513245,\n",
              "  0.30029311776161194,\n",
              "  0.30003610253334045,\n",
              "  0.2997983992099762,\n",
              "  0.2996404469013214,\n",
              "  0.2996070683002472,\n",
              "  0.2993360757827759,\n",
              "  0.29923492670059204,\n",
              "  0.2991189956665039,\n",
              "  0.299096018075943,\n",
              "  0.2987900674343109,\n",
              "  0.29863372445106506,\n",
              "  0.2984253764152527,\n",
              "  0.29823705554008484,\n",
              "  0.2981349229812622,\n",
              "  0.2977520525455475,\n",
              "  0.2977698743343353,\n",
              "  0.29763832688331604,\n",
              "  0.2977755069732666,\n",
              "  0.29731762409210205,\n",
              "  0.29702356457710266,\n",
              "  0.29685723781585693],\n",
              " 'mae': [0.3839725852012634,\n",
              "  0.38342174887657166,\n",
              "  0.3837081491947174,\n",
              "  0.38339006900787354,\n",
              "  0.3832266628742218,\n",
              "  0.38355299830436707,\n",
              "  0.38307473063468933,\n",
              "  0.38291582465171814,\n",
              "  0.38306736946105957,\n",
              "  0.38261374831199646,\n",
              "  0.3823506832122803,\n",
              "  0.3824951946735382,\n",
              "  0.38215917348861694,\n",
              "  0.3821336627006531,\n",
              "  0.3821655511856079,\n",
              "  0.38234153389930725,\n",
              "  0.38180115818977356,\n",
              "  0.3819718658924103,\n",
              "  0.38155508041381836,\n",
              "  0.3812633454799652,\n",
              "  0.3811878263950348,\n",
              "  0.38165634870529175,\n",
              "  0.3814125061035156,\n",
              "  0.38083112239837646,\n",
              "  0.3809695541858673,\n",
              "  0.3806992769241333,\n",
              "  0.380860835313797,\n",
              "  0.3803958296775818,\n",
              "  0.38046470284461975,\n",
              "  0.38037627935409546,\n",
              "  0.37978270649909973,\n",
              "  0.38034042716026306,\n",
              "  0.38005974888801575,\n",
              "  0.37967589497566223,\n",
              "  0.3799207806587219,\n",
              "  0.37963855266571045,\n",
              "  0.3798852860927582,\n",
              "  0.3794870674610138,\n",
              "  0.37963536381721497,\n",
              "  0.37911245226860046],\n",
              " 'val_loss': [0.31610655784606934,\n",
              "  0.33510953187942505,\n",
              "  0.3164755403995514,\n",
              "  0.29472973942756653,\n",
              "  0.30926430225372314,\n",
              "  0.3161647915840149,\n",
              "  0.3013734817504883,\n",
              "  0.3066980242729187,\n",
              "  0.324679970741272,\n",
              "  0.31711268424987793,\n",
              "  0.29617375135421753,\n",
              "  0.35318300127983093,\n",
              "  0.30912721157073975,\n",
              "  0.3028811812400818,\n",
              "  0.3105074167251587,\n",
              "  0.2921345829963684,\n",
              "  0.3289181590080261,\n",
              "  0.2998877465724945,\n",
              "  0.30798375606536865,\n",
              "  0.3345935046672821,\n",
              "  0.3102642893791199,\n",
              "  0.34104225039482117,\n",
              "  0.2912733852863312,\n",
              "  0.32789450883865356,\n",
              "  0.32313066720962524,\n",
              "  0.32568106055259705,\n",
              "  0.29051387310028076,\n",
              "  0.3140953481197357,\n",
              "  0.30356356501579285,\n",
              "  0.33286699652671814,\n",
              "  0.2928473651409149,\n",
              "  0.3317815065383911,\n",
              "  0.2945922315120697,\n",
              "  0.2926596403121948,\n",
              "  0.34091508388519287,\n",
              "  0.28911665081977844,\n",
              "  0.3205512464046478,\n",
              "  0.2936519384384155,\n",
              "  0.3109618127346039,\n",
              "  0.30027657747268677],\n",
              " 'val_mae': [0.3816019892692566,\n",
              "  0.38663017749786377,\n",
              "  0.38093945384025574,\n",
              "  0.3807006776332855,\n",
              "  0.38314518332481384,\n",
              "  0.3814394176006317,\n",
              "  0.38039055466651917,\n",
              "  0.3814064860343933,\n",
              "  0.37987637519836426,\n",
              "  0.37984585762023926,\n",
              "  0.3794349730014801,\n",
              "  0.38369759917259216,\n",
              "  0.3825250566005707,\n",
              "  0.38065075874328613,\n",
              "  0.3810345530509949,\n",
              "  0.37768712639808655,\n",
              "  0.38210028409957886,\n",
              "  0.3770725727081299,\n",
              "  0.37941646575927734,\n",
              "  0.3826083540916443,\n",
              "  0.38212814927101135,\n",
              "  0.3854953348636627,\n",
              "  0.373442679643631,\n",
              "  0.38080358505249023,\n",
              "  0.3803305923938751,\n",
              "  0.38085421919822693,\n",
              "  0.3758244812488556,\n",
              "  0.3815033733844757,\n",
              "  0.3795090317726135,\n",
              "  0.3807899057865143,\n",
              "  0.3779911994934082,\n",
              "  0.38260504603385925,\n",
              "  0.37646615505218506,\n",
              "  0.377708375453949,\n",
              "  0.3850039541721344,\n",
              "  0.37489616870880127,\n",
              "  0.3806966543197632,\n",
              "  0.37714019417762756,\n",
              "  0.3785649538040161,\n",
              "  0.37532317638397217]}"
            ]
          },
          "metadata": {
            "tags": []
          },
          "execution_count": 35
        }
      ]
    },
    {
      "cell_type": "code",
      "metadata": {
        "id": "kSmVbSJWdNeS",
        "colab_type": "code",
        "outputId": "db6a3cb6-6f97-4e4b-b9f1-1226cfb987e9",
        "colab": {
          "base_uri": "https://localhost:8080/",
          "height": 324
        }
      },
      "source": [
        "pd.DataFrame(model_history.history).plot(figsize=(8,5))\n",
        "plt.grid(True)\n",
        "plt.gca().set_ylim(0,1)\n",
        "plt.show()"
      ],
      "execution_count": 36,
      "outputs": [
        {
          "output_type": "display_data",
          "data": {
            "image/png": "[encoded data removed]",
            "text/plain": [
              "<Figure size 576x360 with 1 Axes>"
            ]
          },
          "metadata": {
            "tags": [],
            "needs_background": "light"
          }
        }
      ]
    }
  ]
}